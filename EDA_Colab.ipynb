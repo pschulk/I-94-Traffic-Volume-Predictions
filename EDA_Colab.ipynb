{
 "cells": [
  {
   "cell_type": "markdown",
   "metadata": {},
   "source": [
    "# Capstone Notebook"
   ]
  },
  {
   "cell_type": "markdown",
   "metadata": {},
   "source": [
    "# Stakeholder and Business Problem\n",
    "\n",
    "This project is intended to provide the Minnesota Department of Transportation (MNDOT) with information and recommendations about what factors lead to heavy traffic volume and if anything can be done along I-94 to mitigate these factors. The dataset was pulled from the [UCI Machine Learning Repository](https://archive.ics.uci.edu/ml/datasets/Metro+Interstate+Traffic+Volume#)."
   ]
  },
  {
   "cell_type": "code",
   "execution_count": 45,
   "metadata": {
    "nbgrader": {
     "grade": false,
     "grade_id": "0d38786c25982cb53f9a4a1b6e96c717",
     "locked": false,
     "schema_version": 3,
     "solution": true,
     "task": false
    }
   },
   "outputs": [
    {
     "name": "stdout",
     "output_type": "stream",
     "text": [
      "The autotime extension is already loaded. To reload it, use:\n",
      "  %reload_ext autotime\n",
      "time: 0 ns (started: 2023-04-09 13:06:48 -06:00)\n"
     ]
    }
   ],
   "source": [
    "# Import tools and libraries\n",
    "import pandas as pd\n",
    "import numpy as np\n",
    "\n",
    "from statsmodels.tsa.arima.model import ARIMA\n",
    "from sklearn.metrics import mean_squared_error\n",
    "\n",
    "import matplotlib\n",
    "import matplotlib.pyplot as plt\n",
    "%matplotlib inline\n",
    "import seaborn as sns\n",
    "sns.set(font_scale = 1)\n",
    "\n",
    "# try:\n",
    "    # %load_ext autotime\n",
    "# except:\n",
    "    # !pip install ipython-autotime\n",
    "    # %load_ext autotime\n",
    "    \n",
    "%load_ext autotime"
   ]
  },
  {
   "cell_type": "code",
   "execution_count": 46,
   "metadata": {},
   "outputs": [
    {
     "name": "stdout",
     "output_type": "stream",
     "text": [
      "time: 78 ms (started: 2023-04-09 13:06:48 -06:00)\n"
     ]
    }
   ],
   "source": [
    "# Read in traffic data\n",
    "df = pd.read_csv('data\\Metro_Interstate_Traffic_Volume.csv')\n",
    "df_noaa = pd.read_csv('data/noaa_data.csv')"
   ]
  },
  {
   "cell_type": "code",
   "execution_count": 47,
   "metadata": {},
   "outputs": [
    {
     "data": {
      "text/html": [
       "<div>\n",
       "<style scoped>\n",
       "    .dataframe tbody tr th:only-of-type {\n",
       "        vertical-align: middle;\n",
       "    }\n",
       "\n",
       "    .dataframe tbody tr th {\n",
       "        vertical-align: top;\n",
       "    }\n",
       "\n",
       "    .dataframe thead th {\n",
       "        text-align: right;\n",
       "    }\n",
       "</style>\n",
       "<table border=\"1\" class=\"dataframe\">\n",
       "  <thead>\n",
       "    <tr style=\"text-align: right;\">\n",
       "      <th></th>\n",
       "      <th>holiday</th>\n",
       "      <th>temp</th>\n",
       "      <th>rain_1h</th>\n",
       "      <th>snow_1h</th>\n",
       "      <th>clouds_all</th>\n",
       "      <th>weather_main</th>\n",
       "      <th>weather_description</th>\n",
       "      <th>date_time</th>\n",
       "      <th>traffic_volume</th>\n",
       "    </tr>\n",
       "  </thead>\n",
       "  <tbody>\n",
       "    <tr>\n",
       "      <th>0</th>\n",
       "      <td>None</td>\n",
       "      <td>288.28</td>\n",
       "      <td>0.0</td>\n",
       "      <td>0.0</td>\n",
       "      <td>40</td>\n",
       "      <td>Clouds</td>\n",
       "      <td>scattered clouds</td>\n",
       "      <td>2012-10-02 09:00:00</td>\n",
       "      <td>5545</td>\n",
       "    </tr>\n",
       "    <tr>\n",
       "      <th>1</th>\n",
       "      <td>None</td>\n",
       "      <td>289.36</td>\n",
       "      <td>0.0</td>\n",
       "      <td>0.0</td>\n",
       "      <td>75</td>\n",
       "      <td>Clouds</td>\n",
       "      <td>broken clouds</td>\n",
       "      <td>2012-10-02 10:00:00</td>\n",
       "      <td>4516</td>\n",
       "    </tr>\n",
       "    <tr>\n",
       "      <th>2</th>\n",
       "      <td>None</td>\n",
       "      <td>289.58</td>\n",
       "      <td>0.0</td>\n",
       "      <td>0.0</td>\n",
       "      <td>90</td>\n",
       "      <td>Clouds</td>\n",
       "      <td>overcast clouds</td>\n",
       "      <td>2012-10-02 11:00:00</td>\n",
       "      <td>4767</td>\n",
       "    </tr>\n",
       "    <tr>\n",
       "      <th>3</th>\n",
       "      <td>None</td>\n",
       "      <td>290.13</td>\n",
       "      <td>0.0</td>\n",
       "      <td>0.0</td>\n",
       "      <td>90</td>\n",
       "      <td>Clouds</td>\n",
       "      <td>overcast clouds</td>\n",
       "      <td>2012-10-02 12:00:00</td>\n",
       "      <td>5026</td>\n",
       "    </tr>\n",
       "    <tr>\n",
       "      <th>4</th>\n",
       "      <td>None</td>\n",
       "      <td>291.14</td>\n",
       "      <td>0.0</td>\n",
       "      <td>0.0</td>\n",
       "      <td>75</td>\n",
       "      <td>Clouds</td>\n",
       "      <td>broken clouds</td>\n",
       "      <td>2012-10-02 13:00:00</td>\n",
       "      <td>4918</td>\n",
       "    </tr>\n",
       "  </tbody>\n",
       "</table>\n",
       "</div>"
      ],
      "text/plain": [
       "  holiday    temp  rain_1h  snow_1h  clouds_all weather_main  \\\n",
       "0    None  288.28      0.0      0.0          40       Clouds   \n",
       "1    None  289.36      0.0      0.0          75       Clouds   \n",
       "2    None  289.58      0.0      0.0          90       Clouds   \n",
       "3    None  290.13      0.0      0.0          90       Clouds   \n",
       "4    None  291.14      0.0      0.0          75       Clouds   \n",
       "\n",
       "  weather_description            date_time  traffic_volume  \n",
       "0    scattered clouds  2012-10-02 09:00:00            5545  \n",
       "1       broken clouds  2012-10-02 10:00:00            4516  \n",
       "2     overcast clouds  2012-10-02 11:00:00            4767  \n",
       "3     overcast clouds  2012-10-02 12:00:00            5026  \n",
       "4       broken clouds  2012-10-02 13:00:00            4918  "
      ]
     },
     "execution_count": 47,
     "metadata": {},
     "output_type": "execute_result"
    },
    {
     "name": "stdout",
     "output_type": "stream",
     "text": [
      "time: 16 ms (started: 2023-04-09 13:06:48 -06:00)\n"
     ]
    }
   ],
   "source": [
    "# Previewing data\n",
    "df.head()"
   ]
  },
  {
   "cell_type": "markdown",
   "metadata": {},
   "source": [
    "Per the UCI website that hosts the data, the feature descriptions are as follows:\n",
    "\n",
    "holiday: Categorical US National holidays plus regional holiday, Minnesota State Fair<br>\n",
    "temp: Numeric Average temp in kelvin<br>\n",
    "rain_1h: Numeric Amount in mm of rain that occurred in the hour<br>\n",
    "snow_1h: Numeric Amount in mm of snow that occurred in the hour<br>\n",
    "clouds_all: Numeric Percentage of cloud cover<br>\n",
    "weather_main: Categorical Short textual description of the current weather<br>\n",
    "weather_description: Categorical Longer textual description of the current weather<br>\n",
    "date_time: DateTime Hour of the data collected in local CST time<br>\n",
    "traffic_volume: Numeric Hourly I-94 ATR 301 reported westbound traffic volume<br>"
   ]
  },
  {
   "cell_type": "markdown",
   "metadata": {},
   "source": [
    "# EDA\n",
    "\n",
    "Let's take a look at the first variable in our dataset, *temp*."
   ]
  },
  {
   "cell_type": "code",
   "execution_count": 48,
   "metadata": {},
   "outputs": [
    {
     "data": {
      "image/png": "[encoded data removed]",
      "text/plain": [
       "<Figure size 864x576 with 1 Axes>"
      ]
     },
     "metadata": {},
     "output_type": "display_data"
    },
    {
     "name": "stdout",
     "output_type": "stream",
     "text": [
      "time: 219 ms (started: 2023-04-09 13:06:48 -06:00)\n"
     ]
    }
   ],
   "source": [
    "# Plotting temperature over time for entire dataset\n",
    "fig, ax = plt.subplots(figsize=(12,8))\n",
    "plt.plot(df['temp'], color = \"black\")\n",
    "\n",
    "ax.set_xlabel('date_time');\n",
    "ax.set_ylabel('temp')\n",
    "ax.set_title('temperature over time');"
   ]
  },
  {
   "cell_type": "markdown",
   "metadata": {},
   "source": [
    "It appears that the temperature follows an expected seasonal pattern except for a smattering of values that are listed as zero. Let's explore where those values are."
   ]
  },
  {
   "cell_type": "code",
   "execution_count": 49,
   "metadata": {},
   "outputs": [
    {
     "data": {
      "text/html": [
       "<div>\n",
       "<style scoped>\n",
       "    .dataframe tbody tr th:only-of-type {\n",
       "        vertical-align: middle;\n",
       "    }\n",
       "\n",
       "    .dataframe tbody tr th {\n",
       "        vertical-align: top;\n",
       "    }\n",
       "\n",
       "    .dataframe thead th {\n",
       "        text-align: right;\n",
       "    }\n",
       "</style>\n",
       "<table border=\"1\" class=\"dataframe\">\n",
       "  <thead>\n",
       "    <tr style=\"text-align: right;\">\n",
       "      <th></th>\n",
       "      <th>holiday</th>\n",
       "      <th>temp</th>\n",
       "      <th>rain_1h</th>\n",
       "      <th>snow_1h</th>\n",
       "      <th>clouds_all</th>\n",
       "      <th>weather_main</th>\n",
       "      <th>weather_description</th>\n",
       "      <th>date_time</th>\n",
       "      <th>traffic_volume</th>\n",
       "    </tr>\n",
       "  </thead>\n",
       "  <tbody>\n",
       "    <tr>\n",
       "      <th>11898</th>\n",
       "      <td>None</td>\n",
       "      <td>0.0</td>\n",
       "      <td>0.0</td>\n",
       "      <td>0.0</td>\n",
       "      <td>0</td>\n",
       "      <td>Clear</td>\n",
       "      <td>sky is clear</td>\n",
       "      <td>2014-01-31 03:00:00</td>\n",
       "      <td>361</td>\n",
       "    </tr>\n",
       "    <tr>\n",
       "      <th>11899</th>\n",
       "      <td>None</td>\n",
       "      <td>0.0</td>\n",
       "      <td>0.0</td>\n",
       "      <td>0.0</td>\n",
       "      <td>0</td>\n",
       "      <td>Clear</td>\n",
       "      <td>sky is clear</td>\n",
       "      <td>2014-01-31 04:00:00</td>\n",
       "      <td>734</td>\n",
       "    </tr>\n",
       "    <tr>\n",
       "      <th>11900</th>\n",
       "      <td>None</td>\n",
       "      <td>0.0</td>\n",
       "      <td>0.0</td>\n",
       "      <td>0.0</td>\n",
       "      <td>0</td>\n",
       "      <td>Clear</td>\n",
       "      <td>sky is clear</td>\n",
       "      <td>2014-01-31 05:00:00</td>\n",
       "      <td>2557</td>\n",
       "    </tr>\n",
       "    <tr>\n",
       "      <th>11901</th>\n",
       "      <td>None</td>\n",
       "      <td>0.0</td>\n",
       "      <td>0.0</td>\n",
       "      <td>0.0</td>\n",
       "      <td>0</td>\n",
       "      <td>Clear</td>\n",
       "      <td>sky is clear</td>\n",
       "      <td>2014-01-31 06:00:00</td>\n",
       "      <td>5150</td>\n",
       "    </tr>\n",
       "    <tr>\n",
       "      <th>11946</th>\n",
       "      <td>None</td>\n",
       "      <td>0.0</td>\n",
       "      <td>0.0</td>\n",
       "      <td>0.0</td>\n",
       "      <td>0</td>\n",
       "      <td>Clear</td>\n",
       "      <td>sky is clear</td>\n",
       "      <td>2014-02-02 03:00:00</td>\n",
       "      <td>291</td>\n",
       "    </tr>\n",
       "    <tr>\n",
       "      <th>11947</th>\n",
       "      <td>None</td>\n",
       "      <td>0.0</td>\n",
       "      <td>0.0</td>\n",
       "      <td>0.0</td>\n",
       "      <td>0</td>\n",
       "      <td>Clear</td>\n",
       "      <td>sky is clear</td>\n",
       "      <td>2014-02-02 04:00:00</td>\n",
       "      <td>284</td>\n",
       "    </tr>\n",
       "    <tr>\n",
       "      <th>11948</th>\n",
       "      <td>None</td>\n",
       "      <td>0.0</td>\n",
       "      <td>0.0</td>\n",
       "      <td>0.0</td>\n",
       "      <td>0</td>\n",
       "      <td>Clear</td>\n",
       "      <td>sky is clear</td>\n",
       "      <td>2014-02-02 05:00:00</td>\n",
       "      <td>434</td>\n",
       "    </tr>\n",
       "    <tr>\n",
       "      <th>11949</th>\n",
       "      <td>None</td>\n",
       "      <td>0.0</td>\n",
       "      <td>0.0</td>\n",
       "      <td>0.0</td>\n",
       "      <td>0</td>\n",
       "      <td>Clear</td>\n",
       "      <td>sky is clear</td>\n",
       "      <td>2014-02-02 06:00:00</td>\n",
       "      <td>739</td>\n",
       "    </tr>\n",
       "    <tr>\n",
       "      <th>11950</th>\n",
       "      <td>None</td>\n",
       "      <td>0.0</td>\n",
       "      <td>0.0</td>\n",
       "      <td>0.0</td>\n",
       "      <td>0</td>\n",
       "      <td>Clear</td>\n",
       "      <td>sky is clear</td>\n",
       "      <td>2014-02-02 07:00:00</td>\n",
       "      <td>962</td>\n",
       "    </tr>\n",
       "    <tr>\n",
       "      <th>11951</th>\n",
       "      <td>None</td>\n",
       "      <td>0.0</td>\n",
       "      <td>0.0</td>\n",
       "      <td>0.0</td>\n",
       "      <td>0</td>\n",
       "      <td>Clear</td>\n",
       "      <td>sky is clear</td>\n",
       "      <td>2014-02-02 08:00:00</td>\n",
       "      <td>1670</td>\n",
       "    </tr>\n",
       "  </tbody>\n",
       "</table>\n",
       "</div>"
      ],
      "text/plain": [
       "      holiday  temp  rain_1h  snow_1h  clouds_all weather_main  \\\n",
       "11898    None   0.0      0.0      0.0           0        Clear   \n",
       "11899    None   0.0      0.0      0.0           0        Clear   \n",
       "11900    None   0.0      0.0      0.0           0        Clear   \n",
       "11901    None   0.0      0.0      0.0           0        Clear   \n",
       "11946    None   0.0      0.0      0.0           0        Clear   \n",
       "11947    None   0.0      0.0      0.0           0        Clear   \n",
       "11948    None   0.0      0.0      0.0           0        Clear   \n",
       "11949    None   0.0      0.0      0.0           0        Clear   \n",
       "11950    None   0.0      0.0      0.0           0        Clear   \n",
       "11951    None   0.0      0.0      0.0           0        Clear   \n",
       "\n",
       "      weather_description            date_time  traffic_volume  \n",
       "11898        sky is clear  2014-01-31 03:00:00             361  \n",
       "11899        sky is clear  2014-01-31 04:00:00             734  \n",
       "11900        sky is clear  2014-01-31 05:00:00            2557  \n",
       "11901        sky is clear  2014-01-31 06:00:00            5150  \n",
       "11946        sky is clear  2014-02-02 03:00:00             291  \n",
       "11947        sky is clear  2014-02-02 04:00:00             284  \n",
       "11948        sky is clear  2014-02-02 05:00:00             434  \n",
       "11949        sky is clear  2014-02-02 06:00:00             739  \n",
       "11950        sky is clear  2014-02-02 07:00:00             962  \n",
       "11951        sky is clear  2014-02-02 08:00:00            1670  "
      ]
     },
     "execution_count": 49,
     "metadata": {},
     "output_type": "execute_result"
    },
    {
     "name": "stdout",
     "output_type": "stream",
     "text": [
      "time: 16 ms (started: 2023-04-09 13:06:48 -06:00)\n"
     ]
    }
   ],
   "source": [
    "# Viewing zero values for the 'temp' column\n",
    "df[df['temp'] == 0]"
   ]
  },
  {
   "cell_type": "markdown",
   "metadata": {},
   "source": [
    "There are two days in early 2014 that have a few hours with the temperature listed at zero. We know that the 'temp' column is listed in units of Kelvin; zero degrees Kelvin is the lowest limit of the thermodynamic temperature scale where atoms/particles stop moving so it is safe to assume this data is not accurate.\n",
    "\n",
    "To fix this, we'll take a look at the recorded temperatures immediately before and after the inaccurate temperature data and fill them in with the average value."
   ]
  },
  {
   "cell_type": "code",
   "execution_count": 50,
   "metadata": {},
   "outputs": [
    {
     "data": {
      "text/plain": [
       "(11897    255.93\n",
       " 11898      0.00\n",
       " 11899      0.00\n",
       " 11900      0.00\n",
       " 11901      0.00\n",
       " 11902    255.93\n",
       " Name: temp, dtype: float64,\n",
       " 11945    255.37\n",
       " 11946      0.00\n",
       " 11947      0.00\n",
       " 11948      0.00\n",
       " 11949      0.00\n",
       " 11950      0.00\n",
       " 11951      0.00\n",
       " 11952    255.62\n",
       " Name: temp, dtype: float64)"
      ]
     },
     "execution_count": 50,
     "metadata": {},
     "output_type": "execute_result"
    },
    {
     "name": "stdout",
     "output_type": "stream",
     "text": [
      "time: 16 ms (started: 2023-04-09 13:06:48 -06:00)\n"
     ]
    }
   ],
   "source": [
    "# Viewing temperature values immediately before and after the inaccurate data\n",
    "df['temp'].loc[11897:11902], df['temp'].loc[11945:11952]"
   ]
  },
  {
   "cell_type": "code",
   "execution_count": 51,
   "metadata": {},
   "outputs": [
    {
     "name": "stdout",
     "output_type": "stream",
     "text": [
      "time: 0 ns (started: 2023-04-09 13:06:49 -06:00)\n"
     ]
    },
    {
     "name": "stderr",
     "output_type": "stream",
     "text": [
      "C:\\Users\\pschu\\anaconda3\\envs\\learn-env\\lib\\site-packages\\pandas\\core\\indexing.py:670: SettingWithCopyWarning: \n",
      "A value is trying to be set on a copy of a slice from a DataFrame\n",
      "\n",
      "See the caveats in the documentation: https://pandas.pydata.org/pandas-docs/stable/user_guide/indexing.html#returning-a-view-versus-a-copy\n",
      "  iloc._setitem_with_indexer(indexer, value)\n"
     ]
    }
   ],
   "source": [
    "# Setting inaccurate values to be equal to the average of the values immediately before and after\n",
    "df['temp'].loc[11898:11901] = (df['temp'].loc[11897] + df['temp'].loc[11902]) / 2\n",
    "df['temp'].loc[11946:11951] = (df['temp'].loc[11945] + df['temp'].loc[11952]) / 2"
   ]
  },
  {
   "cell_type": "code",
   "execution_count": 52,
   "metadata": {},
   "outputs": [
    {
     "name": "stdout",
     "output_type": "stream",
     "text": [
      "11897    255.93\n",
      "11898    255.93\n",
      "11899    255.93\n",
      "11900    255.93\n",
      "11901    255.93\n",
      "11902    255.93\n",
      "Name: temp, dtype: float64 11944    255.480\n",
      "11945    255.370\n",
      "11946    255.495\n",
      "11947    255.495\n",
      "11948    255.495\n",
      "11949    255.495\n",
      "11950    255.495\n",
      "11951    255.495\n",
      "11952    255.620\n",
      "Name: temp, dtype: float64\n"
     ]
    },
    {
     "data": {
      "image/png": "[encoded data removed]",
      "text/plain": [
       "<Figure size 864x576 with 1 Axes>"
      ]
     },
     "metadata": {},
     "output_type": "display_data"
    },
    {
     "name": "stdout",
     "output_type": "stream",
     "text": [
      "time: 219 ms (started: 2023-04-09 13:06:49 -06:00)\n"
     ]
    }
   ],
   "source": [
    "# Checking results\n",
    "print(df['temp'].loc[11897:11902], df['temp'].loc[11944:11952])\n",
    "\n",
    "# Plotting again for visual inspection\n",
    "fig, ax = plt.subplots(figsize=(12,8))\n",
    "plt.plot(df['temp'], color = \"black\", label='Temp')\n",
    "\n",
    "ax.set_xlabel('date_time')\n",
    "ax.set_ylabel('temp')\n",
    "ax.set_title('temperature over time');"
   ]
  },
  {
   "cell_type": "markdown",
   "metadata": {},
   "source": [
    "The plot looks better now that we've filled in the zero values for the temperature data. It follows the expected seasonal trend of decreasing temperatures as winter approaches and increasing temperatures as summer approaches. Next let's visually inspect the other numeric variables in the dataset: *rain_1h*, *snow_1h*, *clouds_all*, and *traffic_volume*."
   ]
  },
  {
   "cell_type": "code",
   "execution_count": 53,
   "metadata": {},
   "outputs": [
    {
     "data": {
      "text/plain": [
       "Text(0.5, 1.0, 'traffic_volume')"
      ]
     },
     "execution_count": 53,
     "metadata": {},
     "output_type": "execute_result"
    },
    {
     "data": {
      "image/png": "[encoded data removed]",
      "text/plain": [
       "<Figure size 1152x864 with 4 Axes>"
      ]
     },
     "metadata": {},
     "output_type": "display_data"
    },
    {
     "name": "stdout",
     "output_type": "stream",
     "text": [
      "time: 719 ms (started: 2023-04-09 13:06:49 -06:00)\n"
     ]
    }
   ],
   "source": [
    "fig, axes = plt.subplots(2, 2, sharex=True, figsize=(16,12))\n",
    "axes[0, 0].plot(df['rain_1h']); axes[0, 0].set_title('rain_1h')\n",
    "axes[0, 1].plot(df['snow_1h']); axes[0, 1].set_title('snow_1h')\n",
    "axes[1, 0].plot(df['clouds_all']); axes[1, 0].set_title('clouds_all')\n",
    "axes[1, 1].plot(df['traffic_volume']); axes[1, 1].set_title('traffic_volume')"
   ]
  },
  {
   "cell_type": "markdown",
   "metadata": {},
   "source": [
    "*clouds_all* and *traffic_volume* appear to have normal values across the dataset but there are some odd looking spikes in the data for *rain_1h* and *snow_1h*. Both of these are measured in millimeters. It's unlikely that a singular day or hour produced almost 10,000 mm of rain and the snow values are suspiciously low for a state as far North as Minnesota.\n",
    "\n",
    "To fix this, I obtained a dataset compiled by the [National Oceanic and Atmospheric Administration (NOAA)](https://www.ncdc.noaa.gov/cdo-web/datasets/GHCND/stations/GHCND:USW00014922/detail). The dataset provides daily weather data gathered by a weather station at the Minneapolis St. Paul International Airport and will be used to fix the issues with the UCI dataset."
   ]
  },
  {
   "cell_type": "code",
   "execution_count": 54,
   "metadata": {},
   "outputs": [
    {
     "data": {
      "text/html": [
       "<div>\n",
       "<style scoped>\n",
       "    .dataframe tbody tr th:only-of-type {\n",
       "        vertical-align: middle;\n",
       "    }\n",
       "\n",
       "    .dataframe tbody tr th {\n",
       "        vertical-align: top;\n",
       "    }\n",
       "\n",
       "    .dataframe thead th {\n",
       "        text-align: right;\n",
       "    }\n",
       "</style>\n",
       "<table border=\"1\" class=\"dataframe\">\n",
       "  <thead>\n",
       "    <tr style=\"text-align: right;\">\n",
       "      <th></th>\n",
       "      <th>holiday</th>\n",
       "      <th>temp</th>\n",
       "      <th>rain_1h</th>\n",
       "      <th>snow_1h</th>\n",
       "      <th>clouds_all</th>\n",
       "      <th>weather_main</th>\n",
       "      <th>weather_description</th>\n",
       "      <th>date_time</th>\n",
       "      <th>traffic_volume</th>\n",
       "    </tr>\n",
       "  </thead>\n",
       "  <tbody>\n",
       "    <tr>\n",
       "      <th>24872</th>\n",
       "      <td>None</td>\n",
       "      <td>302.11</td>\n",
       "      <td>9831.30</td>\n",
       "      <td>0.0</td>\n",
       "      <td>75</td>\n",
       "      <td>Rain</td>\n",
       "      <td>very heavy rain</td>\n",
       "      <td>2016-07-11 17:00:00</td>\n",
       "      <td>5535</td>\n",
       "    </tr>\n",
       "    <tr>\n",
       "      <th>8247</th>\n",
       "      <td>None</td>\n",
       "      <td>289.10</td>\n",
       "      <td>55.63</td>\n",
       "      <td>0.0</td>\n",
       "      <td>68</td>\n",
       "      <td>Rain</td>\n",
       "      <td>very heavy rain</td>\n",
       "      <td>2013-08-07 02:00:00</td>\n",
       "      <td>315</td>\n",
       "    </tr>\n",
       "    <tr>\n",
       "      <th>7179</th>\n",
       "      <td>None</td>\n",
       "      <td>295.82</td>\n",
       "      <td>44.45</td>\n",
       "      <td>0.0</td>\n",
       "      <td>76</td>\n",
       "      <td>Rain</td>\n",
       "      <td>very heavy rain</td>\n",
       "      <td>2013-06-24 11:00:00</td>\n",
       "      <td>4802</td>\n",
       "    </tr>\n",
       "    <tr>\n",
       "      <th>25779</th>\n",
       "      <td>None</td>\n",
       "      <td>297.71</td>\n",
       "      <td>31.75</td>\n",
       "      <td>0.0</td>\n",
       "      <td>0</td>\n",
       "      <td>Rain</td>\n",
       "      <td>very heavy rain</td>\n",
       "      <td>2016-08-16 17:00:00</td>\n",
       "      <td>4913</td>\n",
       "    </tr>\n",
       "    <tr>\n",
       "      <th>10807</th>\n",
       "      <td>None</td>\n",
       "      <td>264.50</td>\n",
       "      <td>28.70</td>\n",
       "      <td>0.0</td>\n",
       "      <td>64</td>\n",
       "      <td>Snow</td>\n",
       "      <td>light snow</td>\n",
       "      <td>2013-12-19 23:00:00</td>\n",
       "      <td>1190</td>\n",
       "    </tr>\n",
       "  </tbody>\n",
       "</table>\n",
       "</div>"
      ],
      "text/plain": [
       "      holiday    temp  rain_1h  snow_1h  clouds_all weather_main  \\\n",
       "24872    None  302.11  9831.30      0.0          75         Rain   \n",
       "8247     None  289.10    55.63      0.0          68         Rain   \n",
       "7179     None  295.82    44.45      0.0          76         Rain   \n",
       "25779    None  297.71    31.75      0.0           0         Rain   \n",
       "10807    None  264.50    28.70      0.0          64         Snow   \n",
       "\n",
       "      weather_description            date_time  traffic_volume  \n",
       "24872     very heavy rain  2016-07-11 17:00:00            5535  \n",
       "8247      very heavy rain  2013-08-07 02:00:00             315  \n",
       "7179      very heavy rain  2013-06-24 11:00:00            4802  \n",
       "25779     very heavy rain  2016-08-16 17:00:00            4913  \n",
       "10807          light snow  2013-12-19 23:00:00            1190  "
      ]
     },
     "execution_count": 54,
     "metadata": {},
     "output_type": "execute_result"
    },
    {
     "name": "stdout",
     "output_type": "stream",
     "text": [
      "time: 31 ms (started: 2023-04-09 13:06:50 -06:00)\n"
     ]
    }
   ],
   "source": [
    "# Top 5 hourly rainfall values\n",
    "df.sort_values(by='rain_1h', ascending=False).head()"
   ]
  },
  {
   "cell_type": "code",
   "execution_count": 55,
   "metadata": {},
   "outputs": [
    {
     "data": {
      "text/plain": [
       "10.72"
      ]
     },
     "execution_count": 55,
     "metadata": {},
     "output_type": "execute_result"
    },
    {
     "name": "stdout",
     "output_type": "stream",
     "text": [
      "time: 0 ns (started: 2023-04-09 13:06:50 -06:00)\n"
     ]
    }
   ],
   "source": [
    "# Totalling snowfall values across entire dataset\n",
    "df['snow_1h'].sum()"
   ]
  },
  {
   "cell_type": "markdown",
   "metadata": {},
   "source": [
    "It's highly unlikely that 9,831 mm (approximately 32 feet!) of rain fell in one hour. It's also extremely unlikely that the total amount of snowfall listed across the entire dataset is 10.72 mm (0.42 inches). To fix this, we'll make some changes to the *date_time* column and the overall dataframe until we have a daily time series with complete and sensible values."
   ]
  },
  {
   "cell_type": "code",
   "execution_count": 56,
   "metadata": {},
   "outputs": [
    {
     "name": "stdout",
     "output_type": "stream",
     "text": [
      "time: 422 ms (started: 2023-04-09 13:06:50 -06:00)\n"
     ]
    }
   ],
   "source": [
    "# Converting date_time column from object to datetime\n",
    "df['date_time'] = pd.to_datetime(df['date_time'], infer_datetime_format=True)\n",
    "\n",
    "# Extracting various date and time values from date_time column\n",
    "df['date'] = df['date_time'].dt.date\n",
    "df['year'] = df['date_time'].dt.year\n",
    "df['month_day'] = df['date_time'].dt.strftime('%m-%d')\n",
    "df['month'] = df['date_time'].dt.month\n",
    "df['day'] = df['date_time'].dt.day\n",
    "df['weekday'] = df['date_time'].dt.day_name()\n",
    "df['hour'] = df['date_time'].dt.hour\n",
    "\n",
    "# Converting newly created date column from object to datetime\n",
    "df['date'] = pd.to_datetime(df['date'])"
   ]
  },
  {
   "cell_type": "code",
   "execution_count": 57,
   "metadata": {},
   "outputs": [
    {
     "name": "stdout",
     "output_type": "stream",
     "text": [
      "time: 15 ms (started: 2023-04-09 13:06:50 -06:00)\n"
     ]
    }
   ],
   "source": [
    "# Converting temp column to Fahrenheit values and rain/snow measurements to inches\n",
    "df['temp'] = (df['temp'] - 273.15) * 9/5 + 32\n",
    "df['rain_1h'] = df['rain_1h'] * 0.03937\n",
    "df['snow_1h'] = df['snow_1h'] * 0.03937\n",
    "\n",
    "# Renaming columns to show units of measurement\n",
    "df = df.rename(columns={'rain_1h':'rain_in',\n",
    "                        'snow_1h':'snow_in',\n",
    "                        'clouds_all':'pct_cloud_cover'})"
   ]
  },
  {
   "cell_type": "code",
   "execution_count": 58,
   "metadata": {},
   "outputs": [
    {
     "data": {
      "text/html": [
       "<div>\n",
       "<style scoped>\n",
       "    .dataframe tbody tr th:only-of-type {\n",
       "        vertical-align: middle;\n",
       "    }\n",
       "\n",
       "    .dataframe tbody tr th {\n",
       "        vertical-align: top;\n",
       "    }\n",
       "\n",
       "    .dataframe thead th {\n",
       "        text-align: right;\n",
       "    }\n",
       "</style>\n",
       "<table border=\"1\" class=\"dataframe\">\n",
       "  <thead>\n",
       "    <tr style=\"text-align: right;\">\n",
       "      <th></th>\n",
       "      <th>holiday</th>\n",
       "      <th>temp</th>\n",
       "      <th>rain_in</th>\n",
       "      <th>snow_in</th>\n",
       "      <th>pct_cloud_cover</th>\n",
       "      <th>weather_main</th>\n",
       "      <th>weather_description</th>\n",
       "      <th>date_time</th>\n",
       "      <th>traffic_volume</th>\n",
       "      <th>date</th>\n",
       "      <th>year</th>\n",
       "      <th>month_day</th>\n",
       "      <th>month</th>\n",
       "      <th>day</th>\n",
       "      <th>weekday</th>\n",
       "      <th>hour</th>\n",
       "    </tr>\n",
       "  </thead>\n",
       "  <tbody>\n",
       "    <tr>\n",
       "      <th>0</th>\n",
       "      <td>None</td>\n",
       "      <td>59.234</td>\n",
       "      <td>0.0</td>\n",
       "      <td>0.0</td>\n",
       "      <td>40</td>\n",
       "      <td>Clouds</td>\n",
       "      <td>scattered clouds</td>\n",
       "      <td>2012-10-02 09:00:00</td>\n",
       "      <td>5545</td>\n",
       "      <td>2012-10-02</td>\n",
       "      <td>2012</td>\n",
       "      <td>10-02</td>\n",
       "      <td>10</td>\n",
       "      <td>2</td>\n",
       "      <td>Tuesday</td>\n",
       "      <td>9</td>\n",
       "    </tr>\n",
       "    <tr>\n",
       "      <th>1</th>\n",
       "      <td>None</td>\n",
       "      <td>61.178</td>\n",
       "      <td>0.0</td>\n",
       "      <td>0.0</td>\n",
       "      <td>75</td>\n",
       "      <td>Clouds</td>\n",
       "      <td>broken clouds</td>\n",
       "      <td>2012-10-02 10:00:00</td>\n",
       "      <td>4516</td>\n",
       "      <td>2012-10-02</td>\n",
       "      <td>2012</td>\n",
       "      <td>10-02</td>\n",
       "      <td>10</td>\n",
       "      <td>2</td>\n",
       "      <td>Tuesday</td>\n",
       "      <td>10</td>\n",
       "    </tr>\n",
       "    <tr>\n",
       "      <th>2</th>\n",
       "      <td>None</td>\n",
       "      <td>61.574</td>\n",
       "      <td>0.0</td>\n",
       "      <td>0.0</td>\n",
       "      <td>90</td>\n",
       "      <td>Clouds</td>\n",
       "      <td>overcast clouds</td>\n",
       "      <td>2012-10-02 11:00:00</td>\n",
       "      <td>4767</td>\n",
       "      <td>2012-10-02</td>\n",
       "      <td>2012</td>\n",
       "      <td>10-02</td>\n",
       "      <td>10</td>\n",
       "      <td>2</td>\n",
       "      <td>Tuesday</td>\n",
       "      <td>11</td>\n",
       "    </tr>\n",
       "    <tr>\n",
       "      <th>3</th>\n",
       "      <td>None</td>\n",
       "      <td>62.564</td>\n",
       "      <td>0.0</td>\n",
       "      <td>0.0</td>\n",
       "      <td>90</td>\n",
       "      <td>Clouds</td>\n",
       "      <td>overcast clouds</td>\n",
       "      <td>2012-10-02 12:00:00</td>\n",
       "      <td>5026</td>\n",
       "      <td>2012-10-02</td>\n",
       "      <td>2012</td>\n",
       "      <td>10-02</td>\n",
       "      <td>10</td>\n",
       "      <td>2</td>\n",
       "      <td>Tuesday</td>\n",
       "      <td>12</td>\n",
       "    </tr>\n",
       "    <tr>\n",
       "      <th>4</th>\n",
       "      <td>None</td>\n",
       "      <td>64.382</td>\n",
       "      <td>0.0</td>\n",
       "      <td>0.0</td>\n",
       "      <td>75</td>\n",
       "      <td>Clouds</td>\n",
       "      <td>broken clouds</td>\n",
       "      <td>2012-10-02 13:00:00</td>\n",
       "      <td>4918</td>\n",
       "      <td>2012-10-02</td>\n",
       "      <td>2012</td>\n",
       "      <td>10-02</td>\n",
       "      <td>10</td>\n",
       "      <td>2</td>\n",
       "      <td>Tuesday</td>\n",
       "      <td>13</td>\n",
       "    </tr>\n",
       "  </tbody>\n",
       "</table>\n",
       "</div>"
      ],
      "text/plain": [
       "  holiday    temp  rain_in  snow_in  pct_cloud_cover weather_main  \\\n",
       "0    None  59.234      0.0      0.0               40       Clouds   \n",
       "1    None  61.178      0.0      0.0               75       Clouds   \n",
       "2    None  61.574      0.0      0.0               90       Clouds   \n",
       "3    None  62.564      0.0      0.0               90       Clouds   \n",
       "4    None  64.382      0.0      0.0               75       Clouds   \n",
       "\n",
       "  weather_description           date_time  traffic_volume       date  year  \\\n",
       "0    scattered clouds 2012-10-02 09:00:00            5545 2012-10-02  2012   \n",
       "1       broken clouds 2012-10-02 10:00:00            4516 2012-10-02  2012   \n",
       "2     overcast clouds 2012-10-02 11:00:00            4767 2012-10-02  2012   \n",
       "3     overcast clouds 2012-10-02 12:00:00            5026 2012-10-02  2012   \n",
       "4       broken clouds 2012-10-02 13:00:00            4918 2012-10-02  2012   \n",
       "\n",
       "  month_day  month  day  weekday  hour  \n",
       "0     10-02     10    2  Tuesday     9  \n",
       "1     10-02     10    2  Tuesday    10  \n",
       "2     10-02     10    2  Tuesday    11  \n",
       "3     10-02     10    2  Tuesday    12  \n",
       "4     10-02     10    2  Tuesday    13  "
      ]
     },
     "execution_count": 58,
     "metadata": {},
     "output_type": "execute_result"
    },
    {
     "name": "stdout",
     "output_type": "stream",
     "text": [
      "time: 16 ms (started: 2023-04-09 13:06:50 -06:00)\n"
     ]
    }
   ],
   "source": [
    "# Checking results\n",
    "df.head()"
   ]
  },
  {
   "cell_type": "markdown",
   "metadata": {},
   "source": [
    "Our dataframe now contains values in Imperial units and we've broken the *date_time* column out into separate components. The next step is to set *date_time* as the index of our dataframe so we can resample to daily values."
   ]
  },
  {
   "cell_type": "code",
   "execution_count": 59,
   "metadata": {},
   "outputs": [
    {
     "name": "stdout",
     "output_type": "stream",
     "text": [
      "time: 0 ns (started: 2023-04-09 13:06:50 -06:00)\n"
     ]
    }
   ],
   "source": [
    "# Setting date_time as index\n",
    "df.set_index('date_time', inplace=True)"
   ]
  },
  {
   "cell_type": "code",
   "execution_count": 60,
   "metadata": {},
   "outputs": [
    {
     "name": "stdout",
     "output_type": "stream",
     "text": [
      "time: 31 ms (started: 2023-04-09 13:06:50 -06:00)\n"
     ]
    }
   ],
   "source": [
    "# Resampling to daily values\n",
    "df_daily = df.resample('D').agg({'temp':'mean',\n",
    "                                 'rain_in':'sum',\n",
    "                                 'snow_in':'sum',\n",
    "                                 'pct_cloud_cover':'mean',\n",
    "                                 'traffic_volume':'sum',\n",
    "                                 'holiday':'first',\n",
    "                                 'year':'last',\n",
    "                                 'month_day':'last',\n",
    "                                 'month':'last',\n",
    "                                 'day':'last',\n",
    "                                 'weekday':'last'})"
   ]
  },
  {
   "cell_type": "code",
   "execution_count": 61,
   "metadata": {},
   "outputs": [
    {
     "data": {
      "text/html": [
       "<div>\n",
       "<style scoped>\n",
       "    .dataframe tbody tr th:only-of-type {\n",
       "        vertical-align: middle;\n",
       "    }\n",
       "\n",
       "    .dataframe tbody tr th {\n",
       "        vertical-align: top;\n",
       "    }\n",
       "\n",
       "    .dataframe thead th {\n",
       "        text-align: right;\n",
       "    }\n",
       "</style>\n",
       "<table border=\"1\" class=\"dataframe\">\n",
       "  <thead>\n",
       "    <tr style=\"text-align: right;\">\n",
       "      <th></th>\n",
       "      <th>temp</th>\n",
       "      <th>rain_in</th>\n",
       "      <th>snow_in</th>\n",
       "      <th>pct_cloud_cover</th>\n",
       "      <th>traffic_volume</th>\n",
       "      <th>holiday</th>\n",
       "      <th>year</th>\n",
       "      <th>month_day</th>\n",
       "      <th>month</th>\n",
       "      <th>day</th>\n",
       "      <th>weekday</th>\n",
       "    </tr>\n",
       "    <tr>\n",
       "      <th>date_time</th>\n",
       "      <th></th>\n",
       "      <th></th>\n",
       "      <th></th>\n",
       "      <th></th>\n",
       "      <th></th>\n",
       "      <th></th>\n",
       "      <th></th>\n",
       "      <th></th>\n",
       "      <th></th>\n",
       "      <th></th>\n",
       "      <th></th>\n",
       "    </tr>\n",
       "  </thead>\n",
       "  <tbody>\n",
       "    <tr>\n",
       "      <th>2012-10-02</th>\n",
       "      <td>63.056000</td>\n",
       "      <td>0.0</td>\n",
       "      <td>0.0</td>\n",
       "      <td>29.133333</td>\n",
       "      <td>63289</td>\n",
       "      <td>None</td>\n",
       "      <td>2012.0</td>\n",
       "      <td>10-02</td>\n",
       "      <td>10.0</td>\n",
       "      <td>2.0</td>\n",
       "      <td>Tuesday</td>\n",
       "    </tr>\n",
       "    <tr>\n",
       "      <th>2012-10-03</th>\n",
       "      <td>55.874300</td>\n",
       "      <td>0.0</td>\n",
       "      <td>0.0</td>\n",
       "      <td>3.850000</td>\n",
       "      <td>66345</td>\n",
       "      <td>None</td>\n",
       "      <td>2012.0</td>\n",
       "      <td>10-03</td>\n",
       "      <td>10.0</td>\n",
       "      <td>3.0</td>\n",
       "      <td>Wednesday</td>\n",
       "    </tr>\n",
       "    <tr>\n",
       "      <th>2012-10-04</th>\n",
       "      <td>61.173500</td>\n",
       "      <td>0.0</td>\n",
       "      <td>0.0</td>\n",
       "      <td>16.708333</td>\n",
       "      <td>89939</td>\n",
       "      <td>None</td>\n",
       "      <td>2012.0</td>\n",
       "      <td>10-04</td>\n",
       "      <td>10.0</td>\n",
       "      <td>4.0</td>\n",
       "      <td>Thursday</td>\n",
       "    </tr>\n",
       "    <tr>\n",
       "      <th>2012-10-05</th>\n",
       "      <td>48.070727</td>\n",
       "      <td>0.0</td>\n",
       "      <td>0.0</td>\n",
       "      <td>75.000000</td>\n",
       "      <td>93336</td>\n",
       "      <td>None</td>\n",
       "      <td>2012.0</td>\n",
       "      <td>10-05</td>\n",
       "      <td>10.0</td>\n",
       "      <td>5.0</td>\n",
       "      <td>Friday</td>\n",
       "    </tr>\n",
       "    <tr>\n",
       "      <th>2012-10-06</th>\n",
       "      <td>40.272957</td>\n",
       "      <td>0.0</td>\n",
       "      <td>0.0</td>\n",
       "      <td>61.652174</td>\n",
       "      <td>74910</td>\n",
       "      <td>None</td>\n",
       "      <td>2012.0</td>\n",
       "      <td>10-06</td>\n",
       "      <td>10.0</td>\n",
       "      <td>6.0</td>\n",
       "      <td>Saturday</td>\n",
       "    </tr>\n",
       "  </tbody>\n",
       "</table>\n",
       "</div>"
      ],
      "text/plain": [
       "                 temp  rain_in  snow_in  pct_cloud_cover  traffic_volume  \\\n",
       "date_time                                                                  \n",
       "2012-10-02  63.056000      0.0      0.0        29.133333           63289   \n",
       "2012-10-03  55.874300      0.0      0.0         3.850000           66345   \n",
       "2012-10-04  61.173500      0.0      0.0        16.708333           89939   \n",
       "2012-10-05  48.070727      0.0      0.0        75.000000           93336   \n",
       "2012-10-06  40.272957      0.0      0.0        61.652174           74910   \n",
       "\n",
       "           holiday    year month_day  month  day    weekday  \n",
       "date_time                                                    \n",
       "2012-10-02    None  2012.0     10-02   10.0  2.0    Tuesday  \n",
       "2012-10-03    None  2012.0     10-03   10.0  3.0  Wednesday  \n",
       "2012-10-04    None  2012.0     10-04   10.0  4.0   Thursday  \n",
       "2012-10-05    None  2012.0     10-05   10.0  5.0     Friday  \n",
       "2012-10-06    None  2012.0     10-06   10.0  6.0   Saturday  "
      ]
     },
     "execution_count": 61,
     "metadata": {},
     "output_type": "execute_result"
    },
    {
     "name": "stdout",
     "output_type": "stream",
     "text": [
      "time: 15 ms (started: 2023-04-09 13:06:50 -06:00)\n"
     ]
    }
   ],
   "source": [
    "# Checking results\n",
    "df_daily.head()"
   ]
  },
  {
   "cell_type": "markdown",
   "metadata": {},
   "source": [
    "We now have a dataframe with the date as our index and average values for *temp* and *pct_cloud_cover* and totals for *rain_in*, *snow_in*, and *traffic_volume*. Let's take a look at some of these graphically."
   ]
  },
  {
   "cell_type": "code",
   "execution_count": 62,
   "metadata": {},
   "outputs": [
    {
     "data": {
      "image/png": "[encoded data removed]",
      "text/plain": [
       "<Figure size 864x576 with 1 Axes>"
      ]
     },
     "metadata": {},
     "output_type": "display_data"
    },
    {
     "name": "stdout",
     "output_type": "stream",
     "text": [
      "time: 234 ms (started: 2023-04-09 13:06:50 -06:00)\n"
     ]
    }
   ],
   "source": [
    "# Plotting temp for visual inspection\n",
    "fig, ax = plt.subplots(figsize=(12,8))\n",
    "plt.plot(df_daily['temp'], color = \"black\", label='Temp')\n",
    "\n",
    "ax.set_xlabel('date_time')\n",
    "ax.set_ylabel('temp')\n",
    "ax.set_title('temperature over time');"
   ]
  },
  {
   "cell_type": "code",
   "execution_count": 63,
   "metadata": {},
   "outputs": [
    {
     "data": {
      "text/plain": [
       "Text(0.5, 1.0, 'traffic_volume')"
      ]
     },
     "execution_count": 63,
     "metadata": {},
     "output_type": "execute_result"
    },
    {
     "data": {
      "image/png": "[encoded data removed]",
      "text/plain": [
       "<Figure size 1152x864 with 4 Axes>"
      ]
     },
     "metadata": {},
     "output_type": "display_data"
    },
    {
     "name": "stdout",
     "output_type": "stream",
     "text": [
      "time: 766 ms (started: 2023-04-09 13:06:50 -06:00)\n"
     ]
    }
   ],
   "source": [
    "fig, axes = plt.subplots(2, 2, sharex=True, figsize=(16,12))\n",
    "axes[0, 0].plot(df_daily['rain_in']); axes[0, 0].set_title('rain_in')\n",
    "axes[0, 1].plot(df_daily['snow_in']); axes[0, 1].set_title('snow_in')\n",
    "axes[1, 0].plot(df_daily['pct_cloud_cover']); axes[1, 0].set_title('pct_cloud_cover')\n",
    "axes[1, 1].plot(df_daily['traffic_volume']); axes[1, 1].set_title('traffic_volume')"
   ]
  },
  {
   "cell_type": "markdown",
   "metadata": {},
   "source": [
    "We still have the same oddities in the rain and snow values, but it looks like we're missing a big chunk of data from temperature, cloud cover, and traffic volume. There's also some suspiciously low traffic volume values. We know from the [MNDOT Station 301 Monthly Report](https://dot.state.mn.us/traffic/data/reports/atr/Monthly_PDFs/Oct18/301.pdf) that this stretch of I-94 averages about 160,000 vehicles every day in both directions. We know that our dataset only contains westbound traffic and although we don't know what the directional traffic split is we can assume that westbound traffic makes up a decent proportion of the roughly 160,000 daily vehicles.\n",
    "\n",
    "To find our cutoff point, we'll loop through the 10 - 20 percent quantiles and use one of those values as our cutoff."
   ]
  },
  {
   "cell_type": "code",
   "execution_count": 64,
   "metadata": {},
   "outputs": [
    {
     "name": "stdout",
     "output_type": "stream",
     "text": [
      "10% Quantile: 0.000000\n",
      "11% Quantile: 0.000000\n",
      "12% Quantile: 0.000000\n",
      "13% Quantile: 0.000000\n",
      "14% Quantile: 0.000000\n",
      "15% Quantile: 0.000000\n",
      "16% Quantile: 8101.120000\n",
      "17% Quantile: 24404.600000\n",
      "18% Quantile: 32938.980000\n",
      "19% Quantile: 38435.100000\n",
      "20% Quantile: 41966.000000\n",
      "time: 32 ms (started: 2023-04-09 13:06:51 -06:00)\n"
     ]
    }
   ],
   "source": [
    "# Looping through 10-20 percent quantiles\n",
    "for i in range(10, 21):\n",
    "    print(str(i) + '%' + ' Quantile: %f' % df_daily['traffic_volume'].quantile(i/100))"
   ]
  },
  {
   "cell_type": "markdown",
   "metadata": {},
   "source": [
    "The first value that appears is the 16% quantile or 8,101. Let's proceed with replacing all traffic volume values lesser than this cutoff."
   ]
  },
  {
   "cell_type": "code",
   "execution_count": 65,
   "metadata": {},
   "outputs": [
    {
     "data": {
      "text/html": [
       "<div>\n",
       "<style scoped>\n",
       "    .dataframe tbody tr th:only-of-type {\n",
       "        vertical-align: middle;\n",
       "    }\n",
       "\n",
       "    .dataframe tbody tr th {\n",
       "        vertical-align: top;\n",
       "    }\n",
       "\n",
       "    .dataframe thead th {\n",
       "        text-align: right;\n",
       "    }\n",
       "</style>\n",
       "<table border=\"1\" class=\"dataframe\">\n",
       "  <thead>\n",
       "    <tr style=\"text-align: right;\">\n",
       "      <th></th>\n",
       "      <th>temp</th>\n",
       "      <th>rain_in</th>\n",
       "      <th>snow_in</th>\n",
       "      <th>pct_cloud_cover</th>\n",
       "      <th>traffic_volume</th>\n",
       "      <th>holiday</th>\n",
       "      <th>year</th>\n",
       "      <th>month_day</th>\n",
       "      <th>month</th>\n",
       "      <th>day</th>\n",
       "      <th>weekday</th>\n",
       "    </tr>\n",
       "    <tr>\n",
       "      <th>date_time</th>\n",
       "      <th></th>\n",
       "      <th></th>\n",
       "      <th></th>\n",
       "      <th></th>\n",
       "      <th></th>\n",
       "      <th></th>\n",
       "      <th></th>\n",
       "      <th></th>\n",
       "      <th></th>\n",
       "      <th></th>\n",
       "      <th></th>\n",
       "    </tr>\n",
       "  </thead>\n",
       "  <tbody>\n",
       "    <tr>\n",
       "      <th>2013-01-29</th>\n",
       "      <td>30.596000</td>\n",
       "      <td>0.000000</td>\n",
       "      <td>0.0</td>\n",
       "      <td>91.00</td>\n",
       "      <td>434</td>\n",
       "      <td>None</td>\n",
       "      <td>2013.0</td>\n",
       "      <td>01-29</td>\n",
       "      <td>1.0</td>\n",
       "      <td>29.0</td>\n",
       "      <td>Tuesday</td>\n",
       "    </tr>\n",
       "    <tr>\n",
       "      <th>2013-08-31</th>\n",
       "      <td>78.890000</td>\n",
       "      <td>0.000000</td>\n",
       "      <td>0.0</td>\n",
       "      <td>0.00</td>\n",
       "      <td>1321</td>\n",
       "      <td>None</td>\n",
       "      <td>2013.0</td>\n",
       "      <td>08-31</td>\n",
       "      <td>8.0</td>\n",
       "      <td>31.0</td>\n",
       "      <td>Saturday</td>\n",
       "    </tr>\n",
       "    <tr>\n",
       "      <th>2013-09-01</th>\n",
       "      <td>61.610000</td>\n",
       "      <td>0.000000</td>\n",
       "      <td>0.0</td>\n",
       "      <td>1.00</td>\n",
       "      <td>1712</td>\n",
       "      <td>None</td>\n",
       "      <td>2013.0</td>\n",
       "      <td>09-01</td>\n",
       "      <td>9.0</td>\n",
       "      <td>1.0</td>\n",
       "      <td>Sunday</td>\n",
       "    </tr>\n",
       "    <tr>\n",
       "      <th>2013-09-03</th>\n",
       "      <td>50.832500</td>\n",
       "      <td>0.000000</td>\n",
       "      <td>0.0</td>\n",
       "      <td>18.75</td>\n",
       "      <td>1462</td>\n",
       "      <td>None</td>\n",
       "      <td>2013.0</td>\n",
       "      <td>09-03</td>\n",
       "      <td>9.0</td>\n",
       "      <td>3.0</td>\n",
       "      <td>Tuesday</td>\n",
       "    </tr>\n",
       "    <tr>\n",
       "      <th>2013-10-01</th>\n",
       "      <td>51.935000</td>\n",
       "      <td>0.000000</td>\n",
       "      <td>0.0</td>\n",
       "      <td>0.00</td>\n",
       "      <td>3969</td>\n",
       "      <td>None</td>\n",
       "      <td>2013.0</td>\n",
       "      <td>10-01</td>\n",
       "      <td>10.0</td>\n",
       "      <td>1.0</td>\n",
       "      <td>Tuesday</td>\n",
       "    </tr>\n",
       "    <tr>\n",
       "      <th>...</th>\n",
       "      <td>...</td>\n",
       "      <td>...</td>\n",
       "      <td>...</td>\n",
       "      <td>...</td>\n",
       "      <td>...</td>\n",
       "      <td>...</td>\n",
       "      <td>...</td>\n",
       "      <td>...</td>\n",
       "      <td>...</td>\n",
       "      <td>...</td>\n",
       "      <td>...</td>\n",
       "    </tr>\n",
       "    <tr>\n",
       "      <th>2015-06-23</th>\n",
       "      <td>NaN</td>\n",
       "      <td>0.000000</td>\n",
       "      <td>0.0</td>\n",
       "      <td>NaN</td>\n",
       "      <td>0</td>\n",
       "      <td>NaN</td>\n",
       "      <td>NaN</td>\n",
       "      <td>NaN</td>\n",
       "      <td>NaN</td>\n",
       "      <td>NaN</td>\n",
       "      <td>NaN</td>\n",
       "    </tr>\n",
       "    <tr>\n",
       "      <th>2015-10-24</th>\n",
       "      <td>NaN</td>\n",
       "      <td>0.000000</td>\n",
       "      <td>0.0</td>\n",
       "      <td>NaN</td>\n",
       "      <td>0</td>\n",
       "      <td>NaN</td>\n",
       "      <td>NaN</td>\n",
       "      <td>NaN</td>\n",
       "      <td>NaN</td>\n",
       "      <td>NaN</td>\n",
       "      <td>NaN</td>\n",
       "    </tr>\n",
       "    <tr>\n",
       "      <th>2015-10-25</th>\n",
       "      <td>NaN</td>\n",
       "      <td>0.000000</td>\n",
       "      <td>0.0</td>\n",
       "      <td>NaN</td>\n",
       "      <td>0</td>\n",
       "      <td>NaN</td>\n",
       "      <td>NaN</td>\n",
       "      <td>NaN</td>\n",
       "      <td>NaN</td>\n",
       "      <td>NaN</td>\n",
       "      <td>NaN</td>\n",
       "    </tr>\n",
       "    <tr>\n",
       "      <th>2015-10-26</th>\n",
       "      <td>NaN</td>\n",
       "      <td>0.000000</td>\n",
       "      <td>0.0</td>\n",
       "      <td>NaN</td>\n",
       "      <td>0</td>\n",
       "      <td>NaN</td>\n",
       "      <td>NaN</td>\n",
       "      <td>NaN</td>\n",
       "      <td>NaN</td>\n",
       "      <td>NaN</td>\n",
       "      <td>NaN</td>\n",
       "    </tr>\n",
       "    <tr>\n",
       "      <th>2016-07-23</th>\n",
       "      <td>73.023029</td>\n",
       "      <td>5.458651</td>\n",
       "      <td>0.0</td>\n",
       "      <td>63.60</td>\n",
       "      <td>6753</td>\n",
       "      <td>None</td>\n",
       "      <td>2016.0</td>\n",
       "      <td>07-23</td>\n",
       "      <td>7.0</td>\n",
       "      <td>23.0</td>\n",
       "      <td>Saturday</td>\n",
       "    </tr>\n",
       "  </tbody>\n",
       "</table>\n",
       "<p>351 rows × 11 columns</p>\n",
       "</div>"
      ],
      "text/plain": [
       "                 temp   rain_in  snow_in  pct_cloud_cover  traffic_volume  \\\n",
       "date_time                                                                   \n",
       "2013-01-29  30.596000  0.000000      0.0            91.00             434   \n",
       "2013-08-31  78.890000  0.000000      0.0             0.00            1321   \n",
       "2013-09-01  61.610000  0.000000      0.0             1.00            1712   \n",
       "2013-09-03  50.832500  0.000000      0.0            18.75            1462   \n",
       "2013-10-01  51.935000  0.000000      0.0             0.00            3969   \n",
       "...               ...       ...      ...              ...             ...   \n",
       "2015-06-23        NaN  0.000000      0.0              NaN               0   \n",
       "2015-10-24        NaN  0.000000      0.0              NaN               0   \n",
       "2015-10-25        NaN  0.000000      0.0              NaN               0   \n",
       "2015-10-26        NaN  0.000000      0.0              NaN               0   \n",
       "2016-07-23  73.023029  5.458651      0.0            63.60            6753   \n",
       "\n",
       "           holiday    year month_day  month   day   weekday  \n",
       "date_time                                                    \n",
       "2013-01-29    None  2013.0     01-29    1.0  29.0   Tuesday  \n",
       "2013-08-31    None  2013.0     08-31    8.0  31.0  Saturday  \n",
       "2013-09-01    None  2013.0     09-01    9.0   1.0    Sunday  \n",
       "2013-09-03    None  2013.0     09-03    9.0   3.0   Tuesday  \n",
       "2013-10-01    None  2013.0     10-01   10.0   1.0   Tuesday  \n",
       "...            ...     ...       ...    ...   ...       ...  \n",
       "2015-06-23     NaN     NaN       NaN    NaN   NaN       NaN  \n",
       "2015-10-24     NaN     NaN       NaN    NaN   NaN       NaN  \n",
       "2015-10-25     NaN     NaN       NaN    NaN   NaN       NaN  \n",
       "2015-10-26     NaN     NaN       NaN    NaN   NaN       NaN  \n",
       "2016-07-23    None  2016.0     07-23    7.0  23.0  Saturday  \n",
       "\n",
       "[351 rows x 11 columns]"
      ]
     },
     "execution_count": 65,
     "metadata": {},
     "output_type": "execute_result"
    },
    {
     "name": "stdout",
     "output_type": "stream",
     "text": [
      "time: 31 ms (started: 2023-04-09 13:06:51 -06:00)\n"
     ]
    }
   ],
   "source": [
    "# Checking for zero values in traffic_volume\n",
    "df_daily[df_daily['traffic_volume'] < df_daily['traffic_volume'].quantile(.16)]"
   ]
  },
  {
   "cell_type": "markdown",
   "metadata": {},
   "source": [
    "351 days of low *traffic_volume* values, including some zeroes. That can't be right. To fix this, our best option is to find the average values from the same combinations of month and day that are present in the rest of our dataset. First, let's cast the *year*, *month*, and *day* columns as integers to get rid of those decimals."
   ]
  },
  {
   "cell_type": "code",
   "execution_count": 66,
   "metadata": {},
   "outputs": [
    {
     "name": "stdout",
     "output_type": "stream",
     "text": [
      "time: 16 ms (started: 2023-04-09 13:06:51 -06:00)\n"
     ]
    }
   ],
   "source": [
    "df_daily['year'] = df_daily['year'].fillna(0).astype(int)\n",
    "df_daily['month'] = df_daily['month'].fillna(0).astype(int)\n",
    "df_daily['day'] = df_daily['day'].fillna(0).astype(int)"
   ]
  },
  {
   "cell_type": "code",
   "execution_count": 67,
   "metadata": {},
   "outputs": [
    {
     "data": {
      "text/plain": [
       "(2190, 11)"
      ]
     },
     "execution_count": 67,
     "metadata": {},
     "output_type": "execute_result"
    },
    {
     "name": "stdout",
     "output_type": "stream",
     "text": [
      "time: 0 ns (started: 2023-04-09 13:06:51 -06:00)\n"
     ]
    }
   ],
   "source": [
    "# Checking number of rows in df_daily\n",
    "df_daily.shape"
   ]
  },
  {
   "cell_type": "code",
   "execution_count": 68,
   "metadata": {},
   "outputs": [
    {
     "data": {
      "text/plain": [
       "(1839, 11)"
      ]
     },
     "execution_count": 68,
     "metadata": {},
     "output_type": "execute_result"
    },
    {
     "name": "stdout",
     "output_type": "stream",
     "text": [
      "time: 0 ns (started: 2023-04-09 13:06:51 -06:00)\n"
     ]
    }
   ],
   "source": [
    "# Creating new dataframe with no low values and checking new number of rows\n",
    "df_daily_avg = df_daily[df_daily['traffic_volume'] > df_daily['traffic_volume'].quantile(.16)]\n",
    "df_daily_avg.shape"
   ]
  },
  {
   "cell_type": "markdown",
   "metadata": {},
   "source": [
    "2190 - 1839 = 351, that checks out. Next we'll group by month and day to find the average *traffic_volume* and *pct_cloud_cover* values for each of our non-cutoff values."
   ]
  },
  {
   "cell_type": "code",
   "execution_count": 69,
   "metadata": {},
   "outputs": [
    {
     "data": {
      "text/html": [
       "<div>\n",
       "<style scoped>\n",
       "    .dataframe tbody tr th:only-of-type {\n",
       "        vertical-align: middle;\n",
       "    }\n",
       "\n",
       "    .dataframe tbody tr th {\n",
       "        vertical-align: top;\n",
       "    }\n",
       "\n",
       "    .dataframe thead th {\n",
       "        text-align: right;\n",
       "    }\n",
       "</style>\n",
       "<table border=\"1\" class=\"dataframe\">\n",
       "  <thead>\n",
       "    <tr style=\"text-align: right;\">\n",
       "      <th></th>\n",
       "      <th>month_day</th>\n",
       "      <th>traffic_volume</th>\n",
       "      <th>pct_cloud_cover</th>\n",
       "    </tr>\n",
       "  </thead>\n",
       "  <tbody>\n",
       "    <tr>\n",
       "      <th>0</th>\n",
       "      <td>01-01</td>\n",
       "      <td>40675</td>\n",
       "      <td>36</td>\n",
       "    </tr>\n",
       "    <tr>\n",
       "      <th>1</th>\n",
       "      <td>01-02</td>\n",
       "      <td>79661</td>\n",
       "      <td>47</td>\n",
       "    </tr>\n",
       "    <tr>\n",
       "      <th>2</th>\n",
       "      <td>01-03</td>\n",
       "      <td>92301</td>\n",
       "      <td>60</td>\n",
       "    </tr>\n",
       "    <tr>\n",
       "      <th>3</th>\n",
       "      <td>01-04</td>\n",
       "      <td>82860</td>\n",
       "      <td>41</td>\n",
       "    </tr>\n",
       "    <tr>\n",
       "      <th>4</th>\n",
       "      <td>01-05</td>\n",
       "      <td>66190</td>\n",
       "      <td>27</td>\n",
       "    </tr>\n",
       "    <tr>\n",
       "      <th>...</th>\n",
       "      <td>...</td>\n",
       "      <td>...</td>\n",
       "      <td>...</td>\n",
       "    </tr>\n",
       "    <tr>\n",
       "      <th>361</th>\n",
       "      <td>12-27</td>\n",
       "      <td>68401</td>\n",
       "      <td>44</td>\n",
       "    </tr>\n",
       "    <tr>\n",
       "      <th>362</th>\n",
       "      <td>12-28</td>\n",
       "      <td>90395</td>\n",
       "      <td>62</td>\n",
       "    </tr>\n",
       "    <tr>\n",
       "      <th>363</th>\n",
       "      <td>12-29</td>\n",
       "      <td>78483</td>\n",
       "      <td>67</td>\n",
       "    </tr>\n",
       "    <tr>\n",
       "      <th>364</th>\n",
       "      <td>12-30</td>\n",
       "      <td>68243</td>\n",
       "      <td>51</td>\n",
       "    </tr>\n",
       "    <tr>\n",
       "      <th>365</th>\n",
       "      <td>12-31</td>\n",
       "      <td>70880</td>\n",
       "      <td>38</td>\n",
       "    </tr>\n",
       "  </tbody>\n",
       "</table>\n",
       "<p>366 rows × 3 columns</p>\n",
       "</div>"
      ],
      "text/plain": [
       "    month_day  traffic_volume  pct_cloud_cover\n",
       "0       01-01           40675               36\n",
       "1       01-02           79661               47\n",
       "2       01-03           92301               60\n",
       "3       01-04           82860               41\n",
       "4       01-05           66190               27\n",
       "..        ...             ...              ...\n",
       "361     12-27           68401               44\n",
       "362     12-28           90395               62\n",
       "363     12-29           78483               67\n",
       "364     12-30           68243               51\n",
       "365     12-31           70880               38\n",
       "\n",
       "[366 rows x 3 columns]"
      ]
     },
     "execution_count": 69,
     "metadata": {},
     "output_type": "execute_result"
    },
    {
     "name": "stdout",
     "output_type": "stream",
     "text": [
      "time: 16 ms (started: 2023-04-09 13:06:51 -06:00)\n"
     ]
    }
   ],
   "source": [
    "# Group by month and day, calculate the mean, reset index, and check results\n",
    "df_daily_avg = df_daily_avg.groupby(['month_day']).agg({'traffic_volume':'mean',\n",
    "                                                        'pct_cloud_cover':'mean'})\n",
    "df_daily_avg = df_daily_avg.reset_index()\n",
    "df_daily_avg['traffic_volume'] = df_daily_avg['traffic_volume'].astype('int')\n",
    "df_daily_avg['pct_cloud_cover'] = df_daily_avg['pct_cloud_cover'].astype('int')\n",
    "\n",
    "df_daily_avg"
   ]
  },
  {
   "cell_type": "markdown",
   "metadata": {},
   "source": [
    "Once again we'll reset the index of our <b>df_daily</b> dataframe and extract the month and day values so we can merge it with our <b>df_daily_avg</b> dataframe."
   ]
  },
  {
   "cell_type": "code",
   "execution_count": 70,
   "metadata": {},
   "outputs": [
    {
     "data": {
      "text/html": [
       "<div>\n",
       "<style scoped>\n",
       "    .dataframe tbody tr th:only-of-type {\n",
       "        vertical-align: middle;\n",
       "    }\n",
       "\n",
       "    .dataframe tbody tr th {\n",
       "        vertical-align: top;\n",
       "    }\n",
       "\n",
       "    .dataframe thead th {\n",
       "        text-align: right;\n",
       "    }\n",
       "</style>\n",
       "<table border=\"1\" class=\"dataframe\">\n",
       "  <thead>\n",
       "    <tr style=\"text-align: right;\">\n",
       "      <th></th>\n",
       "      <th>date_time</th>\n",
       "      <th>temp</th>\n",
       "      <th>rain_in</th>\n",
       "      <th>snow_in</th>\n",
       "      <th>pct_cloud_cover</th>\n",
       "      <th>traffic_volume</th>\n",
       "      <th>holiday</th>\n",
       "      <th>year</th>\n",
       "      <th>month_day</th>\n",
       "      <th>month</th>\n",
       "      <th>day</th>\n",
       "      <th>weekday</th>\n",
       "    </tr>\n",
       "  </thead>\n",
       "  <tbody>\n",
       "    <tr>\n",
       "      <th>0</th>\n",
       "      <td>2013-01-29</td>\n",
       "      <td>30.596000</td>\n",
       "      <td>0.000000</td>\n",
       "      <td>0.0</td>\n",
       "      <td>91.00</td>\n",
       "      <td>434</td>\n",
       "      <td>None</td>\n",
       "      <td>2013</td>\n",
       "      <td>01-29</td>\n",
       "      <td>1</td>\n",
       "      <td>29</td>\n",
       "      <td>Tuesday</td>\n",
       "    </tr>\n",
       "    <tr>\n",
       "      <th>1</th>\n",
       "      <td>2013-08-31</td>\n",
       "      <td>78.890000</td>\n",
       "      <td>0.000000</td>\n",
       "      <td>0.0</td>\n",
       "      <td>0.00</td>\n",
       "      <td>1321</td>\n",
       "      <td>None</td>\n",
       "      <td>2013</td>\n",
       "      <td>08-31</td>\n",
       "      <td>8</td>\n",
       "      <td>31</td>\n",
       "      <td>Saturday</td>\n",
       "    </tr>\n",
       "    <tr>\n",
       "      <th>2</th>\n",
       "      <td>2013-09-01</td>\n",
       "      <td>61.610000</td>\n",
       "      <td>0.000000</td>\n",
       "      <td>0.0</td>\n",
       "      <td>1.00</td>\n",
       "      <td>1712</td>\n",
       "      <td>None</td>\n",
       "      <td>2013</td>\n",
       "      <td>09-01</td>\n",
       "      <td>9</td>\n",
       "      <td>1</td>\n",
       "      <td>Sunday</td>\n",
       "    </tr>\n",
       "    <tr>\n",
       "      <th>3</th>\n",
       "      <td>2013-09-03</td>\n",
       "      <td>50.832500</td>\n",
       "      <td>0.000000</td>\n",
       "      <td>0.0</td>\n",
       "      <td>18.75</td>\n",
       "      <td>1462</td>\n",
       "      <td>None</td>\n",
       "      <td>2013</td>\n",
       "      <td>09-03</td>\n",
       "      <td>9</td>\n",
       "      <td>3</td>\n",
       "      <td>Tuesday</td>\n",
       "    </tr>\n",
       "    <tr>\n",
       "      <th>4</th>\n",
       "      <td>2013-10-01</td>\n",
       "      <td>51.935000</td>\n",
       "      <td>0.000000</td>\n",
       "      <td>0.0</td>\n",
       "      <td>0.00</td>\n",
       "      <td>3969</td>\n",
       "      <td>None</td>\n",
       "      <td>2013</td>\n",
       "      <td>10-01</td>\n",
       "      <td>10</td>\n",
       "      <td>1</td>\n",
       "      <td>Tuesday</td>\n",
       "    </tr>\n",
       "    <tr>\n",
       "      <th>...</th>\n",
       "      <td>...</td>\n",
       "      <td>...</td>\n",
       "      <td>...</td>\n",
       "      <td>...</td>\n",
       "      <td>...</td>\n",
       "      <td>...</td>\n",
       "      <td>...</td>\n",
       "      <td>...</td>\n",
       "      <td>...</td>\n",
       "      <td>...</td>\n",
       "      <td>...</td>\n",
       "      <td>...</td>\n",
       "    </tr>\n",
       "    <tr>\n",
       "      <th>346</th>\n",
       "      <td>2015-06-23</td>\n",
       "      <td>NaN</td>\n",
       "      <td>0.000000</td>\n",
       "      <td>0.0</td>\n",
       "      <td>NaN</td>\n",
       "      <td>0</td>\n",
       "      <td>NaN</td>\n",
       "      <td>0</td>\n",
       "      <td>06-23</td>\n",
       "      <td>0</td>\n",
       "      <td>0</td>\n",
       "      <td>NaN</td>\n",
       "    </tr>\n",
       "    <tr>\n",
       "      <th>347</th>\n",
       "      <td>2015-10-24</td>\n",
       "      <td>NaN</td>\n",
       "      <td>0.000000</td>\n",
       "      <td>0.0</td>\n",
       "      <td>NaN</td>\n",
       "      <td>0</td>\n",
       "      <td>NaN</td>\n",
       "      <td>0</td>\n",
       "      <td>10-24</td>\n",
       "      <td>0</td>\n",
       "      <td>0</td>\n",
       "      <td>NaN</td>\n",
       "    </tr>\n",
       "    <tr>\n",
       "      <th>348</th>\n",
       "      <td>2015-10-25</td>\n",
       "      <td>NaN</td>\n",
       "      <td>0.000000</td>\n",
       "      <td>0.0</td>\n",
       "      <td>NaN</td>\n",
       "      <td>0</td>\n",
       "      <td>NaN</td>\n",
       "      <td>0</td>\n",
       "      <td>10-25</td>\n",
       "      <td>0</td>\n",
       "      <td>0</td>\n",
       "      <td>NaN</td>\n",
       "    </tr>\n",
       "    <tr>\n",
       "      <th>349</th>\n",
       "      <td>2015-10-26</td>\n",
       "      <td>NaN</td>\n",
       "      <td>0.000000</td>\n",
       "      <td>0.0</td>\n",
       "      <td>NaN</td>\n",
       "      <td>0</td>\n",
       "      <td>NaN</td>\n",
       "      <td>0</td>\n",
       "      <td>10-26</td>\n",
       "      <td>0</td>\n",
       "      <td>0</td>\n",
       "      <td>NaN</td>\n",
       "    </tr>\n",
       "    <tr>\n",
       "      <th>350</th>\n",
       "      <td>2016-07-23</td>\n",
       "      <td>73.023029</td>\n",
       "      <td>5.458651</td>\n",
       "      <td>0.0</td>\n",
       "      <td>63.60</td>\n",
       "      <td>6753</td>\n",
       "      <td>None</td>\n",
       "      <td>2016</td>\n",
       "      <td>07-23</td>\n",
       "      <td>7</td>\n",
       "      <td>23</td>\n",
       "      <td>Saturday</td>\n",
       "    </tr>\n",
       "  </tbody>\n",
       "</table>\n",
       "<p>351 rows × 12 columns</p>\n",
       "</div>"
      ],
      "text/plain": [
       "     date_time       temp   rain_in  snow_in  pct_cloud_cover  traffic_volume  \\\n",
       "0   2013-01-29  30.596000  0.000000      0.0            91.00             434   \n",
       "1   2013-08-31  78.890000  0.000000      0.0             0.00            1321   \n",
       "2   2013-09-01  61.610000  0.000000      0.0             1.00            1712   \n",
       "3   2013-09-03  50.832500  0.000000      0.0            18.75            1462   \n",
       "4   2013-10-01  51.935000  0.000000      0.0             0.00            3969   \n",
       "..         ...        ...       ...      ...              ...             ...   \n",
       "346 2015-06-23        NaN  0.000000      0.0              NaN               0   \n",
       "347 2015-10-24        NaN  0.000000      0.0              NaN               0   \n",
       "348 2015-10-25        NaN  0.000000      0.0              NaN               0   \n",
       "349 2015-10-26        NaN  0.000000      0.0              NaN               0   \n",
       "350 2016-07-23  73.023029  5.458651      0.0            63.60            6753   \n",
       "\n",
       "    holiday  year month_day  month  day   weekday  \n",
       "0      None  2013     01-29      1   29   Tuesday  \n",
       "1      None  2013     08-31      8   31  Saturday  \n",
       "2      None  2013     09-01      9    1    Sunday  \n",
       "3      None  2013     09-03      9    3   Tuesday  \n",
       "4      None  2013     10-01     10    1   Tuesday  \n",
       "..      ...   ...       ...    ...  ...       ...  \n",
       "346     NaN     0     06-23      0    0       NaN  \n",
       "347     NaN     0     10-24      0    0       NaN  \n",
       "348     NaN     0     10-25      0    0       NaN  \n",
       "349     NaN     0     10-26      0    0       NaN  \n",
       "350    None  2016     07-23      7   23  Saturday  \n",
       "\n",
       "[351 rows x 12 columns]"
      ]
     },
     "execution_count": 70,
     "metadata": {},
     "output_type": "execute_result"
    },
    {
     "name": "stdout",
     "output_type": "stream",
     "text": [
      "time: 31 ms (started: 2023-04-09 13:06:51 -06:00)\n"
     ]
    }
   ],
   "source": [
    "# Making new dataframe with low values for traffic_volume\n",
    "df_fix = df_daily[df_daily['traffic_volume'] < df_daily['traffic_volume'].quantile(.16)]\n",
    "\n",
    "# Resetting index and creating month_day column\n",
    "df_fix = df_fix.reset_index()\n",
    "df_fix['month_day'] = df_fix['date_time'].dt.strftime('%m-%d')\n",
    "\n",
    "# Checking results\n",
    "df_fix"
   ]
  },
  {
   "cell_type": "code",
   "execution_count": 71,
   "metadata": {},
   "outputs": [
    {
     "data": {
      "text/html": [
       "<div>\n",
       "<style scoped>\n",
       "    .dataframe tbody tr th:only-of-type {\n",
       "        vertical-align: middle;\n",
       "    }\n",
       "\n",
       "    .dataframe tbody tr th {\n",
       "        vertical-align: top;\n",
       "    }\n",
       "\n",
       "    .dataframe thead th {\n",
       "        text-align: right;\n",
       "    }\n",
       "</style>\n",
       "<table border=\"1\" class=\"dataframe\">\n",
       "  <thead>\n",
       "    <tr style=\"text-align: right;\">\n",
       "      <th></th>\n",
       "      <th>date_time</th>\n",
       "      <th>temp</th>\n",
       "      <th>rain_in</th>\n",
       "      <th>snow_in</th>\n",
       "      <th>pct_cloud_cover_x</th>\n",
       "      <th>traffic_volume_x</th>\n",
       "      <th>holiday</th>\n",
       "      <th>year</th>\n",
       "      <th>month_day</th>\n",
       "      <th>month</th>\n",
       "      <th>day</th>\n",
       "      <th>weekday</th>\n",
       "      <th>traffic_volume_y</th>\n",
       "      <th>pct_cloud_cover_y</th>\n",
       "    </tr>\n",
       "  </thead>\n",
       "  <tbody>\n",
       "    <tr>\n",
       "      <th>0</th>\n",
       "      <td>2013-01-29</td>\n",
       "      <td>30.596000</td>\n",
       "      <td>0.000000</td>\n",
       "      <td>0.0</td>\n",
       "      <td>91.0</td>\n",
       "      <td>434</td>\n",
       "      <td>None</td>\n",
       "      <td>2013</td>\n",
       "      <td>01-29</td>\n",
       "      <td>1</td>\n",
       "      <td>29</td>\n",
       "      <td>Tuesday</td>\n",
       "      <td>76910</td>\n",
       "      <td>39</td>\n",
       "    </tr>\n",
       "    <tr>\n",
       "      <th>1</th>\n",
       "      <td>2015-01-29</td>\n",
       "      <td>NaN</td>\n",
       "      <td>0.000000</td>\n",
       "      <td>0.0</td>\n",
       "      <td>NaN</td>\n",
       "      <td>0</td>\n",
       "      <td>NaN</td>\n",
       "      <td>0</td>\n",
       "      <td>01-29</td>\n",
       "      <td>0</td>\n",
       "      <td>0</td>\n",
       "      <td>NaN</td>\n",
       "      <td>76910</td>\n",
       "      <td>39</td>\n",
       "    </tr>\n",
       "    <tr>\n",
       "      <th>2</th>\n",
       "      <td>2013-08-31</td>\n",
       "      <td>78.890000</td>\n",
       "      <td>0.000000</td>\n",
       "      <td>0.0</td>\n",
       "      <td>0.0</td>\n",
       "      <td>1321</td>\n",
       "      <td>None</td>\n",
       "      <td>2013</td>\n",
       "      <td>08-31</td>\n",
       "      <td>8</td>\n",
       "      <td>31</td>\n",
       "      <td>Saturday</td>\n",
       "      <td>99506</td>\n",
       "      <td>24</td>\n",
       "    </tr>\n",
       "    <tr>\n",
       "      <th>3</th>\n",
       "      <td>2014-08-31</td>\n",
       "      <td>NaN</td>\n",
       "      <td>0.000000</td>\n",
       "      <td>0.0</td>\n",
       "      <td>NaN</td>\n",
       "      <td>0</td>\n",
       "      <td>NaN</td>\n",
       "      <td>0</td>\n",
       "      <td>08-31</td>\n",
       "      <td>0</td>\n",
       "      <td>0</td>\n",
       "      <td>NaN</td>\n",
       "      <td>99506</td>\n",
       "      <td>24</td>\n",
       "    </tr>\n",
       "    <tr>\n",
       "      <th>4</th>\n",
       "      <td>2013-09-01</td>\n",
       "      <td>61.610000</td>\n",
       "      <td>0.000000</td>\n",
       "      <td>0.0</td>\n",
       "      <td>1.0</td>\n",
       "      <td>1712</td>\n",
       "      <td>None</td>\n",
       "      <td>2013</td>\n",
       "      <td>09-01</td>\n",
       "      <td>9</td>\n",
       "      <td>1</td>\n",
       "      <td>Sunday</td>\n",
       "      <td>79378</td>\n",
       "      <td>25</td>\n",
       "    </tr>\n",
       "    <tr>\n",
       "      <th>...</th>\n",
       "      <td>...</td>\n",
       "      <td>...</td>\n",
       "      <td>...</td>\n",
       "      <td>...</td>\n",
       "      <td>...</td>\n",
       "      <td>...</td>\n",
       "      <td>...</td>\n",
       "      <td>...</td>\n",
       "      <td>...</td>\n",
       "      <td>...</td>\n",
       "      <td>...</td>\n",
       "      <td>...</td>\n",
       "      <td>...</td>\n",
       "      <td>...</td>\n",
       "    </tr>\n",
       "    <tr>\n",
       "      <th>346</th>\n",
       "      <td>2015-06-19</td>\n",
       "      <td>78.542600</td>\n",
       "      <td>0.000000</td>\n",
       "      <td>0.0</td>\n",
       "      <td>0.0</td>\n",
       "      <td>4681</td>\n",
       "      <td>None</td>\n",
       "      <td>2015</td>\n",
       "      <td>06-19</td>\n",
       "      <td>6</td>\n",
       "      <td>19</td>\n",
       "      <td>Friday</td>\n",
       "      <td>88133</td>\n",
       "      <td>52</td>\n",
       "    </tr>\n",
       "    <tr>\n",
       "      <th>347</th>\n",
       "      <td>2015-06-20</td>\n",
       "      <td>71.994200</td>\n",
       "      <td>0.000000</td>\n",
       "      <td>0.0</td>\n",
       "      <td>88.0</td>\n",
       "      <td>4045</td>\n",
       "      <td>None</td>\n",
       "      <td>2015</td>\n",
       "      <td>06-20</td>\n",
       "      <td>6</td>\n",
       "      <td>20</td>\n",
       "      <td>Saturday</td>\n",
       "      <td>70593</td>\n",
       "      <td>29</td>\n",
       "    </tr>\n",
       "    <tr>\n",
       "      <th>348</th>\n",
       "      <td>2015-06-21</td>\n",
       "      <td>NaN</td>\n",
       "      <td>0.000000</td>\n",
       "      <td>0.0</td>\n",
       "      <td>NaN</td>\n",
       "      <td>0</td>\n",
       "      <td>NaN</td>\n",
       "      <td>0</td>\n",
       "      <td>06-21</td>\n",
       "      <td>0</td>\n",
       "      <td>0</td>\n",
       "      <td>NaN</td>\n",
       "      <td>61849</td>\n",
       "      <td>22</td>\n",
       "    </tr>\n",
       "    <tr>\n",
       "      <th>349</th>\n",
       "      <td>2015-06-23</td>\n",
       "      <td>NaN</td>\n",
       "      <td>0.000000</td>\n",
       "      <td>0.0</td>\n",
       "      <td>NaN</td>\n",
       "      <td>0</td>\n",
       "      <td>NaN</td>\n",
       "      <td>0</td>\n",
       "      <td>06-23</td>\n",
       "      <td>0</td>\n",
       "      <td>0</td>\n",
       "      <td>NaN</td>\n",
       "      <td>68452</td>\n",
       "      <td>34</td>\n",
       "    </tr>\n",
       "    <tr>\n",
       "      <th>350</th>\n",
       "      <td>2016-07-23</td>\n",
       "      <td>73.023029</td>\n",
       "      <td>5.458651</td>\n",
       "      <td>0.0</td>\n",
       "      <td>63.6</td>\n",
       "      <td>6753</td>\n",
       "      <td>None</td>\n",
       "      <td>2016</td>\n",
       "      <td>07-23</td>\n",
       "      <td>7</td>\n",
       "      <td>23</td>\n",
       "      <td>Saturday</td>\n",
       "      <td>85537</td>\n",
       "      <td>23</td>\n",
       "    </tr>\n",
       "  </tbody>\n",
       "</table>\n",
       "<p>351 rows × 14 columns</p>\n",
       "</div>"
      ],
      "text/plain": [
       "     date_time       temp   rain_in  snow_in  pct_cloud_cover_x  \\\n",
       "0   2013-01-29  30.596000  0.000000      0.0               91.0   \n",
       "1   2015-01-29        NaN  0.000000      0.0                NaN   \n",
       "2   2013-08-31  78.890000  0.000000      0.0                0.0   \n",
       "3   2014-08-31        NaN  0.000000      0.0                NaN   \n",
       "4   2013-09-01  61.610000  0.000000      0.0                1.0   \n",
       "..         ...        ...       ...      ...                ...   \n",
       "346 2015-06-19  78.542600  0.000000      0.0                0.0   \n",
       "347 2015-06-20  71.994200  0.000000      0.0               88.0   \n",
       "348 2015-06-21        NaN  0.000000      0.0                NaN   \n",
       "349 2015-06-23        NaN  0.000000      0.0                NaN   \n",
       "350 2016-07-23  73.023029  5.458651      0.0               63.6   \n",
       "\n",
       "     traffic_volume_x holiday  year month_day  month  day   weekday  \\\n",
       "0                 434    None  2013     01-29      1   29   Tuesday   \n",
       "1                   0     NaN     0     01-29      0    0       NaN   \n",
       "2                1321    None  2013     08-31      8   31  Saturday   \n",
       "3                   0     NaN     0     08-31      0    0       NaN   \n",
       "4                1712    None  2013     09-01      9    1    Sunday   \n",
       "..                ...     ...   ...       ...    ...  ...       ...   \n",
       "346              4681    None  2015     06-19      6   19    Friday   \n",
       "347              4045    None  2015     06-20      6   20  Saturday   \n",
       "348                 0     NaN     0     06-21      0    0       NaN   \n",
       "349                 0     NaN     0     06-23      0    0       NaN   \n",
       "350              6753    None  2016     07-23      7   23  Saturday   \n",
       "\n",
       "     traffic_volume_y  pct_cloud_cover_y  \n",
       "0               76910                 39  \n",
       "1               76910                 39  \n",
       "2               99506                 24  \n",
       "3               99506                 24  \n",
       "4               79378                 25  \n",
       "..                ...                ...  \n",
       "346             88133                 52  \n",
       "347             70593                 29  \n",
       "348             61849                 22  \n",
       "349             68452                 34  \n",
       "350             85537                 23  \n",
       "\n",
       "[351 rows x 14 columns]"
      ]
     },
     "execution_count": 71,
     "metadata": {},
     "output_type": "execute_result"
    },
    {
     "name": "stdout",
     "output_type": "stream",
     "text": [
      "time: 32 ms (started: 2023-04-09 13:06:51 -06:00)\n"
     ]
    }
   ],
   "source": [
    "# Merging dataframes and checking results\n",
    "merge = pd.merge(df_fix, df_daily_avg, on ='month_day', how='inner')\n",
    "merge"
   ]
  },
  {
   "cell_type": "markdown",
   "metadata": {},
   "source": [
    "We've successsfully added the average *traffic_volume* and *pct_cloud_cover* values for our values beneath the cutoff, now we'll drop all the unnecessary columns so it's easier to perform another merge with our <b>df_daily</b> dataframe."
   ]
  },
  {
   "cell_type": "code",
   "execution_count": 72,
   "metadata": {},
   "outputs": [
    {
     "data": {
      "text/html": [
       "<div>\n",
       "<style scoped>\n",
       "    .dataframe tbody tr th:only-of-type {\n",
       "        vertical-align: middle;\n",
       "    }\n",
       "\n",
       "    .dataframe tbody tr th {\n",
       "        vertical-align: top;\n",
       "    }\n",
       "\n",
       "    .dataframe thead th {\n",
       "        text-align: right;\n",
       "    }\n",
       "</style>\n",
       "<table border=\"1\" class=\"dataframe\">\n",
       "  <thead>\n",
       "    <tr style=\"text-align: right;\">\n",
       "      <th></th>\n",
       "      <th>date_time</th>\n",
       "      <th>traffic_volume_y</th>\n",
       "      <th>pct_cloud_cover_y</th>\n",
       "    </tr>\n",
       "  </thead>\n",
       "  <tbody>\n",
       "    <tr>\n",
       "      <th>0</th>\n",
       "      <td>2013-01-29</td>\n",
       "      <td>76910</td>\n",
       "      <td>39</td>\n",
       "    </tr>\n",
       "    <tr>\n",
       "      <th>1</th>\n",
       "      <td>2015-01-29</td>\n",
       "      <td>76910</td>\n",
       "      <td>39</td>\n",
       "    </tr>\n",
       "    <tr>\n",
       "      <th>2</th>\n",
       "      <td>2013-08-31</td>\n",
       "      <td>99506</td>\n",
       "      <td>24</td>\n",
       "    </tr>\n",
       "    <tr>\n",
       "      <th>3</th>\n",
       "      <td>2014-08-31</td>\n",
       "      <td>99506</td>\n",
       "      <td>24</td>\n",
       "    </tr>\n",
       "    <tr>\n",
       "      <th>4</th>\n",
       "      <td>2013-09-01</td>\n",
       "      <td>79378</td>\n",
       "      <td>25</td>\n",
       "    </tr>\n",
       "    <tr>\n",
       "      <th>...</th>\n",
       "      <td>...</td>\n",
       "      <td>...</td>\n",
       "      <td>...</td>\n",
       "    </tr>\n",
       "    <tr>\n",
       "      <th>346</th>\n",
       "      <td>2015-06-19</td>\n",
       "      <td>88133</td>\n",
       "      <td>52</td>\n",
       "    </tr>\n",
       "    <tr>\n",
       "      <th>347</th>\n",
       "      <td>2015-06-20</td>\n",
       "      <td>70593</td>\n",
       "      <td>29</td>\n",
       "    </tr>\n",
       "    <tr>\n",
       "      <th>348</th>\n",
       "      <td>2015-06-21</td>\n",
       "      <td>61849</td>\n",
       "      <td>22</td>\n",
       "    </tr>\n",
       "    <tr>\n",
       "      <th>349</th>\n",
       "      <td>2015-06-23</td>\n",
       "      <td>68452</td>\n",
       "      <td>34</td>\n",
       "    </tr>\n",
       "    <tr>\n",
       "      <th>350</th>\n",
       "      <td>2016-07-23</td>\n",
       "      <td>85537</td>\n",
       "      <td>23</td>\n",
       "    </tr>\n",
       "  </tbody>\n",
       "</table>\n",
       "<p>351 rows × 3 columns</p>\n",
       "</div>"
      ],
      "text/plain": [
       "     date_time  traffic_volume_y  pct_cloud_cover_y\n",
       "0   2013-01-29             76910                 39\n",
       "1   2015-01-29             76910                 39\n",
       "2   2013-08-31             99506                 24\n",
       "3   2014-08-31             99506                 24\n",
       "4   2013-09-01             79378                 25\n",
       "..         ...               ...                ...\n",
       "346 2015-06-19             88133                 52\n",
       "347 2015-06-20             70593                 29\n",
       "348 2015-06-21             61849                 22\n",
       "349 2015-06-23             68452                 34\n",
       "350 2016-07-23             85537                 23\n",
       "\n",
       "[351 rows x 3 columns]"
      ]
     },
     "execution_count": 72,
     "metadata": {},
     "output_type": "execute_result"
    },
    {
     "name": "stdout",
     "output_type": "stream",
     "text": [
      "time: 16 ms (started: 2023-04-09 13:06:51 -06:00)\n"
     ]
    }
   ],
   "source": [
    "# Keeping just the relevant columns\n",
    "merge = merge[['date_time', 'traffic_volume_y', 'pct_cloud_cover_y']]\n",
    "merge"
   ]
  },
  {
   "cell_type": "code",
   "execution_count": 73,
   "metadata": {},
   "outputs": [
    {
     "data": {
      "text/html": [
       "<div>\n",
       "<style scoped>\n",
       "    .dataframe tbody tr th:only-of-type {\n",
       "        vertical-align: middle;\n",
       "    }\n",
       "\n",
       "    .dataframe tbody tr th {\n",
       "        vertical-align: top;\n",
       "    }\n",
       "\n",
       "    .dataframe thead th {\n",
       "        text-align: right;\n",
       "    }\n",
       "</style>\n",
       "<table border=\"1\" class=\"dataframe\">\n",
       "  <thead>\n",
       "    <tr style=\"text-align: right;\">\n",
       "      <th></th>\n",
       "      <th>date_time</th>\n",
       "      <th>temp</th>\n",
       "      <th>rain_in</th>\n",
       "      <th>snow_in</th>\n",
       "      <th>pct_cloud_cover</th>\n",
       "      <th>traffic_volume</th>\n",
       "      <th>holiday</th>\n",
       "      <th>year</th>\n",
       "      <th>month_day</th>\n",
       "      <th>month</th>\n",
       "      <th>day</th>\n",
       "      <th>weekday</th>\n",
       "      <th>traffic_volume_y</th>\n",
       "      <th>pct_cloud_cover_y</th>\n",
       "    </tr>\n",
       "  </thead>\n",
       "  <tbody>\n",
       "    <tr>\n",
       "      <th>0</th>\n",
       "      <td>2012-10-02</td>\n",
       "      <td>63.056000</td>\n",
       "      <td>0.000000</td>\n",
       "      <td>0.0</td>\n",
       "      <td>29.133333</td>\n",
       "      <td>63289</td>\n",
       "      <td>None</td>\n",
       "      <td>2012</td>\n",
       "      <td>10-02</td>\n",
       "      <td>10</td>\n",
       "      <td>2</td>\n",
       "      <td>Tuesday</td>\n",
       "      <td>NaN</td>\n",
       "      <td>NaN</td>\n",
       "    </tr>\n",
       "    <tr>\n",
       "      <th>1</th>\n",
       "      <td>2012-10-03</td>\n",
       "      <td>55.874300</td>\n",
       "      <td>0.000000</td>\n",
       "      <td>0.0</td>\n",
       "      <td>3.850000</td>\n",
       "      <td>66345</td>\n",
       "      <td>None</td>\n",
       "      <td>2012</td>\n",
       "      <td>10-03</td>\n",
       "      <td>10</td>\n",
       "      <td>3</td>\n",
       "      <td>Wednesday</td>\n",
       "      <td>NaN</td>\n",
       "      <td>NaN</td>\n",
       "    </tr>\n",
       "    <tr>\n",
       "      <th>2</th>\n",
       "      <td>2012-10-04</td>\n",
       "      <td>61.173500</td>\n",
       "      <td>0.000000</td>\n",
       "      <td>0.0</td>\n",
       "      <td>16.708333</td>\n",
       "      <td>89939</td>\n",
       "      <td>None</td>\n",
       "      <td>2012</td>\n",
       "      <td>10-04</td>\n",
       "      <td>10</td>\n",
       "      <td>4</td>\n",
       "      <td>Thursday</td>\n",
       "      <td>NaN</td>\n",
       "      <td>NaN</td>\n",
       "    </tr>\n",
       "    <tr>\n",
       "      <th>3</th>\n",
       "      <td>2012-10-05</td>\n",
       "      <td>48.070727</td>\n",
       "      <td>0.000000</td>\n",
       "      <td>0.0</td>\n",
       "      <td>75.000000</td>\n",
       "      <td>93336</td>\n",
       "      <td>None</td>\n",
       "      <td>2012</td>\n",
       "      <td>10-05</td>\n",
       "      <td>10</td>\n",
       "      <td>5</td>\n",
       "      <td>Friday</td>\n",
       "      <td>NaN</td>\n",
       "      <td>NaN</td>\n",
       "    </tr>\n",
       "    <tr>\n",
       "      <th>4</th>\n",
       "      <td>2012-10-06</td>\n",
       "      <td>40.272957</td>\n",
       "      <td>0.000000</td>\n",
       "      <td>0.0</td>\n",
       "      <td>61.652174</td>\n",
       "      <td>74910</td>\n",
       "      <td>None</td>\n",
       "      <td>2012</td>\n",
       "      <td>10-06</td>\n",
       "      <td>10</td>\n",
       "      <td>6</td>\n",
       "      <td>Saturday</td>\n",
       "      <td>NaN</td>\n",
       "      <td>NaN</td>\n",
       "    </tr>\n",
       "    <tr>\n",
       "      <th>...</th>\n",
       "      <td>...</td>\n",
       "      <td>...</td>\n",
       "      <td>...</td>\n",
       "      <td>...</td>\n",
       "      <td>...</td>\n",
       "      <td>...</td>\n",
       "      <td>...</td>\n",
       "      <td>...</td>\n",
       "      <td>...</td>\n",
       "      <td>...</td>\n",
       "      <td>...</td>\n",
       "      <td>...</td>\n",
       "      <td>...</td>\n",
       "      <td>...</td>\n",
       "    </tr>\n",
       "    <tr>\n",
       "      <th>2185</th>\n",
       "      <td>2018-09-26</td>\n",
       "      <td>51.522500</td>\n",
       "      <td>0.009843</td>\n",
       "      <td>0.0</td>\n",
       "      <td>39.833333</td>\n",
       "      <td>88627</td>\n",
       "      <td>None</td>\n",
       "      <td>2018</td>\n",
       "      <td>09-26</td>\n",
       "      <td>9</td>\n",
       "      <td>26</td>\n",
       "      <td>Wednesday</td>\n",
       "      <td>NaN</td>\n",
       "      <td>NaN</td>\n",
       "    </tr>\n",
       "    <tr>\n",
       "      <th>2186</th>\n",
       "      <td>2018-09-27</td>\n",
       "      <td>55.613120</td>\n",
       "      <td>0.019685</td>\n",
       "      <td>0.0</td>\n",
       "      <td>61.200000</td>\n",
       "      <td>94434</td>\n",
       "      <td>None</td>\n",
       "      <td>2018</td>\n",
       "      <td>09-27</td>\n",
       "      <td>9</td>\n",
       "      <td>27</td>\n",
       "      <td>Thursday</td>\n",
       "      <td>NaN</td>\n",
       "      <td>NaN</td>\n",
       "    </tr>\n",
       "    <tr>\n",
       "      <th>2187</th>\n",
       "      <td>2018-09-28</td>\n",
       "      <td>47.189000</td>\n",
       "      <td>0.000000</td>\n",
       "      <td>0.0</td>\n",
       "      <td>26.250000</td>\n",
       "      <td>92518</td>\n",
       "      <td>None</td>\n",
       "      <td>2018</td>\n",
       "      <td>09-28</td>\n",
       "      <td>9</td>\n",
       "      <td>28</td>\n",
       "      <td>Friday</td>\n",
       "      <td>NaN</td>\n",
       "      <td>NaN</td>\n",
       "    </tr>\n",
       "    <tr>\n",
       "      <th>2188</th>\n",
       "      <td>2018-09-29</td>\n",
       "      <td>40.973360</td>\n",
       "      <td>0.009843</td>\n",
       "      <td>0.0</td>\n",
       "      <td>57.360000</td>\n",
       "      <td>76242</td>\n",
       "      <td>None</td>\n",
       "      <td>2018</td>\n",
       "      <td>09-29</td>\n",
       "      <td>9</td>\n",
       "      <td>29</td>\n",
       "      <td>Saturday</td>\n",
       "      <td>NaN</td>\n",
       "      <td>NaN</td>\n",
       "    </tr>\n",
       "    <tr>\n",
       "      <th>2189</th>\n",
       "      <td>2018-09-30</td>\n",
       "      <td>47.940385</td>\n",
       "      <td>0.009843</td>\n",
       "      <td>0.0</td>\n",
       "      <td>85.384615</td>\n",
       "      <td>68785</td>\n",
       "      <td>None</td>\n",
       "      <td>2018</td>\n",
       "      <td>09-30</td>\n",
       "      <td>9</td>\n",
       "      <td>30</td>\n",
       "      <td>Sunday</td>\n",
       "      <td>NaN</td>\n",
       "      <td>NaN</td>\n",
       "    </tr>\n",
       "  </tbody>\n",
       "</table>\n",
       "<p>2190 rows × 14 columns</p>\n",
       "</div>"
      ],
      "text/plain": [
       "      date_time       temp   rain_in  snow_in  pct_cloud_cover  \\\n",
       "0    2012-10-02  63.056000  0.000000      0.0        29.133333   \n",
       "1    2012-10-03  55.874300  0.000000      0.0         3.850000   \n",
       "2    2012-10-04  61.173500  0.000000      0.0        16.708333   \n",
       "3    2012-10-05  48.070727  0.000000      0.0        75.000000   \n",
       "4    2012-10-06  40.272957  0.000000      0.0        61.652174   \n",
       "...         ...        ...       ...      ...              ...   \n",
       "2185 2018-09-26  51.522500  0.009843      0.0        39.833333   \n",
       "2186 2018-09-27  55.613120  0.019685      0.0        61.200000   \n",
       "2187 2018-09-28  47.189000  0.000000      0.0        26.250000   \n",
       "2188 2018-09-29  40.973360  0.009843      0.0        57.360000   \n",
       "2189 2018-09-30  47.940385  0.009843      0.0        85.384615   \n",
       "\n",
       "      traffic_volume holiday  year month_day  month  day    weekday  \\\n",
       "0              63289    None  2012     10-02     10    2    Tuesday   \n",
       "1              66345    None  2012     10-03     10    3  Wednesday   \n",
       "2              89939    None  2012     10-04     10    4   Thursday   \n",
       "3              93336    None  2012     10-05     10    5     Friday   \n",
       "4              74910    None  2012     10-06     10    6   Saturday   \n",
       "...              ...     ...   ...       ...    ...  ...        ...   \n",
       "2185           88627    None  2018     09-26      9   26  Wednesday   \n",
       "2186           94434    None  2018     09-27      9   27   Thursday   \n",
       "2187           92518    None  2018     09-28      9   28     Friday   \n",
       "2188           76242    None  2018     09-29      9   29   Saturday   \n",
       "2189           68785    None  2018     09-30      9   30     Sunday   \n",
       "\n",
       "      traffic_volume_y  pct_cloud_cover_y  \n",
       "0                  NaN                NaN  \n",
       "1                  NaN                NaN  \n",
       "2                  NaN                NaN  \n",
       "3                  NaN                NaN  \n",
       "4                  NaN                NaN  \n",
       "...                ...                ...  \n",
       "2185               NaN                NaN  \n",
       "2186               NaN                NaN  \n",
       "2187               NaN                NaN  \n",
       "2188               NaN                NaN  \n",
       "2189               NaN                NaN  \n",
       "\n",
       "[2190 rows x 14 columns]"
      ]
     },
     "execution_count": 73,
     "metadata": {},
     "output_type": "execute_result"
    },
    {
     "name": "stdout",
     "output_type": "stream",
     "text": [
      "time: 46 ms (started: 2023-04-09 13:06:51 -06:00)\n"
     ]
    }
   ],
   "source": [
    "# Resetting df_daily index for merge and performing merge\n",
    "df_daily.reset_index(inplace=True)\n",
    "df_daily = pd.merge(df_daily, merge, on ='date_time', how='left')\n",
    "\n",
    "# Checking results\n",
    "df_daily"
   ]
  },
  {
   "cell_type": "code",
   "execution_count": 74,
   "metadata": {},
   "outputs": [
    {
     "name": "stdout",
     "output_type": "stream",
     "text": [
      "time: 16 ms (started: 2023-04-09 13:06:52 -06:00)\n"
     ]
    }
   ],
   "source": [
    "# Replacing low traffic volumes with their daily averages\n",
    "df_daily.loc[df_daily['traffic_volume'] < df_daily['traffic_volume'].quantile(.16),\n",
    "             'traffic_volume'] = df_daily['traffic_volume_y']\n",
    "\n",
    "# Replacing null cloud cover values with their daily averages\n",
    "df_daily.loc[df_daily['pct_cloud_cover'].isnull(), 'pct_cloud_cover'] = df_daily['pct_cloud_cover_y']"
   ]
  },
  {
   "cell_type": "code",
   "execution_count": 75,
   "metadata": {},
   "outputs": [
    {
     "name": "stdout",
     "output_type": "stream",
     "text": [
      "time: 0 ns (started: 2023-04-09 13:06:52 -06:00)\n"
     ]
    }
   ],
   "source": [
    "# Dropping unnecessary columns\n",
    "df_daily.drop(['traffic_volume_y', 'pct_cloud_cover_y'], axis=1, inplace=True)"
   ]
  },
  {
   "cell_type": "code",
   "execution_count": 76,
   "metadata": {},
   "outputs": [
    {
     "data": {
      "text/html": [
       "<div>\n",
       "<style scoped>\n",
       "    .dataframe tbody tr th:only-of-type {\n",
       "        vertical-align: middle;\n",
       "    }\n",
       "\n",
       "    .dataframe tbody tr th {\n",
       "        vertical-align: top;\n",
       "    }\n",
       "\n",
       "    .dataframe thead th {\n",
       "        text-align: right;\n",
       "    }\n",
       "</style>\n",
       "<table border=\"1\" class=\"dataframe\">\n",
       "  <thead>\n",
       "    <tr style=\"text-align: right;\">\n",
       "      <th></th>\n",
       "      <th>pct_cloud_cover</th>\n",
       "      <th>traffic_volume</th>\n",
       "    </tr>\n",
       "  </thead>\n",
       "  <tbody>\n",
       "    <tr>\n",
       "      <th>count</th>\n",
       "      <td>2190.000000</td>\n",
       "      <td>2190.000000</td>\n",
       "    </tr>\n",
       "    <tr>\n",
       "      <th>mean</th>\n",
       "      <td>45.742471</td>\n",
       "      <td>85492.527397</td>\n",
       "    </tr>\n",
       "    <tr>\n",
       "      <th>std</th>\n",
       "      <td>26.538566</td>\n",
       "      <td>29113.950551</td>\n",
       "    </tr>\n",
       "    <tr>\n",
       "      <th>min</th>\n",
       "      <td>0.000000</td>\n",
       "      <td>10676.000000</td>\n",
       "    </tr>\n",
       "    <tr>\n",
       "      <th>25%</th>\n",
       "      <td>23.218750</td>\n",
       "      <td>68671.750000</td>\n",
       "    </tr>\n",
       "    <tr>\n",
       "      <th>50%</th>\n",
       "      <td>46.000000</td>\n",
       "      <td>84564.500000</td>\n",
       "    </tr>\n",
       "    <tr>\n",
       "      <th>75%</th>\n",
       "      <td>66.394828</td>\n",
       "      <td>94134.750000</td>\n",
       "    </tr>\n",
       "    <tr>\n",
       "      <th>max</th>\n",
       "      <td>92.880000</td>\n",
       "      <td>257191.000000</td>\n",
       "    </tr>\n",
       "  </tbody>\n",
       "</table>\n",
       "</div>"
      ],
      "text/plain": [
       "       pct_cloud_cover  traffic_volume\n",
       "count      2190.000000     2190.000000\n",
       "mean         45.742471    85492.527397\n",
       "std          26.538566    29113.950551\n",
       "min           0.000000    10676.000000\n",
       "25%          23.218750    68671.750000\n",
       "50%          46.000000    84564.500000\n",
       "75%          66.394828    94134.750000\n",
       "max          92.880000   257191.000000"
      ]
     },
     "execution_count": 76,
     "metadata": {},
     "output_type": "execute_result"
    },
    {
     "name": "stdout",
     "output_type": "stream",
     "text": [
      "time: 15 ms (started: 2023-04-09 13:06:52 -06:00)\n"
     ]
    }
   ],
   "source": [
    "# Checking statistical values for our modified columns\n",
    "df_daily[['pct_cloud_cover', 'traffic_volume']].describe()"
   ]
  },
  {
   "cell_type": "markdown",
   "metadata": {},
   "source": [
    "The mean values for the two columns we've modified are reasonable. Remember earlier when we saw approximately 32 feet of rainfall in one hour and the total amount of snowfall listed across the entire dataset as 0.42 inches? In addition we saw that there is a big chunk of temperature data missing. Let's look at the NOAA dataset and see how we can use that to complete our dataset."
   ]
  },
  {
   "cell_type": "code",
   "execution_count": 77,
   "metadata": {},
   "outputs": [
    {
     "name": "stdout",
     "output_type": "stream",
     "text": [
      "<class 'pandas.core.frame.DataFrame'>\n",
      "RangeIndex: 2190 entries, 0 to 2189\n",
      "Data columns (total 33 columns):\n",
      " #   Column     Non-Null Count  Dtype  \n",
      "---  ------     --------------  -----  \n",
      " 0   STATION    2190 non-null   object \n",
      " 1   NAME       2190 non-null   object \n",
      " 2   LATITUDE   2190 non-null   float64\n",
      " 3   LONGITUDE  2190 non-null   float64\n",
      " 4   ELEVATION  2190 non-null   float64\n",
      " 5   DATE       2190 non-null   object \n",
      " 6   AWND       2190 non-null   float64\n",
      " 7   PGTM       2 non-null      float64\n",
      " 8   PRCP       2190 non-null   float64\n",
      " 9   SNOW       2190 non-null   float64\n",
      " 10  SNWD       2190 non-null   float64\n",
      " 11  TAVG       2009 non-null   float64\n",
      " 12  TMAX       2190 non-null   int64  \n",
      " 13  TMIN       2190 non-null   int64  \n",
      " 14  WDF2       2190 non-null   int64  \n",
      " 15  WDF5       2189 non-null   float64\n",
      " 16  WSF2       2190 non-null   float64\n",
      " 17  WSF5       2189 non-null   float64\n",
      " 18  WT01       760 non-null    float64\n",
      " 19  WT02       35 non-null     float64\n",
      " 20  WT03       193 non-null    float64\n",
      " 21  WT04       26 non-null     float64\n",
      " 22  WT05       4 non-null      float64\n",
      " 23  WT06       22 non-null     float64\n",
      " 24  WT08       427 non-null    float64\n",
      " 25  WT09       20 non-null     float64\n",
      " 26  WT13       75 non-null     float64\n",
      " 27  WT14       22 non-null     float64\n",
      " 28  WT15       3 non-null      float64\n",
      " 29  WT16       29 non-null     float64\n",
      " 30  WT17       1 non-null      float64\n",
      " 31  WT18       58 non-null     float64\n",
      " 32  WT22       7 non-null      float64\n",
      "dtypes: float64(27), int64(3), object(3)\n",
      "memory usage: 564.7+ KB\n",
      "time: 16 ms (started: 2023-04-09 13:06:52 -06:00)\n"
     ]
    }
   ],
   "source": [
    "# Viewing column data for NOAA dataset\n",
    "df_noaa.info()"
   ]
  },
  {
   "cell_type": "code",
   "execution_count": 78,
   "metadata": {},
   "outputs": [
    {
     "data": {
      "text/html": [
       "<div>\n",
       "<style scoped>\n",
       "    .dataframe tbody tr th:only-of-type {\n",
       "        vertical-align: middle;\n",
       "    }\n",
       "\n",
       "    .dataframe tbody tr th {\n",
       "        vertical-align: top;\n",
       "    }\n",
       "\n",
       "    .dataframe thead th {\n",
       "        text-align: right;\n",
       "    }\n",
       "</style>\n",
       "<table border=\"1\" class=\"dataframe\">\n",
       "  <thead>\n",
       "    <tr style=\"text-align: right;\">\n",
       "      <th></th>\n",
       "      <th>DATE</th>\n",
       "      <th>PRCP</th>\n",
       "      <th>SNOW</th>\n",
       "      <th>TAVG</th>\n",
       "    </tr>\n",
       "  </thead>\n",
       "  <tbody>\n",
       "    <tr>\n",
       "      <th>0</th>\n",
       "      <td>2012-10-02</td>\n",
       "      <td>0.0</td>\n",
       "      <td>0.0</td>\n",
       "      <td>NaN</td>\n",
       "    </tr>\n",
       "    <tr>\n",
       "      <th>1</th>\n",
       "      <td>2012-10-03</td>\n",
       "      <td>0.0</td>\n",
       "      <td>0.0</td>\n",
       "      <td>NaN</td>\n",
       "    </tr>\n",
       "    <tr>\n",
       "      <th>2</th>\n",
       "      <td>2012-10-04</td>\n",
       "      <td>0.0</td>\n",
       "      <td>0.0</td>\n",
       "      <td>NaN</td>\n",
       "    </tr>\n",
       "    <tr>\n",
       "      <th>3</th>\n",
       "      <td>2012-10-05</td>\n",
       "      <td>0.0</td>\n",
       "      <td>0.0</td>\n",
       "      <td>NaN</td>\n",
       "    </tr>\n",
       "    <tr>\n",
       "      <th>4</th>\n",
       "      <td>2012-10-06</td>\n",
       "      <td>0.0</td>\n",
       "      <td>0.0</td>\n",
       "      <td>NaN</td>\n",
       "    </tr>\n",
       "    <tr>\n",
       "      <th>...</th>\n",
       "      <td>...</td>\n",
       "      <td>...</td>\n",
       "      <td>...</td>\n",
       "      <td>...</td>\n",
       "    </tr>\n",
       "    <tr>\n",
       "      <th>2185</th>\n",
       "      <td>2018-09-26</td>\n",
       "      <td>0.0</td>\n",
       "      <td>0.0</td>\n",
       "      <td>52.0</td>\n",
       "    </tr>\n",
       "    <tr>\n",
       "      <th>2186</th>\n",
       "      <td>2018-09-27</td>\n",
       "      <td>0.0</td>\n",
       "      <td>0.0</td>\n",
       "      <td>58.0</td>\n",
       "    </tr>\n",
       "    <tr>\n",
       "      <th>2187</th>\n",
       "      <td>2018-09-28</td>\n",
       "      <td>0.0</td>\n",
       "      <td>0.0</td>\n",
       "      <td>50.0</td>\n",
       "    </tr>\n",
       "    <tr>\n",
       "      <th>2188</th>\n",
       "      <td>2018-09-29</td>\n",
       "      <td>0.0</td>\n",
       "      <td>0.0</td>\n",
       "      <td>43.0</td>\n",
       "    </tr>\n",
       "    <tr>\n",
       "      <th>2189</th>\n",
       "      <td>2018-09-30</td>\n",
       "      <td>0.0</td>\n",
       "      <td>0.0</td>\n",
       "      <td>48.0</td>\n",
       "    </tr>\n",
       "  </tbody>\n",
       "</table>\n",
       "<p>2190 rows × 4 columns</p>\n",
       "</div>"
      ],
      "text/plain": [
       "            DATE  PRCP  SNOW  TAVG\n",
       "0     2012-10-02   0.0   0.0   NaN\n",
       "1     2012-10-03   0.0   0.0   NaN\n",
       "2     2012-10-04   0.0   0.0   NaN\n",
       "3     2012-10-05   0.0   0.0   NaN\n",
       "4     2012-10-06   0.0   0.0   NaN\n",
       "...          ...   ...   ...   ...\n",
       "2185  2018-09-26   0.0   0.0  52.0\n",
       "2186  2018-09-27   0.0   0.0  58.0\n",
       "2187  2018-09-28   0.0   0.0  50.0\n",
       "2188  2018-09-29   0.0   0.0  43.0\n",
       "2189  2018-09-30   0.0   0.0  48.0\n",
       "\n",
       "[2190 rows x 4 columns]"
      ]
     },
     "execution_count": 78,
     "metadata": {},
     "output_type": "execute_result"
    },
    {
     "name": "stdout",
     "output_type": "stream",
     "text": [
      "time: 16 ms (started: 2023-04-09 13:06:52 -06:00)\n"
     ]
    }
   ],
   "source": [
    "# Making new dataframe with just the relevant columns\n",
    "df_noaa_fix = df_noaa[['DATE', 'PRCP', 'SNOW', 'TAVG']]\n",
    "df_noaa_fix"
   ]
  },
  {
   "cell_type": "code",
   "execution_count": 79,
   "metadata": {},
   "outputs": [
    {
     "name": "stderr",
     "output_type": "stream",
     "text": [
      "<ipython-input-79-ad83066ce833>:2: SettingWithCopyWarning: \n",
      "A value is trying to be set on a copy of a slice from a DataFrame.\n",
      "Try using .loc[row_indexer,col_indexer] = value instead\n",
      "\n",
      "See the caveats in the documentation: https://pandas.pydata.org/pandas-docs/stable/user_guide/indexing.html#returning-a-view-versus-a-copy\n",
      "  df_noaa_fix['DATE'] = pd.to_datetime(df_noaa_fix['DATE'], infer_datetime_format=True)\n",
      "C:\\Users\\pschu\\anaconda3\\envs\\learn-env\\lib\\site-packages\\pandas\\core\\frame.py:4296: SettingWithCopyWarning: \n",
      "A value is trying to be set on a copy of a slice from a DataFrame\n",
      "\n",
      "See the caveats in the documentation: https://pandas.pydata.org/pandas-docs/stable/user_guide/indexing.html#returning-a-view-versus-a-copy\n",
      "  return super().rename(\n"
     ]
    },
    {
     "data": {
      "text/html": [
       "<div>\n",
       "<style scoped>\n",
       "    .dataframe tbody tr th:only-of-type {\n",
       "        vertical-align: middle;\n",
       "    }\n",
       "\n",
       "    .dataframe tbody tr th {\n",
       "        vertical-align: top;\n",
       "    }\n",
       "\n",
       "    .dataframe thead th {\n",
       "        text-align: right;\n",
       "    }\n",
       "</style>\n",
       "<table border=\"1\" class=\"dataframe\">\n",
       "  <thead>\n",
       "    <tr style=\"text-align: right;\">\n",
       "      <th></th>\n",
       "      <th>date_time</th>\n",
       "      <th>PRCP</th>\n",
       "      <th>SNOW</th>\n",
       "      <th>TAVG</th>\n",
       "    </tr>\n",
       "  </thead>\n",
       "  <tbody>\n",
       "    <tr>\n",
       "      <th>0</th>\n",
       "      <td>2012-10-02</td>\n",
       "      <td>0.0</td>\n",
       "      <td>0.0</td>\n",
       "      <td>NaN</td>\n",
       "    </tr>\n",
       "    <tr>\n",
       "      <th>1</th>\n",
       "      <td>2012-10-03</td>\n",
       "      <td>0.0</td>\n",
       "      <td>0.0</td>\n",
       "      <td>NaN</td>\n",
       "    </tr>\n",
       "    <tr>\n",
       "      <th>2</th>\n",
       "      <td>2012-10-04</td>\n",
       "      <td>0.0</td>\n",
       "      <td>0.0</td>\n",
       "      <td>NaN</td>\n",
       "    </tr>\n",
       "    <tr>\n",
       "      <th>3</th>\n",
       "      <td>2012-10-05</td>\n",
       "      <td>0.0</td>\n",
       "      <td>0.0</td>\n",
       "      <td>NaN</td>\n",
       "    </tr>\n",
       "    <tr>\n",
       "      <th>4</th>\n",
       "      <td>2012-10-06</td>\n",
       "      <td>0.0</td>\n",
       "      <td>0.0</td>\n",
       "      <td>NaN</td>\n",
       "    </tr>\n",
       "    <tr>\n",
       "      <th>...</th>\n",
       "      <td>...</td>\n",
       "      <td>...</td>\n",
       "      <td>...</td>\n",
       "      <td>...</td>\n",
       "    </tr>\n",
       "    <tr>\n",
       "      <th>2185</th>\n",
       "      <td>2018-09-26</td>\n",
       "      <td>0.0</td>\n",
       "      <td>0.0</td>\n",
       "      <td>52.0</td>\n",
       "    </tr>\n",
       "    <tr>\n",
       "      <th>2186</th>\n",
       "      <td>2018-09-27</td>\n",
       "      <td>0.0</td>\n",
       "      <td>0.0</td>\n",
       "      <td>58.0</td>\n",
       "    </tr>\n",
       "    <tr>\n",
       "      <th>2187</th>\n",
       "      <td>2018-09-28</td>\n",
       "      <td>0.0</td>\n",
       "      <td>0.0</td>\n",
       "      <td>50.0</td>\n",
       "    </tr>\n",
       "    <tr>\n",
       "      <th>2188</th>\n",
       "      <td>2018-09-29</td>\n",
       "      <td>0.0</td>\n",
       "      <td>0.0</td>\n",
       "      <td>43.0</td>\n",
       "    </tr>\n",
       "    <tr>\n",
       "      <th>2189</th>\n",
       "      <td>2018-09-30</td>\n",
       "      <td>0.0</td>\n",
       "      <td>0.0</td>\n",
       "      <td>48.0</td>\n",
       "    </tr>\n",
       "  </tbody>\n",
       "</table>\n",
       "<p>2190 rows × 4 columns</p>\n",
       "</div>"
      ],
      "text/plain": [
       "      date_time  PRCP  SNOW  TAVG\n",
       "0    2012-10-02   0.0   0.0   NaN\n",
       "1    2012-10-03   0.0   0.0   NaN\n",
       "2    2012-10-04   0.0   0.0   NaN\n",
       "3    2012-10-05   0.0   0.0   NaN\n",
       "4    2012-10-06   0.0   0.0   NaN\n",
       "...         ...   ...   ...   ...\n",
       "2185 2018-09-26   0.0   0.0  52.0\n",
       "2186 2018-09-27   0.0   0.0  58.0\n",
       "2187 2018-09-28   0.0   0.0  50.0\n",
       "2188 2018-09-29   0.0   0.0  43.0\n",
       "2189 2018-09-30   0.0   0.0  48.0\n",
       "\n",
       "[2190 rows x 4 columns]"
      ]
     },
     "execution_count": 79,
     "metadata": {},
     "output_type": "execute_result"
    },
    {
     "name": "stdout",
     "output_type": "stream",
     "text": [
      "time: 32 ms (started: 2023-04-09 13:06:52 -06:00)\n"
     ]
    }
   ],
   "source": [
    "# Converting to datetime value\n",
    "df_noaa_fix['DATE'] = pd.to_datetime(df_noaa_fix['DATE'], infer_datetime_format=True)\n",
    "\n",
    "# Renaming column to match df_daily\n",
    "df_noaa_fix.rename(columns={'DATE':'date_time'}, inplace=True)\n",
    "\n",
    "# Checking results\n",
    "df_noaa_fix"
   ]
  },
  {
   "cell_type": "markdown",
   "metadata": {},
   "source": [
    "Excellent - we now have a dataframe with a matching *date_time* column and rain, snow, and temperature values that can be used to fill in the gaps in <b>df_daily</b>."
   ]
  },
  {
   "cell_type": "code",
   "execution_count": 80,
   "metadata": {},
   "outputs": [
    {
     "data": {
      "text/html": [
       "<div>\n",
       "<style scoped>\n",
       "    .dataframe tbody tr th:only-of-type {\n",
       "        vertical-align: middle;\n",
       "    }\n",
       "\n",
       "    .dataframe tbody tr th {\n",
       "        vertical-align: top;\n",
       "    }\n",
       "\n",
       "    .dataframe thead th {\n",
       "        text-align: right;\n",
       "    }\n",
       "</style>\n",
       "<table border=\"1\" class=\"dataframe\">\n",
       "  <thead>\n",
       "    <tr style=\"text-align: right;\">\n",
       "      <th></th>\n",
       "      <th>date_time</th>\n",
       "      <th>temp</th>\n",
       "      <th>rain_in</th>\n",
       "      <th>snow_in</th>\n",
       "      <th>pct_cloud_cover</th>\n",
       "      <th>traffic_volume</th>\n",
       "      <th>holiday</th>\n",
       "      <th>year</th>\n",
       "      <th>month_day</th>\n",
       "      <th>month</th>\n",
       "      <th>day</th>\n",
       "      <th>weekday</th>\n",
       "      <th>PRCP</th>\n",
       "      <th>SNOW</th>\n",
       "      <th>TAVG</th>\n",
       "    </tr>\n",
       "  </thead>\n",
       "  <tbody>\n",
       "    <tr>\n",
       "      <th>0</th>\n",
       "      <td>2012-10-02</td>\n",
       "      <td>63.056000</td>\n",
       "      <td>0.000000</td>\n",
       "      <td>0.0</td>\n",
       "      <td>29.133333</td>\n",
       "      <td>63289.0</td>\n",
       "      <td>None</td>\n",
       "      <td>2012</td>\n",
       "      <td>10-02</td>\n",
       "      <td>10</td>\n",
       "      <td>2</td>\n",
       "      <td>Tuesday</td>\n",
       "      <td>0.0</td>\n",
       "      <td>0.0</td>\n",
       "      <td>NaN</td>\n",
       "    </tr>\n",
       "    <tr>\n",
       "      <th>1</th>\n",
       "      <td>2012-10-03</td>\n",
       "      <td>55.874300</td>\n",
       "      <td>0.000000</td>\n",
       "      <td>0.0</td>\n",
       "      <td>3.850000</td>\n",
       "      <td>66345.0</td>\n",
       "      <td>None</td>\n",
       "      <td>2012</td>\n",
       "      <td>10-03</td>\n",
       "      <td>10</td>\n",
       "      <td>3</td>\n",
       "      <td>Wednesday</td>\n",
       "      <td>0.0</td>\n",
       "      <td>0.0</td>\n",
       "      <td>NaN</td>\n",
       "    </tr>\n",
       "    <tr>\n",
       "      <th>2</th>\n",
       "      <td>2012-10-04</td>\n",
       "      <td>61.173500</td>\n",
       "      <td>0.000000</td>\n",
       "      <td>0.0</td>\n",
       "      <td>16.708333</td>\n",
       "      <td>89939.0</td>\n",
       "      <td>None</td>\n",
       "      <td>2012</td>\n",
       "      <td>10-04</td>\n",
       "      <td>10</td>\n",
       "      <td>4</td>\n",
       "      <td>Thursday</td>\n",
       "      <td>0.0</td>\n",
       "      <td>0.0</td>\n",
       "      <td>NaN</td>\n",
       "    </tr>\n",
       "    <tr>\n",
       "      <th>3</th>\n",
       "      <td>2012-10-05</td>\n",
       "      <td>48.070727</td>\n",
       "      <td>0.000000</td>\n",
       "      <td>0.0</td>\n",
       "      <td>75.000000</td>\n",
       "      <td>93336.0</td>\n",
       "      <td>None</td>\n",
       "      <td>2012</td>\n",
       "      <td>10-05</td>\n",
       "      <td>10</td>\n",
       "      <td>5</td>\n",
       "      <td>Friday</td>\n",
       "      <td>0.0</td>\n",
       "      <td>0.0</td>\n",
       "      <td>NaN</td>\n",
       "    </tr>\n",
       "    <tr>\n",
       "      <th>4</th>\n",
       "      <td>2012-10-06</td>\n",
       "      <td>40.272957</td>\n",
       "      <td>0.000000</td>\n",
       "      <td>0.0</td>\n",
       "      <td>61.652174</td>\n",
       "      <td>74910.0</td>\n",
       "      <td>None</td>\n",
       "      <td>2012</td>\n",
       "      <td>10-06</td>\n",
       "      <td>10</td>\n",
       "      <td>6</td>\n",
       "      <td>Saturday</td>\n",
       "      <td>0.0</td>\n",
       "      <td>0.0</td>\n",
       "      <td>NaN</td>\n",
       "    </tr>\n",
       "    <tr>\n",
       "      <th>...</th>\n",
       "      <td>...</td>\n",
       "      <td>...</td>\n",
       "      <td>...</td>\n",
       "      <td>...</td>\n",
       "      <td>...</td>\n",
       "      <td>...</td>\n",
       "      <td>...</td>\n",
       "      <td>...</td>\n",
       "      <td>...</td>\n",
       "      <td>...</td>\n",
       "      <td>...</td>\n",
       "      <td>...</td>\n",
       "      <td>...</td>\n",
       "      <td>...</td>\n",
       "      <td>...</td>\n",
       "    </tr>\n",
       "    <tr>\n",
       "      <th>2185</th>\n",
       "      <td>2018-09-26</td>\n",
       "      <td>51.522500</td>\n",
       "      <td>0.009843</td>\n",
       "      <td>0.0</td>\n",
       "      <td>39.833333</td>\n",
       "      <td>88627.0</td>\n",
       "      <td>None</td>\n",
       "      <td>2018</td>\n",
       "      <td>09-26</td>\n",
       "      <td>9</td>\n",
       "      <td>26</td>\n",
       "      <td>Wednesday</td>\n",
       "      <td>0.0</td>\n",
       "      <td>0.0</td>\n",
       "      <td>52.0</td>\n",
       "    </tr>\n",
       "    <tr>\n",
       "      <th>2186</th>\n",
       "      <td>2018-09-27</td>\n",
       "      <td>55.613120</td>\n",
       "      <td>0.019685</td>\n",
       "      <td>0.0</td>\n",
       "      <td>61.200000</td>\n",
       "      <td>94434.0</td>\n",
       "      <td>None</td>\n",
       "      <td>2018</td>\n",
       "      <td>09-27</td>\n",
       "      <td>9</td>\n",
       "      <td>27</td>\n",
       "      <td>Thursday</td>\n",
       "      <td>0.0</td>\n",
       "      <td>0.0</td>\n",
       "      <td>58.0</td>\n",
       "    </tr>\n",
       "    <tr>\n",
       "      <th>2187</th>\n",
       "      <td>2018-09-28</td>\n",
       "      <td>47.189000</td>\n",
       "      <td>0.000000</td>\n",
       "      <td>0.0</td>\n",
       "      <td>26.250000</td>\n",
       "      <td>92518.0</td>\n",
       "      <td>None</td>\n",
       "      <td>2018</td>\n",
       "      <td>09-28</td>\n",
       "      <td>9</td>\n",
       "      <td>28</td>\n",
       "      <td>Friday</td>\n",
       "      <td>0.0</td>\n",
       "      <td>0.0</td>\n",
       "      <td>50.0</td>\n",
       "    </tr>\n",
       "    <tr>\n",
       "      <th>2188</th>\n",
       "      <td>2018-09-29</td>\n",
       "      <td>40.973360</td>\n",
       "      <td>0.009843</td>\n",
       "      <td>0.0</td>\n",
       "      <td>57.360000</td>\n",
       "      <td>76242.0</td>\n",
       "      <td>None</td>\n",
       "      <td>2018</td>\n",
       "      <td>09-29</td>\n",
       "      <td>9</td>\n",
       "      <td>29</td>\n",
       "      <td>Saturday</td>\n",
       "      <td>0.0</td>\n",
       "      <td>0.0</td>\n",
       "      <td>43.0</td>\n",
       "    </tr>\n",
       "    <tr>\n",
       "      <th>2189</th>\n",
       "      <td>2018-09-30</td>\n",
       "      <td>47.940385</td>\n",
       "      <td>0.009843</td>\n",
       "      <td>0.0</td>\n",
       "      <td>85.384615</td>\n",
       "      <td>68785.0</td>\n",
       "      <td>None</td>\n",
       "      <td>2018</td>\n",
       "      <td>09-30</td>\n",
       "      <td>9</td>\n",
       "      <td>30</td>\n",
       "      <td>Sunday</td>\n",
       "      <td>0.0</td>\n",
       "      <td>0.0</td>\n",
       "      <td>48.0</td>\n",
       "    </tr>\n",
       "  </tbody>\n",
       "</table>\n",
       "<p>2190 rows × 15 columns</p>\n",
       "</div>"
      ],
      "text/plain": [
       "      date_time       temp   rain_in  snow_in  pct_cloud_cover  \\\n",
       "0    2012-10-02  63.056000  0.000000      0.0        29.133333   \n",
       "1    2012-10-03  55.874300  0.000000      0.0         3.850000   \n",
       "2    2012-10-04  61.173500  0.000000      0.0        16.708333   \n",
       "3    2012-10-05  48.070727  0.000000      0.0        75.000000   \n",
       "4    2012-10-06  40.272957  0.000000      0.0        61.652174   \n",
       "...         ...        ...       ...      ...              ...   \n",
       "2185 2018-09-26  51.522500  0.009843      0.0        39.833333   \n",
       "2186 2018-09-27  55.613120  0.019685      0.0        61.200000   \n",
       "2187 2018-09-28  47.189000  0.000000      0.0        26.250000   \n",
       "2188 2018-09-29  40.973360  0.009843      0.0        57.360000   \n",
       "2189 2018-09-30  47.940385  0.009843      0.0        85.384615   \n",
       "\n",
       "      traffic_volume holiday  year month_day  month  day    weekday  PRCP  \\\n",
       "0            63289.0    None  2012     10-02     10    2    Tuesday   0.0   \n",
       "1            66345.0    None  2012     10-03     10    3  Wednesday   0.0   \n",
       "2            89939.0    None  2012     10-04     10    4   Thursday   0.0   \n",
       "3            93336.0    None  2012     10-05     10    5     Friday   0.0   \n",
       "4            74910.0    None  2012     10-06     10    6   Saturday   0.0   \n",
       "...              ...     ...   ...       ...    ...  ...        ...   ...   \n",
       "2185         88627.0    None  2018     09-26      9   26  Wednesday   0.0   \n",
       "2186         94434.0    None  2018     09-27      9   27   Thursday   0.0   \n",
       "2187         92518.0    None  2018     09-28      9   28     Friday   0.0   \n",
       "2188         76242.0    None  2018     09-29      9   29   Saturday   0.0   \n",
       "2189         68785.0    None  2018     09-30      9   30     Sunday   0.0   \n",
       "\n",
       "      SNOW  TAVG  \n",
       "0      0.0   NaN  \n",
       "1      0.0   NaN  \n",
       "2      0.0   NaN  \n",
       "3      0.0   NaN  \n",
       "4      0.0   NaN  \n",
       "...    ...   ...  \n",
       "2185   0.0  52.0  \n",
       "2186   0.0  58.0  \n",
       "2187   0.0  50.0  \n",
       "2188   0.0  43.0  \n",
       "2189   0.0  48.0  \n",
       "\n",
       "[2190 rows x 15 columns]"
      ]
     },
     "execution_count": 80,
     "metadata": {},
     "output_type": "execute_result"
    },
    {
     "name": "stdout",
     "output_type": "stream",
     "text": [
      "time: 31 ms (started: 2023-04-09 13:06:52 -06:00)\n"
     ]
    }
   ],
   "source": [
    "# Merging dataframes\n",
    "df_daily = pd.merge(df_daily, df_noaa_fix, on ='date_time', how='left')\n",
    "df_daily"
   ]
  },
  {
   "cell_type": "code",
   "execution_count": 81,
   "metadata": {},
   "outputs": [
    {
     "name": "stdout",
     "output_type": "stream",
     "text": [
      "time: 15 ms (started: 2023-04-09 13:06:52 -06:00)\n"
     ]
    }
   ],
   "source": [
    "# Replacing null temperature values with values from NOAA\n",
    "df_daily.loc[df_daily['temp'].isnull(), 'temp'] = df_daily['TAVG']\n",
    "\n",
    "# Replacing all rainfall and snowfall values with values from NOAA\n",
    "df_daily['snow_in'] = df_daily['SNOW']\n",
    "df_daily['rain_in'] = df_daily['PRCP']"
   ]
  },
  {
   "cell_type": "code",
   "execution_count": 82,
   "metadata": {},
   "outputs": [
    {
     "name": "stdout",
     "output_type": "stream",
     "text": [
      "time: 0 ns (started: 2023-04-09 13:06:52 -06:00)\n"
     ]
    }
   ],
   "source": [
    "# Viewing row with rainfall outlier\n",
    "# df_daily[df_daily['date_time'] == '2016-07-11']"
   ]
  },
  {
   "cell_type": "code",
   "execution_count": 83,
   "metadata": {},
   "outputs": [
    {
     "name": "stdout",
     "output_type": "stream",
     "text": [
      "time: 0 ns (started: 2023-04-09 13:06:52 -06:00)\n"
     ]
    }
   ],
   "source": [
    "# Replacing rainfall outlier with NOAA value and checking result\n",
    "# df_daily.loc[df_daily['rain_in'] > 387, 'rain_in'] = df_daily['PRCP']\n",
    "# df_daily[df_daily['date_time'] == '2016-07-11']"
   ]
  },
  {
   "cell_type": "code",
   "execution_count": 84,
   "metadata": {},
   "outputs": [
    {
     "data": {
      "text/html": [
       "<div>\n",
       "<style scoped>\n",
       "    .dataframe tbody tr th:only-of-type {\n",
       "        vertical-align: middle;\n",
       "    }\n",
       "\n",
       "    .dataframe tbody tr th {\n",
       "        vertical-align: top;\n",
       "    }\n",
       "\n",
       "    .dataframe thead th {\n",
       "        text-align: right;\n",
       "    }\n",
       "</style>\n",
       "<table border=\"1\" class=\"dataframe\">\n",
       "  <thead>\n",
       "    <tr style=\"text-align: right;\">\n",
       "      <th></th>\n",
       "      <th>date_time</th>\n",
       "      <th>temp</th>\n",
       "      <th>rain_in</th>\n",
       "      <th>snow_in</th>\n",
       "      <th>pct_cloud_cover</th>\n",
       "      <th>traffic_volume</th>\n",
       "      <th>holiday</th>\n",
       "      <th>year</th>\n",
       "      <th>month_day</th>\n",
       "      <th>month</th>\n",
       "      <th>day</th>\n",
       "      <th>weekday</th>\n",
       "    </tr>\n",
       "  </thead>\n",
       "  <tbody>\n",
       "    <tr>\n",
       "      <th>0</th>\n",
       "      <td>2012-10-02</td>\n",
       "      <td>63.056000</td>\n",
       "      <td>0.0</td>\n",
       "      <td>0.0</td>\n",
       "      <td>29.133333</td>\n",
       "      <td>63289.0</td>\n",
       "      <td>None</td>\n",
       "      <td>2012</td>\n",
       "      <td>10-02</td>\n",
       "      <td>10</td>\n",
       "      <td>2</td>\n",
       "      <td>Tuesday</td>\n",
       "    </tr>\n",
       "    <tr>\n",
       "      <th>1</th>\n",
       "      <td>2012-10-03</td>\n",
       "      <td>55.874300</td>\n",
       "      <td>0.0</td>\n",
       "      <td>0.0</td>\n",
       "      <td>3.850000</td>\n",
       "      <td>66345.0</td>\n",
       "      <td>None</td>\n",
       "      <td>2012</td>\n",
       "      <td>10-03</td>\n",
       "      <td>10</td>\n",
       "      <td>3</td>\n",
       "      <td>Wednesday</td>\n",
       "    </tr>\n",
       "    <tr>\n",
       "      <th>2</th>\n",
       "      <td>2012-10-04</td>\n",
       "      <td>61.173500</td>\n",
       "      <td>0.0</td>\n",
       "      <td>0.0</td>\n",
       "      <td>16.708333</td>\n",
       "      <td>89939.0</td>\n",
       "      <td>None</td>\n",
       "      <td>2012</td>\n",
       "      <td>10-04</td>\n",
       "      <td>10</td>\n",
       "      <td>4</td>\n",
       "      <td>Thursday</td>\n",
       "    </tr>\n",
       "    <tr>\n",
       "      <th>3</th>\n",
       "      <td>2012-10-05</td>\n",
       "      <td>48.070727</td>\n",
       "      <td>0.0</td>\n",
       "      <td>0.0</td>\n",
       "      <td>75.000000</td>\n",
       "      <td>93336.0</td>\n",
       "      <td>None</td>\n",
       "      <td>2012</td>\n",
       "      <td>10-05</td>\n",
       "      <td>10</td>\n",
       "      <td>5</td>\n",
       "      <td>Friday</td>\n",
       "    </tr>\n",
       "    <tr>\n",
       "      <th>4</th>\n",
       "      <td>2012-10-06</td>\n",
       "      <td>40.272957</td>\n",
       "      <td>0.0</td>\n",
       "      <td>0.0</td>\n",
       "      <td>61.652174</td>\n",
       "      <td>74910.0</td>\n",
       "      <td>None</td>\n",
       "      <td>2012</td>\n",
       "      <td>10-06</td>\n",
       "      <td>10</td>\n",
       "      <td>6</td>\n",
       "      <td>Saturday</td>\n",
       "    </tr>\n",
       "  </tbody>\n",
       "</table>\n",
       "</div>"
      ],
      "text/plain": [
       "   date_time       temp  rain_in  snow_in  pct_cloud_cover  traffic_volume  \\\n",
       "0 2012-10-02  63.056000      0.0      0.0        29.133333         63289.0   \n",
       "1 2012-10-03  55.874300      0.0      0.0         3.850000         66345.0   \n",
       "2 2012-10-04  61.173500      0.0      0.0        16.708333         89939.0   \n",
       "3 2012-10-05  48.070727      0.0      0.0        75.000000         93336.0   \n",
       "4 2012-10-06  40.272957      0.0      0.0        61.652174         74910.0   \n",
       "\n",
       "  holiday  year month_day  month  day    weekday  \n",
       "0    None  2012     10-02     10    2    Tuesday  \n",
       "1    None  2012     10-03     10    3  Wednesday  \n",
       "2    None  2012     10-04     10    4   Thursday  \n",
       "3    None  2012     10-05     10    5     Friday  \n",
       "4    None  2012     10-06     10    6   Saturday  "
      ]
     },
     "execution_count": 84,
     "metadata": {},
     "output_type": "execute_result"
    },
    {
     "name": "stdout",
     "output_type": "stream",
     "text": [
      "time: 32 ms (started: 2023-04-09 13:06:52 -06:00)\n"
     ]
    }
   ],
   "source": [
    "# Dropping unnecessary columns\n",
    "df_daily.drop(['PRCP', 'SNOW', 'TAVG'], axis=1, inplace=True)\n",
    "\n",
    "# Checking results\n",
    "df_daily.head()"
   ]
  },
  {
   "cell_type": "code",
   "execution_count": 85,
   "metadata": {},
   "outputs": [
    {
     "data": {
      "image/png": "[encoded data removed]",
      "text/plain": [
       "<Figure size 864x576 with 1 Axes>"
      ]
     },
     "metadata": {},
     "output_type": "display_data"
    },
    {
     "name": "stdout",
     "output_type": "stream",
     "text": [
      "time: 172 ms (started: 2023-04-09 13:06:52 -06:00)\n"
     ]
    }
   ],
   "source": [
    "# Plotting temp for visual inspection\n",
    "fig, ax = plt.subplots(figsize=(12,8))\n",
    "plt.plot(df_daily['temp'], color = \"black\", label='Temp')\n",
    "\n",
    "ax.set_xlabel('date_time')\n",
    "ax.set_ylabel('temp')\n",
    "ax.set_title('temperature over time');"
   ]
  },
  {
   "cell_type": "code",
   "execution_count": 86,
   "metadata": {},
   "outputs": [
    {
     "data": {
      "text/plain": [
       "Text(0.5, 1.0, 'traffic_volume')"
      ]
     },
     "execution_count": 86,
     "metadata": {},
     "output_type": "execute_result"
    },
    {
     "data": {
      "image/png": "[encoded data removed]",
      "text/plain": [
       "<Figure size 1152x864 with 4 Axes>"
      ]
     },
     "metadata": {},
     "output_type": "display_data"
    },
    {
     "name": "stdout",
     "output_type": "stream",
     "text": [
      "time: 500 ms (started: 2023-04-09 13:06:52 -06:00)\n"
     ]
    }
   ],
   "source": [
    "fig, axes = plt.subplots(2, 2, sharex=True, figsize=(16,12))\n",
    "axes[0, 0].plot(df_daily['rain_in']); axes[0, 0].set_title('rain_in')\n",
    "axes[0, 1].plot(df_daily['snow_in']); axes[0, 1].set_title('snow_in')\n",
    "axes[1, 0].plot(df_daily['pct_cloud_cover']); axes[1, 0].set_title('pct_cloud_cover')\n",
    "axes[1, 1].plot(df_daily['traffic_volume']); axes[1, 1].set_title('traffic_volume')"
   ]
  },
  {
   "cell_type": "code",
   "execution_count": 95,
   "metadata": {},
   "outputs": [
    {
     "name": "stdout",
     "output_type": "stream",
     "text": [
      "45.90382363831284\n",
      "34.625\n",
      "52.81666666666666\n",
      "time: 0 ns (started: 2023-04-09 13:09:41 -06:00)\n"
     ]
    }
   ],
   "source": [
    "# Calculating average daily temperature  and average yearly rain/snow values\n",
    "print(df_daily['temp'].sum() / (len(df_daily.index)))\n",
    "print(df_daily['rain_in'].sum() / (len(df_daily.index) / 365))\n",
    "print(df_daily['snow_in'].sum() / (len(df_daily.index) / 365))"
   ]
  },
  {
   "cell_type": "markdown",
   "metadata": {},
   "source": [
    "We've done it! At last we have a dataset with complete, sensible daily values. We can finally begin modelling."
   ]
  },
  {
   "cell_type": "code",
   "execution_count": 96,
   "metadata": {},
   "outputs": [
    {
     "name": "stdout",
     "output_type": "stream",
     "text": [
      "<class 'pandas.core.frame.DataFrame'>\n",
      "Int64Index: 2190 entries, 0 to 2189\n",
      "Data columns (total 12 columns):\n",
      " #   Column           Non-Null Count  Dtype         \n",
      "---  ------           --------------  -----         \n",
      " 0   date_time        2190 non-null   datetime64[ns]\n",
      " 1   temp             2190 non-null   float64       \n",
      " 2   rain_in          2190 non-null   float64       \n",
      " 3   snow_in          2190 non-null   float64       \n",
      " 4   pct_cloud_cover  2190 non-null   float64       \n",
      " 5   traffic_volume   2190 non-null   float64       \n",
      " 6   holiday          1860 non-null   object        \n",
      " 7   year             2190 non-null   int32         \n",
      " 8   month_day        1860 non-null   object        \n",
      " 9   month            2190 non-null   int32         \n",
      " 10  day              2190 non-null   int32         \n",
      " 11  weekday          1860 non-null   object        \n",
      "dtypes: datetime64[ns](1), float64(5), int32(3), object(3)\n",
      "memory usage: 276.8+ KB\n",
      "time: 0 ns (started: 2023-04-09 13:09:58 -06:00)\n"
     ]
    }
   ],
   "source": [
    "df_daily.info()"
   ]
  },
  {
   "cell_type": "code",
   "execution_count": 97,
   "metadata": {},
   "outputs": [
    {
     "data": {
      "text/html": [
       "<div>\n",
       "<style scoped>\n",
       "    .dataframe tbody tr th:only-of-type {\n",
       "        vertical-align: middle;\n",
       "    }\n",
       "\n",
       "    .dataframe tbody tr th {\n",
       "        vertical-align: top;\n",
       "    }\n",
       "\n",
       "    .dataframe thead th {\n",
       "        text-align: right;\n",
       "    }\n",
       "</style>\n",
       "<table border=\"1\" class=\"dataframe\">\n",
       "  <thead>\n",
       "    <tr style=\"text-align: right;\">\n",
       "      <th></th>\n",
       "      <th>temp</th>\n",
       "      <th>rain_in</th>\n",
       "      <th>snow_in</th>\n",
       "      <th>pct_cloud_cover</th>\n",
       "      <th>traffic_volume</th>\n",
       "    </tr>\n",
       "  </thead>\n",
       "  <tbody>\n",
       "    <tr>\n",
       "      <th>temp</th>\n",
       "      <td>1.000000</td>\n",
       "      <td>0.161010</td>\n",
       "      <td>-0.194483</td>\n",
       "      <td>-0.220893</td>\n",
       "      <td>0.109114</td>\n",
       "    </tr>\n",
       "    <tr>\n",
       "      <th>rain_in</th>\n",
       "      <td>0.161010</td>\n",
       "      <td>1.000000</td>\n",
       "      <td>0.171955</td>\n",
       "      <td>0.239767</td>\n",
       "      <td>0.235239</td>\n",
       "    </tr>\n",
       "    <tr>\n",
       "      <th>snow_in</th>\n",
       "      <td>-0.194483</td>\n",
       "      <td>0.171955</td>\n",
       "      <td>1.000000</td>\n",
       "      <td>0.193427</td>\n",
       "      <td>0.008450</td>\n",
       "    </tr>\n",
       "    <tr>\n",
       "      <th>pct_cloud_cover</th>\n",
       "      <td>-0.220893</td>\n",
       "      <td>0.239767</td>\n",
       "      <td>0.193427</td>\n",
       "      <td>1.000000</td>\n",
       "      <td>0.334970</td>\n",
       "    </tr>\n",
       "    <tr>\n",
       "      <th>traffic_volume</th>\n",
       "      <td>0.109114</td>\n",
       "      <td>0.235239</td>\n",
       "      <td>0.008450</td>\n",
       "      <td>0.334970</td>\n",
       "      <td>1.000000</td>\n",
       "    </tr>\n",
       "  </tbody>\n",
       "</table>\n",
       "</div>"
      ],
      "text/plain": [
       "                     temp   rain_in   snow_in  pct_cloud_cover  traffic_volume\n",
       "temp             1.000000  0.161010 -0.194483        -0.220893        0.109114\n",
       "rain_in          0.161010  1.000000  0.171955         0.239767        0.235239\n",
       "snow_in         -0.194483  0.171955  1.000000         0.193427        0.008450\n",
       "pct_cloud_cover -0.220893  0.239767  0.193427         1.000000        0.334970\n",
       "traffic_volume   0.109114  0.235239  0.008450         0.334970        1.000000"
      ]
     },
     "execution_count": 97,
     "metadata": {},
     "output_type": "execute_result"
    },
    {
     "name": "stdout",
     "output_type": "stream",
     "text": [
      "time: 16 ms (started: 2023-04-09 13:09:58 -06:00)\n"
     ]
    }
   ],
   "source": [
    "df_daily.drop(['year', 'month', 'day'], axis=1).corr()"
   ]
  },
  {
   "cell_type": "code",
   "execution_count": null,
   "metadata": {},
   "outputs": [],
   "source": []
  },
  {
   "cell_type": "markdown",
   "metadata": {},
   "source": [
    "# Baseline Model\n",
    "\n",
    "To start, we'll make a baseline model with just the dates and traffic volume values."
   ]
  },
  {
   "cell_type": "code",
   "execution_count": 109,
   "metadata": {},
   "outputs": [
    {
     "data": {
      "text/plain": [
       "date_time\n",
       "2012-10-02    63289.0\n",
       "2012-10-03    66345.0\n",
       "2012-10-04    89939.0\n",
       "2012-10-05    93336.0\n",
       "2012-10-06    74910.0\n",
       "               ...   \n",
       "2018-09-26    88627.0\n",
       "2018-09-27    94434.0\n",
       "2018-09-28    92518.0\n",
       "2018-09-29    76242.0\n",
       "2018-09-30    68785.0\n",
       "Name: traffic_volume, Length: 2190, dtype: float64"
      ]
     },
     "execution_count": 109,
     "metadata": {},
     "output_type": "execute_result"
    },
    {
     "name": "stdout",
     "output_type": "stream",
     "text": [
      "time: 0 ns (started: 2023-04-09 13:15:55 -06:00)\n"
     ]
    }
   ],
   "source": [
    "df_daily.set_index('date_time', inplace=True)\n",
    "\n",
    "df_baseline = df_daily['traffic_volume']\n",
    "df_baseline"
   ]
  },
  {
   "cell_type": "code",
   "execution_count": 99,
   "metadata": {},
   "outputs": [
    {
     "name": "stdout",
     "output_type": "stream",
     "text": [
      "       t-1      t+1\n",
      "0      NaN  63289.0\n",
      "1  63289.0  66345.0\n",
      "2  66345.0  89939.0\n",
      "3  89939.0  93336.0\n",
      "4  93336.0  74910.0\n",
      "time: 15 ms (started: 2023-04-09 13:09:58 -06:00)\n"
     ]
    }
   ],
   "source": [
    "from pandas import DataFrame\n",
    "from pandas import concat\n",
    "from sklearn.metrics import mean_squared_error\n",
    "\n",
    "# Create lagged dataset\n",
    "values = DataFrame(df_baseline.values)\n",
    "dataframe = concat([values.shift(1), values], axis=1)\n",
    "dataframe.columns = ['t-1', 't+1']\n",
    "print(dataframe.head(5))"
   ]
  },
  {
   "cell_type": "code",
   "execution_count": 100,
   "metadata": {},
   "outputs": [
    {
     "name": "stdout",
     "output_type": "stream",
     "text": [
      "time: 0 ns (started: 2023-04-09 13:09:58 -06:00)\n"
     ]
    }
   ],
   "source": [
    "# split into train and test sets\n",
    "X = dataframe.values\n",
    "train_size = int(len(X) * 0.8)\n",
    "train, test = X[1:train_size], X[train_size:]\n",
    "train_X, train_y = train[:,0], train[:,1]\n",
    "test_X, test_y = test[:,0], test[:,1]"
   ]
  },
  {
   "cell_type": "code",
   "execution_count": 136,
   "metadata": {},
   "outputs": [
    {
     "data": {
      "text/plain": [
       "date_time\n",
       "2012-10-02     63289.0\n",
       "2012-10-03     66345.0\n",
       "2012-10-04     89939.0\n",
       "2012-10-05     93336.0\n",
       "2012-10-06     74910.0\n",
       "                ...   \n",
       "2017-07-15     67582.0\n",
       "2017-07-16     64138.0\n",
       "2017-07-17     90116.0\n",
       "2017-07-18    106965.0\n",
       "2017-07-19    154315.0\n",
       "Name: traffic_volume, Length: 1752, dtype: float64"
      ]
     },
     "execution_count": 136,
     "metadata": {},
     "output_type": "execute_result"
    },
    {
     "name": "stdout",
     "output_type": "stream",
     "text": [
      "time: 0 ns (started: 2023-04-09 13:46:13 -06:00)\n"
     ]
    }
   ],
   "source": [
    "train"
   ]
  },
  {
   "cell_type": "code",
   "execution_count": null,
   "metadata": {},
   "outputs": [],
   "source": []
  },
  {
   "cell_type": "code",
   "execution_count": 101,
   "metadata": {},
   "outputs": [
    {
     "name": "stdout",
     "output_type": "stream",
     "text": [
      "time: 0 ns (started: 2023-04-09 13:09:58 -06:00)\n"
     ]
    }
   ],
   "source": [
    "# persistence model\n",
    "def model_persistence(x):\n",
    " return x"
   ]
  },
  {
   "cell_type": "code",
   "execution_count": 102,
   "metadata": {},
   "outputs": [
    {
     "name": "stdout",
     "output_type": "stream",
     "text": [
      "Test MSE: 1385776125.539\n",
      "Test RMSE: 37226.014\n",
      "time: 0 ns (started: 2023-04-09 13:09:58 -06:00)\n"
     ]
    }
   ],
   "source": [
    "# walk-forward validation\n",
    "predictions = list()\n",
    "for x in test_X:\n",
    " yhat = model_persistence(x)\n",
    " predictions.append(yhat)\n",
    "test_score = mean_squared_error(test_y, predictions)\n",
    "print('Test MSE: %.3f' % test_score)\n",
    "print('Test RMSE: %.3f' % np.sqrt(test_score))"
   ]
  },
  {
   "cell_type": "code",
   "execution_count": 103,
   "metadata": {},
   "outputs": [
    {
     "data": {
      "image/png": "[encoded data removed]",
      "text/plain": [
       "<Figure size 864x576 with 1 Axes>"
      ]
     },
     "metadata": {},
     "output_type": "display_data"
    },
    {
     "name": "stdout",
     "output_type": "stream",
     "text": [
      "time: 203 ms (started: 2023-04-09 13:09:58 -06:00)\n"
     ]
    }
   ],
   "source": [
    "# plot predictions and expected results\n",
    "fig, ax = plt.subplots(figsize=(12,8))\n",
    "\n",
    "plt.plot(train_y)\n",
    "plt.plot([None for i in train_y] + [x for x in test_y])\n",
    "plt.plot([None for i in train_y] + [x for x in predictions])\n",
    "plt.show()"
   ]
  },
  {
   "cell_type": "markdown",
   "metadata": {},
   "source": [
    "# First Simple Model"
   ]
  },
  {
   "cell_type": "code",
   "execution_count": 115,
   "metadata": {},
   "outputs": [
    {
     "name": "stdout",
     "output_type": "stream",
     "text": [
      "time: 0 ns (started: 2023-04-09 13:21:52 -06:00)\n"
     ]
    }
   ],
   "source": [
    "# Define train and test sets\n",
    "train_size = int(len(df_baseline) * 0.8)\n",
    "\n",
    "train = df_baseline[:train_size]\n",
    "test = df_baseline[train_size:]"
   ]
  },
  {
   "cell_type": "code",
   "execution_count": 118,
   "metadata": {},
   "outputs": [
    {
     "data": {
      "image/png": "[encoded data removed]",
      "text/plain": [
       "<Figure size 864x576 with 1 Axes>"
      ]
     },
     "metadata": {},
     "output_type": "display_data"
    },
    {
     "name": "stdout",
     "output_type": "stream",
     "text": [
      "time: 265 ms (started: 2023-04-09 13:22:36 -06:00)\n"
     ]
    }
   ],
   "source": [
    "fig, ax = plt.subplots(figsize=(12, 8))\n",
    "ax.plot(train, label='train')\n",
    "ax.plot(test, label='test')\n",
    "ax.set_title('Train-Test Split');\n",
    "plt.legend();"
   ]
  },
  {
   "cell_type": "code",
   "execution_count": 131,
   "metadata": {},
   "outputs": [
    {
     "name": "stdout",
     "output_type": "stream",
     "text": [
      "The p-value associated with the Dickey-Fuller statistical test is 1.4989446630712853e-06,\n",
      " therefore we can safely assume that the dataset is stationary.\n",
      "time: 78 ms (started: 2023-04-09 13:40:26 -06:00)\n"
     ]
    }
   ],
   "source": [
    "from statsmodels.tsa.stattools import adfuller\n",
    "from numpy import log\n",
    "\n",
    "ad_test = adfuller(df_baseline)[1]\n",
    "print(f\"The p-value associated with the Dickey-Fuller statistical test is {ad_test},\")\n",
    "if ad_test < 0.05:\n",
    "    print(\" therefore we can safely assume that the dataset is stationary.\")\n",
    "else:\n",
    "    print(\" therefore we cannot reject the null hypothesis that the dataset is \\\n",
    "not stationary.\")"
   ]
  },
  {
   "cell_type": "code",
   "execution_count": 132,
   "metadata": {},
   "outputs": [
    {
     "name": "stderr",
     "output_type": "stream",
     "text": [
      "C:\\Users\\pschu\\anaconda3\\envs\\learn-env\\lib\\site-packages\\statsmodels\\tsa\\base\\tsa_model.py:471: ValueWarning: No frequency information was provided, so inferred frequency D will be used.\n",
      "  self._init_dates(dates, freq)\n",
      "C:\\Users\\pschu\\anaconda3\\envs\\learn-env\\lib\\site-packages\\statsmodels\\tsa\\base\\tsa_model.py:471: ValueWarning: No frequency information was provided, so inferred frequency D will be used.\n",
      "  self._init_dates(dates, freq)\n",
      "C:\\Users\\pschu\\anaconda3\\envs\\learn-env\\lib\\site-packages\\statsmodels\\tsa\\base\\tsa_model.py:471: ValueWarning: No frequency information was provided, so inferred frequency D will be used.\n",
      "  self._init_dates(dates, freq)\n"
     ]
    },
    {
     "name": "stdout",
     "output_type": "stream",
     "text": [
      "time: 453 ms (started: 2023-04-09 13:40:31 -06:00)\n"
     ]
    }
   ],
   "source": [
    "from statsmodels.tsa.arima.model import ARIMA\n",
    "\n",
    "# Build Model\n",
    "model = ARIMA(train, order=(1, 0, 2)).fit()\n",
    "\n",
    "# Predictions from model\n",
    "y_pred = model.predict(start = test.index[0], end = test.index[-1])"
   ]
  },
  {
   "cell_type": "code",
   "execution_count": 133,
   "metadata": {},
   "outputs": [
    {
     "name": "stdout",
     "output_type": "stream",
     "text": [
      "Test MSE: 1017403971.023\n",
      "Test RMSE: 31896.771\n",
      "time: 0 ns (started: 2023-04-09 13:40:34 -06:00)\n"
     ]
    }
   ],
   "source": [
    "# MSE and RMSE scores\n",
    "test_score = mean_squared_error(test, y_pred)\n",
    "print('Test MSE: %.3f' % test_score)\n",
    "print('Test RMSE: %.3f' % np.sqrt(test_score))"
   ]
  },
  {
   "cell_type": "code",
   "execution_count": null,
   "metadata": {},
   "outputs": [],
   "source": []
  },
  {
   "cell_type": "code",
   "execution_count": null,
   "metadata": {},
   "outputs": [],
   "source": []
  },
  {
   "cell_type": "code",
   "execution_count": null,
   "metadata": {},
   "outputs": [],
   "source": []
  },
  {
   "cell_type": "code",
   "execution_count": null,
   "metadata": {},
   "outputs": [],
   "source": []
  },
  {
   "cell_type": "code",
   "execution_count": null,
   "metadata": {},
   "outputs": [],
   "source": []
  },
  {
   "cell_type": "code",
   "execution_count": null,
   "metadata": {},
   "outputs": [],
   "source": []
  },
  {
   "cell_type": "code",
   "execution_count": null,
   "metadata": {},
   "outputs": [],
   "source": []
  },
  {
   "cell_type": "code",
   "execution_count": null,
   "metadata": {},
   "outputs": [],
   "source": []
  },
  {
   "cell_type": "code",
   "execution_count": null,
   "metadata": {},
   "outputs": [],
   "source": []
  },
  {
   "cell_type": "code",
   "execution_count": null,
   "metadata": {},
   "outputs": [],
   "source": []
  },
  {
   "cell_type": "code",
   "execution_count": null,
   "metadata": {},
   "outputs": [],
   "source": []
  },
  {
   "cell_type": "code",
   "execution_count": null,
   "metadata": {},
   "outputs": [],
   "source": []
  },
  {
   "cell_type": "code",
   "execution_count": null,
   "metadata": {},
   "outputs": [],
   "source": []
  },
  {
   "cell_type": "code",
   "execution_count": null,
   "metadata": {},
   "outputs": [],
   "source": []
  },
  {
   "cell_type": "code",
   "execution_count": null,
   "metadata": {},
   "outputs": [],
   "source": []
  },
  {
   "cell_type": "code",
   "execution_count": null,
   "metadata": {},
   "outputs": [],
   "source": []
  },
  {
   "cell_type": "code",
   "execution_count": null,
   "metadata": {},
   "outputs": [],
   "source": []
  },
  {
   "cell_type": "code",
   "execution_count": 124,
   "metadata": {},
   "outputs": [
    {
     "name": "stdout",
     "output_type": "stream",
     "text": [
      "Results of Dickey-Fuller Test:\n",
      "Test Statistic                   -5.566721\n",
      "p-value                           0.000001\n",
      "#Lags Used                       22.000000\n",
      "Number of Observations Used    2167.000000\n",
      "Critical Value (1%)              -3.433371\n",
      "Critical Value (5%)              -2.862875\n",
      "Critical Value (10%)             -2.567481\n",
      "dtype: float64\n",
      "time: 94 ms (started: 2023-04-09 13:29:17 -06:00)\n"
     ]
    }
   ],
   "source": [
    "def adf_test(timeseries):\n",
    "    print ('Results of Dickey-Fuller Test:')\n",
    "    dftest = adfuller(timeseries, autolag='AIC')\n",
    "    dfoutput = pd.Series(dftest[0:4], index=['Test Statistic','p-value','#Lags Used','Number of Observations Used'])\n",
    "    for key,value in dftest[4].items():\n",
    "        dfoutput['Critical Value (%s)'%key] = value\n",
    "    print (dfoutput)\n",
    "    \n",
    "# Call the function and run the test\n",
    "adf_test(df_baseline)"
   ]
  },
  {
   "cell_type": "code",
   "execution_count": 125,
   "metadata": {},
   "outputs": [
    {
     "name": "stdout",
     "output_type": "stream",
     "text": [
      "Results of KPSS Test:\n",
      "Test Statistic            1.85936\n",
      "p-value                   0.01000\n",
      "#Lags Used               19.00000\n",
      "Critical Value (10%)      0.34700\n",
      "Critical Value (5%)       0.46300\n",
      "Critical Value (2.5%)     0.57400\n",
      "Critical Value (1%)       0.73900\n",
      "dtype: float64\n",
      "time: 15 ms (started: 2023-04-09 13:30:43 -06:00)\n"
     ]
    },
    {
     "name": "stderr",
     "output_type": "stream",
     "text": [
      "C:\\Users\\pschu\\anaconda3\\envs\\learn-env\\lib\\site-packages\\statsmodels\\tsa\\stattools.py:2018: InterpolationWarning: The test statistic is outside of the range of p-values available in the\n",
      "look-up table. The actual p-value is smaller than the p-value returned.\n",
      "\n",
      "  warnings.warn(\n"
     ]
    }
   ],
   "source": [
    "from statsmodels.tsa.stattools import kpss\n",
    "\n",
    "def kpss_test(timeseries):\n",
    "    print ('Results of KPSS Test:')\n",
    "    kpsstest = kpss(timeseries, regression='c', nlags=\"auto\")\n",
    "    kpss_output = pd.Series(kpsstest[0:3], index=['Test Statistic','p-value','#Lags Used'])\n",
    "    for key,value in kpsstest[3].items():\n",
    "        kpss_output['Critical Value (%s)'%key] = value\n",
    "    print (kpss_output)\n",
    "    \n",
    "kpss_test(df_baseline)"
   ]
  },
  {
   "cell_type": "code",
   "execution_count": null,
   "metadata": {},
   "outputs": [],
   "source": []
  },
  {
   "cell_type": "code",
   "execution_count": null,
   "metadata": {},
   "outputs": [],
   "source": []
  },
  {
   "cell_type": "code",
   "execution_count": null,
   "metadata": {},
   "outputs": [],
   "source": []
  },
  {
   "cell_type": "code",
   "execution_count": null,
   "metadata": {},
   "outputs": [],
   "source": []
  },
  {
   "cell_type": "code",
   "execution_count": null,
   "metadata": {},
   "outputs": [],
   "source": []
  },
  {
   "cell_type": "code",
   "execution_count": null,
   "metadata": {},
   "outputs": [],
   "source": []
  },
  {
   "cell_type": "code",
   "execution_count": null,
   "metadata": {},
   "outputs": [],
   "source": []
  },
  {
   "cell_type": "code",
   "execution_count": null,
   "metadata": {},
   "outputs": [],
   "source": []
  },
  {
   "cell_type": "code",
   "execution_count": null,
   "metadata": {},
   "outputs": [],
   "source": []
  },
  {
   "cell_type": "code",
   "execution_count": null,
   "metadata": {},
   "outputs": [],
   "source": []
  },
  {
   "cell_type": "code",
   "execution_count": null,
   "metadata": {},
   "outputs": [],
   "source": []
  },
  {
   "cell_type": "code",
   "execution_count": null,
   "metadata": {},
   "outputs": [],
   "source": []
  },
  {
   "cell_type": "code",
   "execution_count": null,
   "metadata": {},
   "outputs": [],
   "source": []
  },
  {
   "cell_type": "code",
   "execution_count": null,
   "metadata": {},
   "outputs": [],
   "source": []
  },
  {
   "cell_type": "code",
   "execution_count": null,
   "metadata": {},
   "outputs": [],
   "source": []
  },
  {
   "cell_type": "code",
   "execution_count": null,
   "metadata": {},
   "outputs": [],
   "source": []
  },
  {
   "cell_type": "code",
   "execution_count": null,
   "metadata": {},
   "outputs": [],
   "source": []
  },
  {
   "cell_type": "code",
   "execution_count": null,
   "metadata": {},
   "outputs": [],
   "source": []
  }
 ],
 "metadata": {
  "celltoolbar": "Create Assignment",
  "kernelspec": {
   "display_name": "Python (learn-env)",
   "language": "python",
   "name": "learn-env"
  },
  "language_info": {
   "codemirror_mode": {
    "name": "ipython",
    "version": 3
   },
   "file_extension": ".py",
   "mimetype": "text/x-python",
   "name": "python",
   "nbconvert_exporter": "python",
   "pygments_lexer": "ipython3",
   "version": "3.8.5"
  },
  "toc": {
   "base_numbering": 1,
   "nav_menu": {},
   "number_sections": true,
   "sideBar": true,
   "skip_h1_title": false,
   "title_cell": "Table of Contents",
   "title_sidebar": "Contents",
   "toc_cell": false,
   "toc_position": {},
   "toc_section_display": true,
   "toc_window_display": false
  }
 },
 "nbformat": 4,
 "nbformat_minor": 4
}
