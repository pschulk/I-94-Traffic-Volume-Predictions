{
 "cells": [
  {
   "cell_type": "markdown",
   "metadata": {},
   "source": [
    "# Capstone Notebook"
   ]
  },
  {
   "cell_type": "markdown",
   "metadata": {},
   "source": [
    "# Stakeholder and Business Problem\n",
    "\n",
    "This project is intended to provide the Minnesota Department of Transportation (MNDOT) with information and recommendations about what factors lead to heavy traffic volume and if anything can be done along I-94 to mitigate these factors."
   ]
  },
  {
   "cell_type": "code",
   "execution_count": 1,
   "metadata": {
    "nbgrader": {
     "grade": false,
     "grade_id": "0d38786c25982cb53f9a4a1b6e96c717",
     "locked": false,
     "schema_version": 3,
     "solution": true,
     "task": false
    }
   },
   "outputs": [
    {
     "name": "stdout",
     "output_type": "stream",
     "text": [
      "time: 0 ns (started: 2023-04-03 08:59:46 -06:00)\n"
     ]
    }
   ],
   "source": [
    "# Import tools and libraries\n",
    "import pandas as pd\n",
    "import numpy as np\n",
    "import matplotlib.pyplot as plt\n",
    "import matplotlib.ticker as ticker\n",
    "\n",
    "import seaborn as sns\n",
    "sns.set(font_scale = 1)\n",
    "\n",
    "# try:\n",
    "    # %load_ext autotime\n",
    "# except:\n",
    "    # !pip install ipython-autotime\n",
    "    # %load_ext autotime\n",
    "    \n",
    "%load_ext autotime"
   ]
  },
  {
   "cell_type": "code",
   "execution_count": 2,
   "metadata": {},
   "outputs": [
    {
     "name": "stdout",
     "output_type": "stream",
     "text": [
      "time: 78 ms (started: 2023-04-03 08:59:46 -06:00)\n"
     ]
    }
   ],
   "source": [
    "# Read in traffic data\n",
    "df = pd.read_csv('data\\Metro_Interstate_Traffic_Volume.csv')"
   ]
  },
  {
   "cell_type": "code",
   "execution_count": 3,
   "metadata": {},
   "outputs": [
    {
     "data": {
      "text/html": [
       "<div>\n",
       "<style scoped>\n",
       "    .dataframe tbody tr th:only-of-type {\n",
       "        vertical-align: middle;\n",
       "    }\n",
       "\n",
       "    .dataframe tbody tr th {\n",
       "        vertical-align: top;\n",
       "    }\n",
       "\n",
       "    .dataframe thead th {\n",
       "        text-align: right;\n",
       "    }\n",
       "</style>\n",
       "<table border=\"1\" class=\"dataframe\">\n",
       "  <thead>\n",
       "    <tr style=\"text-align: right;\">\n",
       "      <th></th>\n",
       "      <th>holiday</th>\n",
       "      <th>temp</th>\n",
       "      <th>rain_1h</th>\n",
       "      <th>snow_1h</th>\n",
       "      <th>clouds_all</th>\n",
       "      <th>weather_main</th>\n",
       "      <th>weather_description</th>\n",
       "      <th>date_time</th>\n",
       "      <th>traffic_volume</th>\n",
       "    </tr>\n",
       "  </thead>\n",
       "  <tbody>\n",
       "    <tr>\n",
       "      <th>0</th>\n",
       "      <td>None</td>\n",
       "      <td>288.28</td>\n",
       "      <td>0.0</td>\n",
       "      <td>0.0</td>\n",
       "      <td>40</td>\n",
       "      <td>Clouds</td>\n",
       "      <td>scattered clouds</td>\n",
       "      <td>2012-10-02 09:00:00</td>\n",
       "      <td>5545</td>\n",
       "    </tr>\n",
       "    <tr>\n",
       "      <th>1</th>\n",
       "      <td>None</td>\n",
       "      <td>289.36</td>\n",
       "      <td>0.0</td>\n",
       "      <td>0.0</td>\n",
       "      <td>75</td>\n",
       "      <td>Clouds</td>\n",
       "      <td>broken clouds</td>\n",
       "      <td>2012-10-02 10:00:00</td>\n",
       "      <td>4516</td>\n",
       "    </tr>\n",
       "    <tr>\n",
       "      <th>2</th>\n",
       "      <td>None</td>\n",
       "      <td>289.58</td>\n",
       "      <td>0.0</td>\n",
       "      <td>0.0</td>\n",
       "      <td>90</td>\n",
       "      <td>Clouds</td>\n",
       "      <td>overcast clouds</td>\n",
       "      <td>2012-10-02 11:00:00</td>\n",
       "      <td>4767</td>\n",
       "    </tr>\n",
       "    <tr>\n",
       "      <th>3</th>\n",
       "      <td>None</td>\n",
       "      <td>290.13</td>\n",
       "      <td>0.0</td>\n",
       "      <td>0.0</td>\n",
       "      <td>90</td>\n",
       "      <td>Clouds</td>\n",
       "      <td>overcast clouds</td>\n",
       "      <td>2012-10-02 12:00:00</td>\n",
       "      <td>5026</td>\n",
       "    </tr>\n",
       "    <tr>\n",
       "      <th>4</th>\n",
       "      <td>None</td>\n",
       "      <td>291.14</td>\n",
       "      <td>0.0</td>\n",
       "      <td>0.0</td>\n",
       "      <td>75</td>\n",
       "      <td>Clouds</td>\n",
       "      <td>broken clouds</td>\n",
       "      <td>2012-10-02 13:00:00</td>\n",
       "      <td>4918</td>\n",
       "    </tr>\n",
       "  </tbody>\n",
       "</table>\n",
       "</div>"
      ],
      "text/plain": [
       "  holiday    temp  rain_1h  snow_1h  clouds_all weather_main  \\\n",
       "0    None  288.28      0.0      0.0          40       Clouds   \n",
       "1    None  289.36      0.0      0.0          75       Clouds   \n",
       "2    None  289.58      0.0      0.0          90       Clouds   \n",
       "3    None  290.13      0.0      0.0          90       Clouds   \n",
       "4    None  291.14      0.0      0.0          75       Clouds   \n",
       "\n",
       "  weather_description            date_time  traffic_volume  \n",
       "0    scattered clouds  2012-10-02 09:00:00            5545  \n",
       "1       broken clouds  2012-10-02 10:00:00            4516  \n",
       "2     overcast clouds  2012-10-02 11:00:00            4767  \n",
       "3     overcast clouds  2012-10-02 12:00:00            5026  \n",
       "4       broken clouds  2012-10-02 13:00:00            4918  "
      ]
     },
     "execution_count": 3,
     "metadata": {},
     "output_type": "execute_result"
    },
    {
     "name": "stdout",
     "output_type": "stream",
     "text": [
      "time: 16 ms (started: 2023-04-03 08:59:46 -06:00)\n"
     ]
    }
   ],
   "source": [
    "# Previewing data\n",
    "df.head()"
   ]
  },
  {
   "cell_type": "code",
   "execution_count": 4,
   "metadata": {},
   "outputs": [
    {
     "name": "stdout",
     "output_type": "stream",
     "text": [
      "time: 16 ms (started: 2023-04-03 08:59:46 -06:00)\n"
     ]
    }
   ],
   "source": [
    "# Renaming columns to show units of measuremen\n",
    "df = df.rename(columns={'temp':'temp_k',\n",
    "                        'rain_1h':'rain_mm',\n",
    "                        'snow_1h':'snow_mm',\n",
    "                        'clouds_all':'pct_cloud_cover'})\n",
    "\n",
    "# Creating column with Fahrenheit values\n",
    "df['temp_f'] = (df['temp_k'] - 273.15) * 9/5 + 32"
   ]
  },
  {
   "cell_type": "code",
   "execution_count": 5,
   "metadata": {},
   "outputs": [
    {
     "name": "stdout",
     "output_type": "stream",
     "text": [
      "time: 46 ms (started: 2023-04-03 08:59:46 -06:00)\n"
     ]
    }
   ],
   "source": [
    "df['date_time'] = pd.to_datetime(df['date_time'], infer_datetime_format=True)\n",
    "df.set_index('date_time', inplace=True)"
   ]
  },
  {
   "cell_type": "code",
   "execution_count": 13,
   "metadata": {},
   "outputs": [
    {
     "data": {
      "text/plain": [
       "Clouds          15164\n",
       "Clear           13391\n",
       "Mist             5950\n",
       "Rain             5672\n",
       "Snow             2876\n",
       "Drizzle          1821\n",
       "Haze             1360\n",
       "Thunderstorm     1034\n",
       "Fog               912\n",
       "Smoke              20\n",
       "Squall              4\n",
       "Name: weather_main, dtype: int64"
      ]
     },
     "execution_count": 13,
     "metadata": {},
     "output_type": "execute_result"
    },
    {
     "name": "stdout",
     "output_type": "stream",
     "text": [
      "time: 0 ns (started: 2023-04-03 09:40:38 -06:00)\n"
     ]
    }
   ],
   "source": [
    "df['weather_main'].value_counts()"
   ]
  },
  {
   "cell_type": "code",
   "execution_count": null,
   "metadata": {},
   "outputs": [],
   "source": []
  },
  {
   "cell_type": "code",
   "execution_count": null,
   "metadata": {},
   "outputs": [],
   "source": []
  },
  {
   "cell_type": "code",
   "execution_count": null,
   "metadata": {},
   "outputs": [],
   "source": []
  },
  {
   "cell_type": "code",
   "execution_count": null,
   "metadata": {},
   "outputs": [],
   "source": []
  },
  {
   "cell_type": "code",
   "execution_count": 6,
   "metadata": {},
   "outputs": [
    {
     "data": {
      "text/html": [
       "<div>\n",
       "<style scoped>\n",
       "    .dataframe tbody tr th:only-of-type {\n",
       "        vertical-align: middle;\n",
       "    }\n",
       "\n",
       "    .dataframe tbody tr th {\n",
       "        vertical-align: top;\n",
       "    }\n",
       "\n",
       "    .dataframe thead th {\n",
       "        text-align: right;\n",
       "    }\n",
       "</style>\n",
       "<table border=\"1\" class=\"dataframe\">\n",
       "  <thead>\n",
       "    <tr style=\"text-align: right;\">\n",
       "      <th></th>\n",
       "      <th>holiday</th>\n",
       "      <th>temp_k</th>\n",
       "      <th>rain_mm</th>\n",
       "      <th>snow_mm</th>\n",
       "      <th>pct_cloud_cover</th>\n",
       "      <th>weather_main</th>\n",
       "      <th>weather_description</th>\n",
       "      <th>traffic_volume</th>\n",
       "      <th>temp_f</th>\n",
       "    </tr>\n",
       "    <tr>\n",
       "      <th>date_time</th>\n",
       "      <th></th>\n",
       "      <th></th>\n",
       "      <th></th>\n",
       "      <th></th>\n",
       "      <th></th>\n",
       "      <th></th>\n",
       "      <th></th>\n",
       "      <th></th>\n",
       "      <th></th>\n",
       "    </tr>\n",
       "  </thead>\n",
       "  <tbody>\n",
       "    <tr>\n",
       "      <th>2014-01-31 03:00:00</th>\n",
       "      <td>None</td>\n",
       "      <td>0.0</td>\n",
       "      <td>0.0</td>\n",
       "      <td>0.0</td>\n",
       "      <td>0</td>\n",
       "      <td>Clear</td>\n",
       "      <td>sky is clear</td>\n",
       "      <td>361</td>\n",
       "      <td>-459.67</td>\n",
       "    </tr>\n",
       "    <tr>\n",
       "      <th>2014-01-31 04:00:00</th>\n",
       "      <td>None</td>\n",
       "      <td>0.0</td>\n",
       "      <td>0.0</td>\n",
       "      <td>0.0</td>\n",
       "      <td>0</td>\n",
       "      <td>Clear</td>\n",
       "      <td>sky is clear</td>\n",
       "      <td>734</td>\n",
       "      <td>-459.67</td>\n",
       "    </tr>\n",
       "    <tr>\n",
       "      <th>2014-01-31 05:00:00</th>\n",
       "      <td>None</td>\n",
       "      <td>0.0</td>\n",
       "      <td>0.0</td>\n",
       "      <td>0.0</td>\n",
       "      <td>0</td>\n",
       "      <td>Clear</td>\n",
       "      <td>sky is clear</td>\n",
       "      <td>2557</td>\n",
       "      <td>-459.67</td>\n",
       "    </tr>\n",
       "    <tr>\n",
       "      <th>2014-01-31 06:00:00</th>\n",
       "      <td>None</td>\n",
       "      <td>0.0</td>\n",
       "      <td>0.0</td>\n",
       "      <td>0.0</td>\n",
       "      <td>0</td>\n",
       "      <td>Clear</td>\n",
       "      <td>sky is clear</td>\n",
       "      <td>5150</td>\n",
       "      <td>-459.67</td>\n",
       "    </tr>\n",
       "    <tr>\n",
       "      <th>2014-02-02 03:00:00</th>\n",
       "      <td>None</td>\n",
       "      <td>0.0</td>\n",
       "      <td>0.0</td>\n",
       "      <td>0.0</td>\n",
       "      <td>0</td>\n",
       "      <td>Clear</td>\n",
       "      <td>sky is clear</td>\n",
       "      <td>291</td>\n",
       "      <td>-459.67</td>\n",
       "    </tr>\n",
       "    <tr>\n",
       "      <th>2014-02-02 04:00:00</th>\n",
       "      <td>None</td>\n",
       "      <td>0.0</td>\n",
       "      <td>0.0</td>\n",
       "      <td>0.0</td>\n",
       "      <td>0</td>\n",
       "      <td>Clear</td>\n",
       "      <td>sky is clear</td>\n",
       "      <td>284</td>\n",
       "      <td>-459.67</td>\n",
       "    </tr>\n",
       "    <tr>\n",
       "      <th>2014-02-02 05:00:00</th>\n",
       "      <td>None</td>\n",
       "      <td>0.0</td>\n",
       "      <td>0.0</td>\n",
       "      <td>0.0</td>\n",
       "      <td>0</td>\n",
       "      <td>Clear</td>\n",
       "      <td>sky is clear</td>\n",
       "      <td>434</td>\n",
       "      <td>-459.67</td>\n",
       "    </tr>\n",
       "    <tr>\n",
       "      <th>2014-02-02 06:00:00</th>\n",
       "      <td>None</td>\n",
       "      <td>0.0</td>\n",
       "      <td>0.0</td>\n",
       "      <td>0.0</td>\n",
       "      <td>0</td>\n",
       "      <td>Clear</td>\n",
       "      <td>sky is clear</td>\n",
       "      <td>739</td>\n",
       "      <td>-459.67</td>\n",
       "    </tr>\n",
       "    <tr>\n",
       "      <th>2014-02-02 07:00:00</th>\n",
       "      <td>None</td>\n",
       "      <td>0.0</td>\n",
       "      <td>0.0</td>\n",
       "      <td>0.0</td>\n",
       "      <td>0</td>\n",
       "      <td>Clear</td>\n",
       "      <td>sky is clear</td>\n",
       "      <td>962</td>\n",
       "      <td>-459.67</td>\n",
       "    </tr>\n",
       "    <tr>\n",
       "      <th>2014-02-02 08:00:00</th>\n",
       "      <td>None</td>\n",
       "      <td>0.0</td>\n",
       "      <td>0.0</td>\n",
       "      <td>0.0</td>\n",
       "      <td>0</td>\n",
       "      <td>Clear</td>\n",
       "      <td>sky is clear</td>\n",
       "      <td>1670</td>\n",
       "      <td>-459.67</td>\n",
       "    </tr>\n",
       "  </tbody>\n",
       "</table>\n",
       "</div>"
      ],
      "text/plain": [
       "                    holiday  temp_k  rain_mm  snow_mm  pct_cloud_cover  \\\n",
       "date_time                                                                \n",
       "2014-01-31 03:00:00    None     0.0      0.0      0.0                0   \n",
       "2014-01-31 04:00:00    None     0.0      0.0      0.0                0   \n",
       "2014-01-31 05:00:00    None     0.0      0.0      0.0                0   \n",
       "2014-01-31 06:00:00    None     0.0      0.0      0.0                0   \n",
       "2014-02-02 03:00:00    None     0.0      0.0      0.0                0   \n",
       "2014-02-02 04:00:00    None     0.0      0.0      0.0                0   \n",
       "2014-02-02 05:00:00    None     0.0      0.0      0.0                0   \n",
       "2014-02-02 06:00:00    None     0.0      0.0      0.0                0   \n",
       "2014-02-02 07:00:00    None     0.0      0.0      0.0                0   \n",
       "2014-02-02 08:00:00    None     0.0      0.0      0.0                0   \n",
       "\n",
       "                    weather_main weather_description  traffic_volume  temp_f  \n",
       "date_time                                                                     \n",
       "2014-01-31 03:00:00        Clear        sky is clear             361 -459.67  \n",
       "2014-01-31 04:00:00        Clear        sky is clear             734 -459.67  \n",
       "2014-01-31 05:00:00        Clear        sky is clear            2557 -459.67  \n",
       "2014-01-31 06:00:00        Clear        sky is clear            5150 -459.67  \n",
       "2014-02-02 03:00:00        Clear        sky is clear             291 -459.67  \n",
       "2014-02-02 04:00:00        Clear        sky is clear             284 -459.67  \n",
       "2014-02-02 05:00:00        Clear        sky is clear             434 -459.67  \n",
       "2014-02-02 06:00:00        Clear        sky is clear             739 -459.67  \n",
       "2014-02-02 07:00:00        Clear        sky is clear             962 -459.67  \n",
       "2014-02-02 08:00:00        Clear        sky is clear            1670 -459.67  "
      ]
     },
     "execution_count": 6,
     "metadata": {},
     "output_type": "execute_result"
    },
    {
     "name": "stdout",
     "output_type": "stream",
     "text": [
      "time: 16 ms (started: 2023-04-03 08:59:46 -06:00)\n"
     ]
    }
   ],
   "source": [
    "df[df['temp_k'] == 0]"
   ]
  },
  {
   "cell_type": "code",
   "execution_count": 7,
   "metadata": {},
   "outputs": [
    {
     "name": "stdout",
     "output_type": "stream",
     "text": [
      "time: 0 ns (started: 2023-04-03 08:59:46 -06:00)\n"
     ]
    }
   ],
   "source": [
    "df_daily = df.resample('D').mean()"
   ]
  },
  {
   "cell_type": "code",
   "execution_count": 11,
   "metadata": {},
   "outputs": [
    {
     "data": {
      "text/plain": [
       "[<matplotlib.lines.Line2D at 0x1fae274d1f0>]"
      ]
     },
     "execution_count": 11,
     "metadata": {},
     "output_type": "execute_result"
    },
    {
     "data": {
      "image/png": "[encoded data removed]",
      "text/plain": [
       "<Figure size 432x288 with 1 Axes>"
      ]
     },
     "metadata": {},
     "output_type": "display_data"
    },
    {
     "name": "stdout",
     "output_type": "stream",
     "text": [
      "time: 266 ms (started: 2023-04-03 09:01:09 -06:00)\n"
     ]
    }
   ],
   "source": [
    "plt.plot(df_daily['snow_mm'], color = \"black\",label='Training Data')"
   ]
  },
  {
   "cell_type": "code",
   "execution_count": 9,
   "metadata": {},
   "outputs": [
    {
     "data": {
      "text/html": [
       "<div>\n",
       "<style scoped>\n",
       "    .dataframe tbody tr th:only-of-type {\n",
       "        vertical-align: middle;\n",
       "    }\n",
       "\n",
       "    .dataframe tbody tr th {\n",
       "        vertical-align: top;\n",
       "    }\n",
       "\n",
       "    .dataframe thead th {\n",
       "        text-align: right;\n",
       "    }\n",
       "</style>\n",
       "<table border=\"1\" class=\"dataframe\">\n",
       "  <thead>\n",
       "    <tr style=\"text-align: right;\">\n",
       "      <th></th>\n",
       "      <th>temp_k</th>\n",
       "      <th>rain_mm</th>\n",
       "      <th>snow_mm</th>\n",
       "      <th>pct_cloud_cover</th>\n",
       "      <th>traffic_volume</th>\n",
       "      <th>temp_f</th>\n",
       "    </tr>\n",
       "    <tr>\n",
       "      <th>date_time</th>\n",
       "      <th></th>\n",
       "      <th></th>\n",
       "      <th></th>\n",
       "      <th></th>\n",
       "      <th></th>\n",
       "      <th></th>\n",
       "    </tr>\n",
       "  </thead>\n",
       "  <tbody>\n",
       "    <tr>\n",
       "      <th>2012-10-02</th>\n",
       "      <td>290.403333</td>\n",
       "      <td>0.000000</td>\n",
       "      <td>0.0</td>\n",
       "      <td>29.133333</td>\n",
       "      <td>4219.266667</td>\n",
       "      <td>63.056000</td>\n",
       "    </tr>\n",
       "    <tr>\n",
       "      <th>2012-10-03</th>\n",
       "      <td>286.413500</td>\n",
       "      <td>0.000000</td>\n",
       "      <td>0.0</td>\n",
       "      <td>3.850000</td>\n",
       "      <td>3317.250000</td>\n",
       "      <td>55.874300</td>\n",
       "    </tr>\n",
       "    <tr>\n",
       "      <th>2012-10-04</th>\n",
       "      <td>289.357500</td>\n",
       "      <td>0.000000</td>\n",
       "      <td>0.0</td>\n",
       "      <td>16.708333</td>\n",
       "      <td>3747.458333</td>\n",
       "      <td>61.173500</td>\n",
       "    </tr>\n",
       "    <tr>\n",
       "      <th>2012-10-05</th>\n",
       "      <td>282.078182</td>\n",
       "      <td>0.000000</td>\n",
       "      <td>0.0</td>\n",
       "      <td>75.000000</td>\n",
       "      <td>4242.545455</td>\n",
       "      <td>48.070727</td>\n",
       "    </tr>\n",
       "    <tr>\n",
       "      <th>2012-10-06</th>\n",
       "      <td>277.746087</td>\n",
       "      <td>0.000000</td>\n",
       "      <td>0.0</td>\n",
       "      <td>61.652174</td>\n",
       "      <td>3256.956522</td>\n",
       "      <td>40.272957</td>\n",
       "    </tr>\n",
       "    <tr>\n",
       "      <th>...</th>\n",
       "      <td>...</td>\n",
       "      <td>...</td>\n",
       "      <td>...</td>\n",
       "      <td>...</td>\n",
       "      <td>...</td>\n",
       "      <td>...</td>\n",
       "    </tr>\n",
       "    <tr>\n",
       "      <th>2018-09-26</th>\n",
       "      <td>283.995833</td>\n",
       "      <td>0.010417</td>\n",
       "      <td>0.0</td>\n",
       "      <td>39.833333</td>\n",
       "      <td>3692.791667</td>\n",
       "      <td>51.522500</td>\n",
       "    </tr>\n",
       "    <tr>\n",
       "      <th>2018-09-27</th>\n",
       "      <td>286.268400</td>\n",
       "      <td>0.020000</td>\n",
       "      <td>0.0</td>\n",
       "      <td>61.200000</td>\n",
       "      <td>3777.360000</td>\n",
       "      <td>55.613120</td>\n",
       "    </tr>\n",
       "    <tr>\n",
       "      <th>2018-09-28</th>\n",
       "      <td>281.588333</td>\n",
       "      <td>0.000000</td>\n",
       "      <td>0.0</td>\n",
       "      <td>26.250000</td>\n",
       "      <td>3854.916667</td>\n",
       "      <td>47.189000</td>\n",
       "    </tr>\n",
       "    <tr>\n",
       "      <th>2018-09-29</th>\n",
       "      <td>278.135200</td>\n",
       "      <td>0.010000</td>\n",
       "      <td>0.0</td>\n",
       "      <td>57.360000</td>\n",
       "      <td>3049.680000</td>\n",
       "      <td>40.973360</td>\n",
       "    </tr>\n",
       "    <tr>\n",
       "      <th>2018-09-30</th>\n",
       "      <td>282.005769</td>\n",
       "      <td>0.009615</td>\n",
       "      <td>0.0</td>\n",
       "      <td>85.384615</td>\n",
       "      <td>2645.576923</td>\n",
       "      <td>47.940385</td>\n",
       "    </tr>\n",
       "  </tbody>\n",
       "</table>\n",
       "<p>2190 rows × 6 columns</p>\n",
       "</div>"
      ],
      "text/plain": [
       "                temp_k   rain_mm  snow_mm  pct_cloud_cover  traffic_volume  \\\n",
       "date_time                                                                    \n",
       "2012-10-02  290.403333  0.000000      0.0        29.133333     4219.266667   \n",
       "2012-10-03  286.413500  0.000000      0.0         3.850000     3317.250000   \n",
       "2012-10-04  289.357500  0.000000      0.0        16.708333     3747.458333   \n",
       "2012-10-05  282.078182  0.000000      0.0        75.000000     4242.545455   \n",
       "2012-10-06  277.746087  0.000000      0.0        61.652174     3256.956522   \n",
       "...                ...       ...      ...              ...             ...   \n",
       "2018-09-26  283.995833  0.010417      0.0        39.833333     3692.791667   \n",
       "2018-09-27  286.268400  0.020000      0.0        61.200000     3777.360000   \n",
       "2018-09-28  281.588333  0.000000      0.0        26.250000     3854.916667   \n",
       "2018-09-29  278.135200  0.010000      0.0        57.360000     3049.680000   \n",
       "2018-09-30  282.005769  0.009615      0.0        85.384615     2645.576923   \n",
       "\n",
       "               temp_f  \n",
       "date_time              \n",
       "2012-10-02  63.056000  \n",
       "2012-10-03  55.874300  \n",
       "2012-10-04  61.173500  \n",
       "2012-10-05  48.070727  \n",
       "2012-10-06  40.272957  \n",
       "...               ...  \n",
       "2018-09-26  51.522500  \n",
       "2018-09-27  55.613120  \n",
       "2018-09-28  47.189000  \n",
       "2018-09-29  40.973360  \n",
       "2018-09-30  47.940385  \n",
       "\n",
       "[2190 rows x 6 columns]"
      ]
     },
     "execution_count": 9,
     "metadata": {},
     "output_type": "execute_result"
    },
    {
     "name": "stdout",
     "output_type": "stream",
     "text": [
      "time: 31 ms (started: 2023-04-03 08:59:47 -06:00)\n"
     ]
    }
   ],
   "source": [
    "df_daily"
   ]
  },
  {
   "cell_type": "code",
   "execution_count": null,
   "metadata": {},
   "outputs": [],
   "source": []
  }
 ],
 "metadata": {
  "celltoolbar": "Create Assignment",
  "kernelspec": {
   "display_name": "Python (learn-env)",
   "language": "python",
   "name": "learn-env"
  },
  "language_info": {
   "codemirror_mode": {
    "name": "ipython",
    "version": 3
   },
   "file_extension": ".py",
   "mimetype": "text/x-python",
   "name": "python",
   "nbconvert_exporter": "python",
   "pygments_lexer": "ipython3",
   "version": "3.8.5"
  },
  "toc": {
   "base_numbering": 1,
   "nav_menu": {},
   "number_sections": true,
   "sideBar": true,
   "skip_h1_title": false,
   "title_cell": "Table of Contents",
   "title_sidebar": "Contents",
   "toc_cell": false,
   "toc_position": {},
   "toc_section_display": true,
   "toc_window_display": false
  }
 },
 "nbformat": 4,
 "nbformat_minor": 4
}
