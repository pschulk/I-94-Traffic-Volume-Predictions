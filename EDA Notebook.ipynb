{
 "cells": [
  {
   "cell_type": "markdown",
   "metadata": {},
   "source": [
    "# Capstone Notebook"
   ]
  },
  {
   "cell_type": "markdown",
   "metadata": {},
   "source": [
    "# Stakeholder and Business Problem\n",
    "\n",
    "This project is intended to provide the Minnesota Department of Transportation (MNDOT) with information and recommendations about what factors lead to heavy traffic volume and if anything can be done along I-94 to mitigate these factors. The dataset was pulled from the [UCI Machine Learning Repository](https://archive.ics.uci.edu/ml/datasets/Metro+Interstate+Traffic+Volume#)."
   ]
  },
  {
   "cell_type": "code",
   "execution_count": 247,
   "metadata": {
    "nbgrader": {
     "grade": false,
     "grade_id": "0d38786c25982cb53f9a4a1b6e96c717",
     "locked": false,
     "schema_version": 3,
     "solution": true,
     "task": false
    }
   },
   "outputs": [
    {
     "name": "stdout",
     "output_type": "stream",
     "text": [
      "The autotime extension is already loaded. To reload it, use:\n",
      "  %reload_ext autotime\n",
      "time: 0 ns (started: 2023-04-05 17:52:35 -06:00)\n"
     ]
    }
   ],
   "source": [
    "# Import tools and libraries\n",
    "import pandas as pd\n",
    "import numpy as np\n",
    "\n",
    "from statsmodels.tsa.arima.model import ARIMA\n",
    "from sklearn.metrics import mean_squared_error\n",
    "\n",
    "import matplotlib\n",
    "import matplotlib.pyplot as plt\n",
    "%matplotlib inline\n",
    "import seaborn as sns\n",
    "sns.set(font_scale = 1)\n",
    "\n",
    "# try:\n",
    "    # %load_ext autotime\n",
    "# except:\n",
    "    # !pip install ipython-autotime\n",
    "    # %load_ext autotime\n",
    "    \n",
    "%load_ext autotime"
   ]
  },
  {
   "cell_type": "code",
   "execution_count": 248,
   "metadata": {},
   "outputs": [
    {
     "name": "stdout",
     "output_type": "stream",
     "text": [
      "time: 110 ms (started: 2023-04-05 17:52:35 -06:00)\n"
     ]
    }
   ],
   "source": [
    "# Read in traffic data\n",
    "df = pd.read_csv('data\\Metro_Interstate_Traffic_Volume.csv')\n",
    "df_noaa = pd.read_csv('data/noaa_data.csv')"
   ]
  },
  {
   "cell_type": "code",
   "execution_count": 249,
   "metadata": {},
   "outputs": [
    {
     "data": {
      "text/html": [
       "<div>\n",
       "<style scoped>\n",
       "    .dataframe tbody tr th:only-of-type {\n",
       "        vertical-align: middle;\n",
       "    }\n",
       "\n",
       "    .dataframe tbody tr th {\n",
       "        vertical-align: top;\n",
       "    }\n",
       "\n",
       "    .dataframe thead th {\n",
       "        text-align: right;\n",
       "    }\n",
       "</style>\n",
       "<table border=\"1\" class=\"dataframe\">\n",
       "  <thead>\n",
       "    <tr style=\"text-align: right;\">\n",
       "      <th></th>\n",
       "      <th>holiday</th>\n",
       "      <th>temp</th>\n",
       "      <th>rain_1h</th>\n",
       "      <th>snow_1h</th>\n",
       "      <th>clouds_all</th>\n",
       "      <th>weather_main</th>\n",
       "      <th>weather_description</th>\n",
       "      <th>date_time</th>\n",
       "      <th>traffic_volume</th>\n",
       "    </tr>\n",
       "  </thead>\n",
       "  <tbody>\n",
       "    <tr>\n",
       "      <th>0</th>\n",
       "      <td>None</td>\n",
       "      <td>288.28</td>\n",
       "      <td>0.0</td>\n",
       "      <td>0.0</td>\n",
       "      <td>40</td>\n",
       "      <td>Clouds</td>\n",
       "      <td>scattered clouds</td>\n",
       "      <td>2012-10-02 09:00:00</td>\n",
       "      <td>5545</td>\n",
       "    </tr>\n",
       "    <tr>\n",
       "      <th>1</th>\n",
       "      <td>None</td>\n",
       "      <td>289.36</td>\n",
       "      <td>0.0</td>\n",
       "      <td>0.0</td>\n",
       "      <td>75</td>\n",
       "      <td>Clouds</td>\n",
       "      <td>broken clouds</td>\n",
       "      <td>2012-10-02 10:00:00</td>\n",
       "      <td>4516</td>\n",
       "    </tr>\n",
       "    <tr>\n",
       "      <th>2</th>\n",
       "      <td>None</td>\n",
       "      <td>289.58</td>\n",
       "      <td>0.0</td>\n",
       "      <td>0.0</td>\n",
       "      <td>90</td>\n",
       "      <td>Clouds</td>\n",
       "      <td>overcast clouds</td>\n",
       "      <td>2012-10-02 11:00:00</td>\n",
       "      <td>4767</td>\n",
       "    </tr>\n",
       "    <tr>\n",
       "      <th>3</th>\n",
       "      <td>None</td>\n",
       "      <td>290.13</td>\n",
       "      <td>0.0</td>\n",
       "      <td>0.0</td>\n",
       "      <td>90</td>\n",
       "      <td>Clouds</td>\n",
       "      <td>overcast clouds</td>\n",
       "      <td>2012-10-02 12:00:00</td>\n",
       "      <td>5026</td>\n",
       "    </tr>\n",
       "    <tr>\n",
       "      <th>4</th>\n",
       "      <td>None</td>\n",
       "      <td>291.14</td>\n",
       "      <td>0.0</td>\n",
       "      <td>0.0</td>\n",
       "      <td>75</td>\n",
       "      <td>Clouds</td>\n",
       "      <td>broken clouds</td>\n",
       "      <td>2012-10-02 13:00:00</td>\n",
       "      <td>4918</td>\n",
       "    </tr>\n",
       "  </tbody>\n",
       "</table>\n",
       "</div>"
      ],
      "text/plain": [
       "  holiday    temp  rain_1h  snow_1h  clouds_all weather_main  \\\n",
       "0    None  288.28      0.0      0.0          40       Clouds   \n",
       "1    None  289.36      0.0      0.0          75       Clouds   \n",
       "2    None  289.58      0.0      0.0          90       Clouds   \n",
       "3    None  290.13      0.0      0.0          90       Clouds   \n",
       "4    None  291.14      0.0      0.0          75       Clouds   \n",
       "\n",
       "  weather_description            date_time  traffic_volume  \n",
       "0    scattered clouds  2012-10-02 09:00:00            5545  \n",
       "1       broken clouds  2012-10-02 10:00:00            4516  \n",
       "2     overcast clouds  2012-10-02 11:00:00            4767  \n",
       "3     overcast clouds  2012-10-02 12:00:00            5026  \n",
       "4       broken clouds  2012-10-02 13:00:00            4918  "
      ]
     },
     "execution_count": 249,
     "metadata": {},
     "output_type": "execute_result"
    },
    {
     "name": "stdout",
     "output_type": "stream",
     "text": [
      "time: 15 ms (started: 2023-04-05 17:52:35 -06:00)\n"
     ]
    }
   ],
   "source": [
    "# Previewing data\n",
    "df.head()"
   ]
  },
  {
   "cell_type": "markdown",
   "metadata": {},
   "source": [
    "Per the UCI website that hosts the data, the feature descriptions are as follows:\n",
    "\n",
    "holiday: Categorical US National holidays plus regional holiday, Minnesota State Fair<br>\n",
    "temp: Numeric Average temp in kelvin<br>\n",
    "rain_1h: Numeric Amount in mm of rain that occurred in the hour<br>\n",
    "snow_1h: Numeric Amount in mm of snow that occurred in the hour<br>\n",
    "clouds_all: Numeric Percentage of cloud cover<br>\n",
    "weather_main: Categorical Short textual description of the current weather<br>\n",
    "weather_description: Categorical Longer textual description of the current weather<br>\n",
    "date_time: DateTime Hour of the data collected in local CST time<br>\n",
    "traffic_volume: Numeric Hourly I-94 ATR 301 reported westbound traffic volume<br>"
   ]
  },
  {
   "cell_type": "code",
   "execution_count": 250,
   "metadata": {},
   "outputs": [
    {
     "data": {
      "image/png": "[encoded data removed]",
      "text/plain": [
       "<Figure size 864x576 with 1 Axes>"
      ]
     },
     "metadata": {},
     "output_type": "display_data"
    },
    {
     "name": "stdout",
     "output_type": "stream",
     "text": [
      "time: 219 ms (started: 2023-04-05 17:52:35 -06:00)\n"
     ]
    }
   ],
   "source": [
    "# Plotting temperature over time for entire dataset\n",
    "fig, ax = plt.subplots(figsize=(12,8))\n",
    "plt.plot(df['temp'], color = \"black\")\n",
    "\n",
    "ax.set_xlabel('date_time');\n",
    "ax.set_ylabel('temp')\n",
    "ax.set_title('temperature over time');"
   ]
  },
  {
   "cell_type": "markdown",
   "metadata": {},
   "source": [
    "It appears that the temperature follows an expected seasonal pattern except for a smattering of values that are listed as zero. Let's explore where those values are."
   ]
  },
  {
   "cell_type": "code",
   "execution_count": 251,
   "metadata": {},
   "outputs": [
    {
     "data": {
      "text/html": [
       "<div>\n",
       "<style scoped>\n",
       "    .dataframe tbody tr th:only-of-type {\n",
       "        vertical-align: middle;\n",
       "    }\n",
       "\n",
       "    .dataframe tbody tr th {\n",
       "        vertical-align: top;\n",
       "    }\n",
       "\n",
       "    .dataframe thead th {\n",
       "        text-align: right;\n",
       "    }\n",
       "</style>\n",
       "<table border=\"1\" class=\"dataframe\">\n",
       "  <thead>\n",
       "    <tr style=\"text-align: right;\">\n",
       "      <th></th>\n",
       "      <th>holiday</th>\n",
       "      <th>temp</th>\n",
       "      <th>rain_1h</th>\n",
       "      <th>snow_1h</th>\n",
       "      <th>clouds_all</th>\n",
       "      <th>weather_main</th>\n",
       "      <th>weather_description</th>\n",
       "      <th>date_time</th>\n",
       "      <th>traffic_volume</th>\n",
       "    </tr>\n",
       "  </thead>\n",
       "  <tbody>\n",
       "    <tr>\n",
       "      <th>11898</th>\n",
       "      <td>None</td>\n",
       "      <td>0.0</td>\n",
       "      <td>0.0</td>\n",
       "      <td>0.0</td>\n",
       "      <td>0</td>\n",
       "      <td>Clear</td>\n",
       "      <td>sky is clear</td>\n",
       "      <td>2014-01-31 03:00:00</td>\n",
       "      <td>361</td>\n",
       "    </tr>\n",
       "    <tr>\n",
       "      <th>11899</th>\n",
       "      <td>None</td>\n",
       "      <td>0.0</td>\n",
       "      <td>0.0</td>\n",
       "      <td>0.0</td>\n",
       "      <td>0</td>\n",
       "      <td>Clear</td>\n",
       "      <td>sky is clear</td>\n",
       "      <td>2014-01-31 04:00:00</td>\n",
       "      <td>734</td>\n",
       "    </tr>\n",
       "    <tr>\n",
       "      <th>11900</th>\n",
       "      <td>None</td>\n",
       "      <td>0.0</td>\n",
       "      <td>0.0</td>\n",
       "      <td>0.0</td>\n",
       "      <td>0</td>\n",
       "      <td>Clear</td>\n",
       "      <td>sky is clear</td>\n",
       "      <td>2014-01-31 05:00:00</td>\n",
       "      <td>2557</td>\n",
       "    </tr>\n",
       "    <tr>\n",
       "      <th>11901</th>\n",
       "      <td>None</td>\n",
       "      <td>0.0</td>\n",
       "      <td>0.0</td>\n",
       "      <td>0.0</td>\n",
       "      <td>0</td>\n",
       "      <td>Clear</td>\n",
       "      <td>sky is clear</td>\n",
       "      <td>2014-01-31 06:00:00</td>\n",
       "      <td>5150</td>\n",
       "    </tr>\n",
       "    <tr>\n",
       "      <th>11946</th>\n",
       "      <td>None</td>\n",
       "      <td>0.0</td>\n",
       "      <td>0.0</td>\n",
       "      <td>0.0</td>\n",
       "      <td>0</td>\n",
       "      <td>Clear</td>\n",
       "      <td>sky is clear</td>\n",
       "      <td>2014-02-02 03:00:00</td>\n",
       "      <td>291</td>\n",
       "    </tr>\n",
       "    <tr>\n",
       "      <th>11947</th>\n",
       "      <td>None</td>\n",
       "      <td>0.0</td>\n",
       "      <td>0.0</td>\n",
       "      <td>0.0</td>\n",
       "      <td>0</td>\n",
       "      <td>Clear</td>\n",
       "      <td>sky is clear</td>\n",
       "      <td>2014-02-02 04:00:00</td>\n",
       "      <td>284</td>\n",
       "    </tr>\n",
       "    <tr>\n",
       "      <th>11948</th>\n",
       "      <td>None</td>\n",
       "      <td>0.0</td>\n",
       "      <td>0.0</td>\n",
       "      <td>0.0</td>\n",
       "      <td>0</td>\n",
       "      <td>Clear</td>\n",
       "      <td>sky is clear</td>\n",
       "      <td>2014-02-02 05:00:00</td>\n",
       "      <td>434</td>\n",
       "    </tr>\n",
       "    <tr>\n",
       "      <th>11949</th>\n",
       "      <td>None</td>\n",
       "      <td>0.0</td>\n",
       "      <td>0.0</td>\n",
       "      <td>0.0</td>\n",
       "      <td>0</td>\n",
       "      <td>Clear</td>\n",
       "      <td>sky is clear</td>\n",
       "      <td>2014-02-02 06:00:00</td>\n",
       "      <td>739</td>\n",
       "    </tr>\n",
       "    <tr>\n",
       "      <th>11950</th>\n",
       "      <td>None</td>\n",
       "      <td>0.0</td>\n",
       "      <td>0.0</td>\n",
       "      <td>0.0</td>\n",
       "      <td>0</td>\n",
       "      <td>Clear</td>\n",
       "      <td>sky is clear</td>\n",
       "      <td>2014-02-02 07:00:00</td>\n",
       "      <td>962</td>\n",
       "    </tr>\n",
       "    <tr>\n",
       "      <th>11951</th>\n",
       "      <td>None</td>\n",
       "      <td>0.0</td>\n",
       "      <td>0.0</td>\n",
       "      <td>0.0</td>\n",
       "      <td>0</td>\n",
       "      <td>Clear</td>\n",
       "      <td>sky is clear</td>\n",
       "      <td>2014-02-02 08:00:00</td>\n",
       "      <td>1670</td>\n",
       "    </tr>\n",
       "  </tbody>\n",
       "</table>\n",
       "</div>"
      ],
      "text/plain": [
       "      holiday  temp  rain_1h  snow_1h  clouds_all weather_main  \\\n",
       "11898    None   0.0      0.0      0.0           0        Clear   \n",
       "11899    None   0.0      0.0      0.0           0        Clear   \n",
       "11900    None   0.0      0.0      0.0           0        Clear   \n",
       "11901    None   0.0      0.0      0.0           0        Clear   \n",
       "11946    None   0.0      0.0      0.0           0        Clear   \n",
       "11947    None   0.0      0.0      0.0           0        Clear   \n",
       "11948    None   0.0      0.0      0.0           0        Clear   \n",
       "11949    None   0.0      0.0      0.0           0        Clear   \n",
       "11950    None   0.0      0.0      0.0           0        Clear   \n",
       "11951    None   0.0      0.0      0.0           0        Clear   \n",
       "\n",
       "      weather_description            date_time  traffic_volume  \n",
       "11898        sky is clear  2014-01-31 03:00:00             361  \n",
       "11899        sky is clear  2014-01-31 04:00:00             734  \n",
       "11900        sky is clear  2014-01-31 05:00:00            2557  \n",
       "11901        sky is clear  2014-01-31 06:00:00            5150  \n",
       "11946        sky is clear  2014-02-02 03:00:00             291  \n",
       "11947        sky is clear  2014-02-02 04:00:00             284  \n",
       "11948        sky is clear  2014-02-02 05:00:00             434  \n",
       "11949        sky is clear  2014-02-02 06:00:00             739  \n",
       "11950        sky is clear  2014-02-02 07:00:00             962  \n",
       "11951        sky is clear  2014-02-02 08:00:00            1670  "
      ]
     },
     "execution_count": 251,
     "metadata": {},
     "output_type": "execute_result"
    },
    {
     "name": "stdout",
     "output_type": "stream",
     "text": [
      "time: 15 ms (started: 2023-04-05 17:52:35 -06:00)\n"
     ]
    }
   ],
   "source": [
    "# Viewing zero values for the 'temp' column\n",
    "df[df['temp'] == 0]"
   ]
  },
  {
   "cell_type": "markdown",
   "metadata": {},
   "source": [
    "There are two days in early 2014 that have a few hours with the temperature listed at zero. We know that the 'temp' column is listed in units of Kelvin; zero degrees Kelvin is the lowest limit of the thermodynamic temperature scale where atoms/particles stop moving so it is safe to assume this data is not accurate.\n",
    "\n",
    "To fix this, we'll take a look at the recorded temperatures immediately before and after the inaccurate temperature data and fill them in with the average value."
   ]
  },
  {
   "cell_type": "code",
   "execution_count": 252,
   "metadata": {},
   "outputs": [
    {
     "data": {
      "text/plain": [
       "(11897    255.93\n",
       " 11898      0.00\n",
       " 11899      0.00\n",
       " 11900      0.00\n",
       " 11901      0.00\n",
       " 11902    255.93\n",
       " Name: temp, dtype: float64,\n",
       " 11945    255.37\n",
       " 11946      0.00\n",
       " 11947      0.00\n",
       " 11948      0.00\n",
       " 11949      0.00\n",
       " 11950      0.00\n",
       " 11951      0.00\n",
       " 11952    255.62\n",
       " Name: temp, dtype: float64)"
      ]
     },
     "execution_count": 252,
     "metadata": {},
     "output_type": "execute_result"
    },
    {
     "name": "stdout",
     "output_type": "stream",
     "text": [
      "time: 0 ns (started: 2023-04-05 17:52:35 -06:00)\n"
     ]
    }
   ],
   "source": [
    "# Viewing temperature values immediately before and after the inaccurate data\n",
    "df['temp'].loc[11897:11902], df['temp'].loc[11945:11952]"
   ]
  },
  {
   "cell_type": "code",
   "execution_count": 253,
   "metadata": {},
   "outputs": [
    {
     "name": "stdout",
     "output_type": "stream",
     "text": [
      "time: 0 ns (started: 2023-04-05 17:52:35 -06:00)\n"
     ]
    },
    {
     "name": "stderr",
     "output_type": "stream",
     "text": [
      "C:\\Users\\pschu\\anaconda3\\envs\\learn-env\\lib\\site-packages\\pandas\\core\\indexing.py:670: SettingWithCopyWarning: \n",
      "A value is trying to be set on a copy of a slice from a DataFrame\n",
      "\n",
      "See the caveats in the documentation: https://pandas.pydata.org/pandas-docs/stable/user_guide/indexing.html#returning-a-view-versus-a-copy\n",
      "  iloc._setitem_with_indexer(indexer, value)\n"
     ]
    }
   ],
   "source": [
    "# Setting inaccurate values to be equal to the average of the values immediately before and after\n",
    "df['temp'].loc[11898:11901] = (df['temp'].loc[11897] + df['temp'].loc[11902]) / 2\n",
    "df['temp'].loc[11946:11951] = (df['temp'].loc[11945] + df['temp'].loc[11952]) / 2"
   ]
  },
  {
   "cell_type": "code",
   "execution_count": 254,
   "metadata": {},
   "outputs": [
    {
     "name": "stdout",
     "output_type": "stream",
     "text": [
      "11897    255.93\n",
      "11898    255.93\n",
      "11899    255.93\n",
      "11900    255.93\n",
      "11901    255.93\n",
      "11902    255.93\n",
      "Name: temp, dtype: float64 11944    255.480\n",
      "11945    255.370\n",
      "11946    255.495\n",
      "11947    255.495\n",
      "11948    255.495\n",
      "11949    255.495\n",
      "11950    255.495\n",
      "11951    255.495\n",
      "11952    255.620\n",
      "Name: temp, dtype: float64\n"
     ]
    },
    {
     "data": {
      "image/png": "[encoded data removed]",
      "text/plain": [
       "<Figure size 864x576 with 1 Axes>"
      ]
     },
     "metadata": {},
     "output_type": "display_data"
    },
    {
     "name": "stdout",
     "output_type": "stream",
     "text": [
      "time: 266 ms (started: 2023-04-05 17:52:35 -06:00)\n"
     ]
    }
   ],
   "source": [
    "# Checking results\n",
    "print(df['temp'].loc[11897:11902], df['temp'].loc[11944:11952])\n",
    "\n",
    "# Plotting again for visual inspection\n",
    "fig, ax = plt.subplots(figsize=(12,8))\n",
    "plt.plot(df['temp'], color = \"black\", label='Temp')\n",
    "\n",
    "ax.set_xlabel('date_time')\n",
    "ax.set_ylabel('temp')\n",
    "ax.set_title('temperature over time');"
   ]
  },
  {
   "cell_type": "markdown",
   "metadata": {},
   "source": [
    "The plot looks better now that we've filled in the zero values for the temperature data. It follows the expected seasonal trend of decreasing temperatures as winter approaches and increasing temperatures as summer approaches. Next let's visually inspect the other numeric variables in the dataset: *rain_1h*, *snow_1h*, *clouds_all*, and *traffic_volume*."
   ]
  },
  {
   "cell_type": "code",
   "execution_count": 255,
   "metadata": {},
   "outputs": [
    {
     "data": {
      "text/plain": [
       "Text(0.5, 1.0, 'traffic_volume')"
      ]
     },
     "execution_count": 255,
     "metadata": {},
     "output_type": "execute_result"
    },
    {
     "data": {
      "image/png": "[encoded data removed]",
      "text/plain": [
       "<Figure size 1152x864 with 4 Axes>"
      ]
     },
     "metadata": {},
     "output_type": "display_data"
    },
    {
     "name": "stdout",
     "output_type": "stream",
     "text": [
      "time: 750 ms (started: 2023-04-05 17:52:36 -06:00)\n"
     ]
    }
   ],
   "source": [
    "fig, axes = plt.subplots(2, 2, sharex=True, figsize=(16,12))\n",
    "axes[0, 0].plot(df['rain_1h']); axes[0, 0].set_title('rain_1h')\n",
    "axes[0, 1].plot(df['snow_1h']); axes[0, 1].set_title('snow_1h')\n",
    "axes[1, 0].plot(df['clouds_all']); axes[1, 0].set_title('clouds_all')\n",
    "axes[1, 1].plot(df['traffic_volume']); axes[1, 1].set_title('traffic_volume')"
   ]
  },
  {
   "cell_type": "markdown",
   "metadata": {},
   "source": [
    "*clouds_all* and *traffic_volume* appear to have normal values across the dataset but there are some odd looking spikes in the data for *rain_1h* and *snow_1h*. Both of these are measured in millimeters. It's unlikely that a singular day or hour produced almost 10,000 mm of rain and the snow values are suspiciously low for a state as far North as Minnesota.\n",
    "\n",
    "To fix this, I obtained a dataset compiled by the [National Oceanic and Atmospheric Administration (NOAA)](https://www.ncdc.noaa.gov/cdo-web/datasets/GHCND/stations/GHCND:USW00014922/detail). The dataset provides daily weather data gathered by a weather station at the Minneapolis St. Paul International Airport and can be used to cross-reference the UCI dataset."
   ]
  },
  {
   "cell_type": "code",
   "execution_count": 256,
   "metadata": {},
   "outputs": [
    {
     "data": {
      "text/html": [
       "<div>\n",
       "<style scoped>\n",
       "    .dataframe tbody tr th:only-of-type {\n",
       "        vertical-align: middle;\n",
       "    }\n",
       "\n",
       "    .dataframe tbody tr th {\n",
       "        vertical-align: top;\n",
       "    }\n",
       "\n",
       "    .dataframe thead th {\n",
       "        text-align: right;\n",
       "    }\n",
       "</style>\n",
       "<table border=\"1\" class=\"dataframe\">\n",
       "  <thead>\n",
       "    <tr style=\"text-align: right;\">\n",
       "      <th></th>\n",
       "      <th>holiday</th>\n",
       "      <th>temp</th>\n",
       "      <th>rain_1h</th>\n",
       "      <th>snow_1h</th>\n",
       "      <th>clouds_all</th>\n",
       "      <th>weather_main</th>\n",
       "      <th>weather_description</th>\n",
       "      <th>date_time</th>\n",
       "      <th>traffic_volume</th>\n",
       "    </tr>\n",
       "  </thead>\n",
       "  <tbody>\n",
       "    <tr>\n",
       "      <th>24872</th>\n",
       "      <td>None</td>\n",
       "      <td>302.11</td>\n",
       "      <td>9831.30</td>\n",
       "      <td>0.0</td>\n",
       "      <td>75</td>\n",
       "      <td>Rain</td>\n",
       "      <td>very heavy rain</td>\n",
       "      <td>2016-07-11 17:00:00</td>\n",
       "      <td>5535</td>\n",
       "    </tr>\n",
       "    <tr>\n",
       "      <th>8247</th>\n",
       "      <td>None</td>\n",
       "      <td>289.10</td>\n",
       "      <td>55.63</td>\n",
       "      <td>0.0</td>\n",
       "      <td>68</td>\n",
       "      <td>Rain</td>\n",
       "      <td>very heavy rain</td>\n",
       "      <td>2013-08-07 02:00:00</td>\n",
       "      <td>315</td>\n",
       "    </tr>\n",
       "    <tr>\n",
       "      <th>7179</th>\n",
       "      <td>None</td>\n",
       "      <td>295.82</td>\n",
       "      <td>44.45</td>\n",
       "      <td>0.0</td>\n",
       "      <td>76</td>\n",
       "      <td>Rain</td>\n",
       "      <td>very heavy rain</td>\n",
       "      <td>2013-06-24 11:00:00</td>\n",
       "      <td>4802</td>\n",
       "    </tr>\n",
       "    <tr>\n",
       "      <th>25779</th>\n",
       "      <td>None</td>\n",
       "      <td>297.71</td>\n",
       "      <td>31.75</td>\n",
       "      <td>0.0</td>\n",
       "      <td>0</td>\n",
       "      <td>Rain</td>\n",
       "      <td>very heavy rain</td>\n",
       "      <td>2016-08-16 17:00:00</td>\n",
       "      <td>4913</td>\n",
       "    </tr>\n",
       "    <tr>\n",
       "      <th>10807</th>\n",
       "      <td>None</td>\n",
       "      <td>264.50</td>\n",
       "      <td>28.70</td>\n",
       "      <td>0.0</td>\n",
       "      <td>64</td>\n",
       "      <td>Snow</td>\n",
       "      <td>light snow</td>\n",
       "      <td>2013-12-19 23:00:00</td>\n",
       "      <td>1190</td>\n",
       "    </tr>\n",
       "  </tbody>\n",
       "</table>\n",
       "</div>"
      ],
      "text/plain": [
       "      holiday    temp  rain_1h  snow_1h  clouds_all weather_main  \\\n",
       "24872    None  302.11  9831.30      0.0          75         Rain   \n",
       "8247     None  289.10    55.63      0.0          68         Rain   \n",
       "7179     None  295.82    44.45      0.0          76         Rain   \n",
       "25779    None  297.71    31.75      0.0           0         Rain   \n",
       "10807    None  264.50    28.70      0.0          64         Snow   \n",
       "\n",
       "      weather_description            date_time  traffic_volume  \n",
       "24872     very heavy rain  2016-07-11 17:00:00            5535  \n",
       "8247      very heavy rain  2013-08-07 02:00:00             315  \n",
       "7179      very heavy rain  2013-06-24 11:00:00            4802  \n",
       "25779     very heavy rain  2016-08-16 17:00:00            4913  \n",
       "10807          light snow  2013-12-19 23:00:00            1190  "
      ]
     },
     "execution_count": 256,
     "metadata": {},
     "output_type": "execute_result"
    },
    {
     "name": "stdout",
     "output_type": "stream",
     "text": [
      "time: 31 ms (started: 2023-04-05 17:52:36 -06:00)\n"
     ]
    }
   ],
   "source": [
    "# Top 10 hourly rainfall values\n",
    "df.sort_values(by='rain_1h', ascending=False).head()"
   ]
  },
  {
   "cell_type": "code",
   "execution_count": 257,
   "metadata": {},
   "outputs": [
    {
     "data": {
      "text/plain": [
       "10.72"
      ]
     },
     "execution_count": 257,
     "metadata": {},
     "output_type": "execute_result"
    },
    {
     "name": "stdout",
     "output_type": "stream",
     "text": [
      "time: 0 ns (started: 2023-04-05 17:52:37 -06:00)\n"
     ]
    }
   ],
   "source": [
    "# Totalling snowfall values across entire dataset\n",
    "df['snow_1h'].sum()"
   ]
  },
  {
   "cell_type": "markdown",
   "metadata": {},
   "source": [
    "It's highly unlikely that 9,831 mm (approximately 32 feet!) of rain fell in one hour. It's also extremely unlikely that the total amount of snowfall listed across the entire dataset is 10.72 mm (0.42 inches). To fix this, we'll make some changes to the *date_time* column and the overall dataframe until we have a daily time series with complete and sensible values."
   ]
  },
  {
   "cell_type": "code",
   "execution_count": 258,
   "metadata": {},
   "outputs": [
    {
     "name": "stdout",
     "output_type": "stream",
     "text": [
      "time: 94 ms (started: 2023-04-05 17:52:37 -06:00)\n"
     ]
    }
   ],
   "source": [
    "# Converting date_time column from object to datetime\n",
    "df['date_time'] = pd.to_datetime(df['date_time'], infer_datetime_format=True)\n",
    "\n",
    "# Extracting various values from date_time column\n",
    "df['date'] = df['date_time'].dt.date\n",
    "df['year'] = df['date_time'].dt.year\n",
    "df['month'] = df['date_time'].dt.month\n",
    "df['day'] = df['date_time'].dt.day\n",
    "df['weekday'] = df['date_time'].dt.day_name()\n",
    "df['hour'] = df['date_time'].dt.hour\n",
    "\n",
    "# Converting newly created date column from object to datetime\n",
    "df['date'] = pd.to_datetime(df['date'])"
   ]
  },
  {
   "cell_type": "code",
   "execution_count": 259,
   "metadata": {},
   "outputs": [
    {
     "data": {
      "text/html": [
       "<div>\n",
       "<style scoped>\n",
       "    .dataframe tbody tr th:only-of-type {\n",
       "        vertical-align: middle;\n",
       "    }\n",
       "\n",
       "    .dataframe tbody tr th {\n",
       "        vertical-align: top;\n",
       "    }\n",
       "\n",
       "    .dataframe thead th {\n",
       "        text-align: right;\n",
       "    }\n",
       "</style>\n",
       "<table border=\"1\" class=\"dataframe\">\n",
       "  <thead>\n",
       "    <tr style=\"text-align: right;\">\n",
       "      <th></th>\n",
       "      <th>holiday</th>\n",
       "      <th>temp</th>\n",
       "      <th>rain_1h</th>\n",
       "      <th>snow_1h</th>\n",
       "      <th>clouds_all</th>\n",
       "      <th>weather_main</th>\n",
       "      <th>weather_description</th>\n",
       "      <th>date_time</th>\n",
       "      <th>traffic_volume</th>\n",
       "      <th>date</th>\n",
       "      <th>year</th>\n",
       "      <th>month</th>\n",
       "      <th>day</th>\n",
       "      <th>weekday</th>\n",
       "      <th>hour</th>\n",
       "    </tr>\n",
       "  </thead>\n",
       "  <tbody>\n",
       "    <tr>\n",
       "      <th>0</th>\n",
       "      <td>None</td>\n",
       "      <td>288.28</td>\n",
       "      <td>0.0</td>\n",
       "      <td>0.0</td>\n",
       "      <td>40</td>\n",
       "      <td>Clouds</td>\n",
       "      <td>scattered clouds</td>\n",
       "      <td>2012-10-02 09:00:00</td>\n",
       "      <td>5545</td>\n",
       "      <td>2012-10-02</td>\n",
       "      <td>2012</td>\n",
       "      <td>10</td>\n",
       "      <td>2</td>\n",
       "      <td>Tuesday</td>\n",
       "      <td>9</td>\n",
       "    </tr>\n",
       "    <tr>\n",
       "      <th>1</th>\n",
       "      <td>None</td>\n",
       "      <td>289.36</td>\n",
       "      <td>0.0</td>\n",
       "      <td>0.0</td>\n",
       "      <td>75</td>\n",
       "      <td>Clouds</td>\n",
       "      <td>broken clouds</td>\n",
       "      <td>2012-10-02 10:00:00</td>\n",
       "      <td>4516</td>\n",
       "      <td>2012-10-02</td>\n",
       "      <td>2012</td>\n",
       "      <td>10</td>\n",
       "      <td>2</td>\n",
       "      <td>Tuesday</td>\n",
       "      <td>10</td>\n",
       "    </tr>\n",
       "    <tr>\n",
       "      <th>2</th>\n",
       "      <td>None</td>\n",
       "      <td>289.58</td>\n",
       "      <td>0.0</td>\n",
       "      <td>0.0</td>\n",
       "      <td>90</td>\n",
       "      <td>Clouds</td>\n",
       "      <td>overcast clouds</td>\n",
       "      <td>2012-10-02 11:00:00</td>\n",
       "      <td>4767</td>\n",
       "      <td>2012-10-02</td>\n",
       "      <td>2012</td>\n",
       "      <td>10</td>\n",
       "      <td>2</td>\n",
       "      <td>Tuesday</td>\n",
       "      <td>11</td>\n",
       "    </tr>\n",
       "    <tr>\n",
       "      <th>3</th>\n",
       "      <td>None</td>\n",
       "      <td>290.13</td>\n",
       "      <td>0.0</td>\n",
       "      <td>0.0</td>\n",
       "      <td>90</td>\n",
       "      <td>Clouds</td>\n",
       "      <td>overcast clouds</td>\n",
       "      <td>2012-10-02 12:00:00</td>\n",
       "      <td>5026</td>\n",
       "      <td>2012-10-02</td>\n",
       "      <td>2012</td>\n",
       "      <td>10</td>\n",
       "      <td>2</td>\n",
       "      <td>Tuesday</td>\n",
       "      <td>12</td>\n",
       "    </tr>\n",
       "    <tr>\n",
       "      <th>4</th>\n",
       "      <td>None</td>\n",
       "      <td>291.14</td>\n",
       "      <td>0.0</td>\n",
       "      <td>0.0</td>\n",
       "      <td>75</td>\n",
       "      <td>Clouds</td>\n",
       "      <td>broken clouds</td>\n",
       "      <td>2012-10-02 13:00:00</td>\n",
       "      <td>4918</td>\n",
       "      <td>2012-10-02</td>\n",
       "      <td>2012</td>\n",
       "      <td>10</td>\n",
       "      <td>2</td>\n",
       "      <td>Tuesday</td>\n",
       "      <td>13</td>\n",
       "    </tr>\n",
       "    <tr>\n",
       "      <th>...</th>\n",
       "      <td>...</td>\n",
       "      <td>...</td>\n",
       "      <td>...</td>\n",
       "      <td>...</td>\n",
       "      <td>...</td>\n",
       "      <td>...</td>\n",
       "      <td>...</td>\n",
       "      <td>...</td>\n",
       "      <td>...</td>\n",
       "      <td>...</td>\n",
       "      <td>...</td>\n",
       "      <td>...</td>\n",
       "      <td>...</td>\n",
       "      <td>...</td>\n",
       "      <td>...</td>\n",
       "    </tr>\n",
       "    <tr>\n",
       "      <th>48199</th>\n",
       "      <td>None</td>\n",
       "      <td>283.45</td>\n",
       "      <td>0.0</td>\n",
       "      <td>0.0</td>\n",
       "      <td>75</td>\n",
       "      <td>Clouds</td>\n",
       "      <td>broken clouds</td>\n",
       "      <td>2018-09-30 19:00:00</td>\n",
       "      <td>3543</td>\n",
       "      <td>2018-09-30</td>\n",
       "      <td>2018</td>\n",
       "      <td>9</td>\n",
       "      <td>30</td>\n",
       "      <td>Sunday</td>\n",
       "      <td>19</td>\n",
       "    </tr>\n",
       "    <tr>\n",
       "      <th>48200</th>\n",
       "      <td>None</td>\n",
       "      <td>282.76</td>\n",
       "      <td>0.0</td>\n",
       "      <td>0.0</td>\n",
       "      <td>90</td>\n",
       "      <td>Clouds</td>\n",
       "      <td>overcast clouds</td>\n",
       "      <td>2018-09-30 20:00:00</td>\n",
       "      <td>2781</td>\n",
       "      <td>2018-09-30</td>\n",
       "      <td>2018</td>\n",
       "      <td>9</td>\n",
       "      <td>30</td>\n",
       "      <td>Sunday</td>\n",
       "      <td>20</td>\n",
       "    </tr>\n",
       "    <tr>\n",
       "      <th>48201</th>\n",
       "      <td>None</td>\n",
       "      <td>282.73</td>\n",
       "      <td>0.0</td>\n",
       "      <td>0.0</td>\n",
       "      <td>90</td>\n",
       "      <td>Thunderstorm</td>\n",
       "      <td>proximity thunderstorm</td>\n",
       "      <td>2018-09-30 21:00:00</td>\n",
       "      <td>2159</td>\n",
       "      <td>2018-09-30</td>\n",
       "      <td>2018</td>\n",
       "      <td>9</td>\n",
       "      <td>30</td>\n",
       "      <td>Sunday</td>\n",
       "      <td>21</td>\n",
       "    </tr>\n",
       "    <tr>\n",
       "      <th>48202</th>\n",
       "      <td>None</td>\n",
       "      <td>282.09</td>\n",
       "      <td>0.0</td>\n",
       "      <td>0.0</td>\n",
       "      <td>90</td>\n",
       "      <td>Clouds</td>\n",
       "      <td>overcast clouds</td>\n",
       "      <td>2018-09-30 22:00:00</td>\n",
       "      <td>1450</td>\n",
       "      <td>2018-09-30</td>\n",
       "      <td>2018</td>\n",
       "      <td>9</td>\n",
       "      <td>30</td>\n",
       "      <td>Sunday</td>\n",
       "      <td>22</td>\n",
       "    </tr>\n",
       "    <tr>\n",
       "      <th>48203</th>\n",
       "      <td>None</td>\n",
       "      <td>282.12</td>\n",
       "      <td>0.0</td>\n",
       "      <td>0.0</td>\n",
       "      <td>90</td>\n",
       "      <td>Clouds</td>\n",
       "      <td>overcast clouds</td>\n",
       "      <td>2018-09-30 23:00:00</td>\n",
       "      <td>954</td>\n",
       "      <td>2018-09-30</td>\n",
       "      <td>2018</td>\n",
       "      <td>9</td>\n",
       "      <td>30</td>\n",
       "      <td>Sunday</td>\n",
       "      <td>23</td>\n",
       "    </tr>\n",
       "  </tbody>\n",
       "</table>\n",
       "<p>48204 rows × 15 columns</p>\n",
       "</div>"
      ],
      "text/plain": [
       "      holiday    temp  rain_1h  snow_1h  clouds_all  weather_main  \\\n",
       "0        None  288.28      0.0      0.0          40        Clouds   \n",
       "1        None  289.36      0.0      0.0          75        Clouds   \n",
       "2        None  289.58      0.0      0.0          90        Clouds   \n",
       "3        None  290.13      0.0      0.0          90        Clouds   \n",
       "4        None  291.14      0.0      0.0          75        Clouds   \n",
       "...       ...     ...      ...      ...         ...           ...   \n",
       "48199    None  283.45      0.0      0.0          75        Clouds   \n",
       "48200    None  282.76      0.0      0.0          90        Clouds   \n",
       "48201    None  282.73      0.0      0.0          90  Thunderstorm   \n",
       "48202    None  282.09      0.0      0.0          90        Clouds   \n",
       "48203    None  282.12      0.0      0.0          90        Clouds   \n",
       "\n",
       "          weather_description           date_time  traffic_volume       date  \\\n",
       "0            scattered clouds 2012-10-02 09:00:00            5545 2012-10-02   \n",
       "1               broken clouds 2012-10-02 10:00:00            4516 2012-10-02   \n",
       "2             overcast clouds 2012-10-02 11:00:00            4767 2012-10-02   \n",
       "3             overcast clouds 2012-10-02 12:00:00            5026 2012-10-02   \n",
       "4               broken clouds 2012-10-02 13:00:00            4918 2012-10-02   \n",
       "...                       ...                 ...             ...        ...   \n",
       "48199           broken clouds 2018-09-30 19:00:00            3543 2018-09-30   \n",
       "48200         overcast clouds 2018-09-30 20:00:00            2781 2018-09-30   \n",
       "48201  proximity thunderstorm 2018-09-30 21:00:00            2159 2018-09-30   \n",
       "48202         overcast clouds 2018-09-30 22:00:00            1450 2018-09-30   \n",
       "48203         overcast clouds 2018-09-30 23:00:00             954 2018-09-30   \n",
       "\n",
       "       year  month  day  weekday  hour  \n",
       "0      2012     10    2  Tuesday     9  \n",
       "1      2012     10    2  Tuesday    10  \n",
       "2      2012     10    2  Tuesday    11  \n",
       "3      2012     10    2  Tuesday    12  \n",
       "4      2012     10    2  Tuesday    13  \n",
       "...     ...    ...  ...      ...   ...  \n",
       "48199  2018      9   30   Sunday    19  \n",
       "48200  2018      9   30   Sunday    20  \n",
       "48201  2018      9   30   Sunday    21  \n",
       "48202  2018      9   30   Sunday    22  \n",
       "48203  2018      9   30   Sunday    23  \n",
       "\n",
       "[48204 rows x 15 columns]"
      ]
     },
     "execution_count": 259,
     "metadata": {},
     "output_type": "execute_result"
    },
    {
     "name": "stdout",
     "output_type": "stream",
     "text": [
      "time: 31 ms (started: 2023-04-05 17:52:37 -06:00)\n"
     ]
    }
   ],
   "source": [
    "df"
   ]
  },
  {
   "cell_type": "code",
   "execution_count": 262,
   "metadata": {},
   "outputs": [
    {
     "name": "stdout",
     "output_type": "stream",
     "text": [
      "time: 0 ns (started: 2023-04-05 17:54:29 -06:00)\n"
     ]
    }
   ],
   "source": [
    "df_daily = df[['date', 'traffic_volume']]"
   ]
  },
  {
   "cell_type": "code",
   "execution_count": 263,
   "metadata": {},
   "outputs": [
    {
     "data": {
      "text/html": [
       "<div>\n",
       "<style scoped>\n",
       "    .dataframe tbody tr th:only-of-type {\n",
       "        vertical-align: middle;\n",
       "    }\n",
       "\n",
       "    .dataframe tbody tr th {\n",
       "        vertical-align: top;\n",
       "    }\n",
       "\n",
       "    .dataframe thead th {\n",
       "        text-align: right;\n",
       "    }\n",
       "</style>\n",
       "<table border=\"1\" class=\"dataframe\">\n",
       "  <thead>\n",
       "    <tr style=\"text-align: right;\">\n",
       "      <th></th>\n",
       "      <th>date</th>\n",
       "      <th>traffic_volume</th>\n",
       "    </tr>\n",
       "  </thead>\n",
       "  <tbody>\n",
       "    <tr>\n",
       "      <th>0</th>\n",
       "      <td>2012-10-02</td>\n",
       "      <td>5545</td>\n",
       "    </tr>\n",
       "    <tr>\n",
       "      <th>1</th>\n",
       "      <td>2012-10-02</td>\n",
       "      <td>4516</td>\n",
       "    </tr>\n",
       "    <tr>\n",
       "      <th>2</th>\n",
       "      <td>2012-10-02</td>\n",
       "      <td>4767</td>\n",
       "    </tr>\n",
       "    <tr>\n",
       "      <th>3</th>\n",
       "      <td>2012-10-02</td>\n",
       "      <td>5026</td>\n",
       "    </tr>\n",
       "    <tr>\n",
       "      <th>4</th>\n",
       "      <td>2012-10-02</td>\n",
       "      <td>4918</td>\n",
       "    </tr>\n",
       "    <tr>\n",
       "      <th>...</th>\n",
       "      <td>...</td>\n",
       "      <td>...</td>\n",
       "    </tr>\n",
       "    <tr>\n",
       "      <th>48199</th>\n",
       "      <td>2018-09-30</td>\n",
       "      <td>3543</td>\n",
       "    </tr>\n",
       "    <tr>\n",
       "      <th>48200</th>\n",
       "      <td>2018-09-30</td>\n",
       "      <td>2781</td>\n",
       "    </tr>\n",
       "    <tr>\n",
       "      <th>48201</th>\n",
       "      <td>2018-09-30</td>\n",
       "      <td>2159</td>\n",
       "    </tr>\n",
       "    <tr>\n",
       "      <th>48202</th>\n",
       "      <td>2018-09-30</td>\n",
       "      <td>1450</td>\n",
       "    </tr>\n",
       "    <tr>\n",
       "      <th>48203</th>\n",
       "      <td>2018-09-30</td>\n",
       "      <td>954</td>\n",
       "    </tr>\n",
       "  </tbody>\n",
       "</table>\n",
       "<p>48204 rows × 2 columns</p>\n",
       "</div>"
      ],
      "text/plain": [
       "            date  traffic_volume\n",
       "0     2012-10-02            5545\n",
       "1     2012-10-02            4516\n",
       "2     2012-10-02            4767\n",
       "3     2012-10-02            5026\n",
       "4     2012-10-02            4918\n",
       "...          ...             ...\n",
       "48199 2018-09-30            3543\n",
       "48200 2018-09-30            2781\n",
       "48201 2018-09-30            2159\n",
       "48202 2018-09-30            1450\n",
       "48203 2018-09-30             954\n",
       "\n",
       "[48204 rows x 2 columns]"
      ]
     },
     "execution_count": 263,
     "metadata": {},
     "output_type": "execute_result"
    },
    {
     "name": "stdout",
     "output_type": "stream",
     "text": [
      "time: 16 ms (started: 2023-04-05 17:54:31 -06:00)\n"
     ]
    }
   ],
   "source": [
    "df_daily"
   ]
  },
  {
   "cell_type": "code",
   "execution_count": 266,
   "metadata": {},
   "outputs": [
    {
     "name": "stdout",
     "output_type": "stream",
     "text": [
      "time: 0 ns (started: 2023-04-05 17:55:19 -06:00)\n"
     ]
    }
   ],
   "source": [
    "df_daily = df_daily.groupby(pd.Grouper(key='date', axis=0, freq='D')).sum()"
   ]
  },
  {
   "cell_type": "code",
   "execution_count": 281,
   "metadata": {},
   "outputs": [
    {
     "data": {
      "text/plain": [
       "traffic_volume    0\n",
       "dtype: int64"
      ]
     },
     "execution_count": 281,
     "metadata": {},
     "output_type": "execute_result"
    },
    {
     "name": "stdout",
     "output_type": "stream",
     "text": [
      "time: 0 ns (started: 2023-04-05 18:13:08 -06:00)\n"
     ]
    }
   ],
   "source": [
    "df_daily.isna().sum()"
   ]
  },
  {
   "cell_type": "code",
   "execution_count": 282,
   "metadata": {},
   "outputs": [
    {
     "data": {
      "image/png": "[encoded data removed]",
      "text/plain": [
       "<Figure size 864x576 with 1 Axes>"
      ]
     },
     "metadata": {},
     "output_type": "display_data"
    },
    {
     "name": "stdout",
     "output_type": "stream",
     "text": [
      "time: 250 ms (started: 2023-04-05 18:13:25 -06:00)\n"
     ]
    }
   ],
   "source": [
    "fig, ax = plt.subplots(figsize=(12,8))\n",
    "plt.plot(df_daily, color = \"black\")\n",
    "\n",
    "ax.set_xlabel('date_time')\n",
    "ax.set_ylabel('traffic_volume')\n",
    "ax.set_title('traffic volume over time');"
   ]
  },
  {
   "cell_type": "markdown",
   "metadata": {},
   "source": [
    "## Baseline Model"
   ]
  },
  {
   "cell_type": "code",
   "execution_count": 274,
   "metadata": {},
   "outputs": [
    {
     "name": "stdout",
     "output_type": "stream",
     "text": [
      "       t-1    t+1\n",
      "0      NaN  63289\n",
      "1  63289.0  66345\n",
      "2  66345.0  89939\n",
      "3  89939.0  93336\n",
      "4  93336.0  74910\n",
      "time: 15 ms (started: 2023-04-05 18:08:03 -06:00)\n"
     ]
    }
   ],
   "source": [
    "from pandas import DataFrame\n",
    "from pandas import concat\n",
    "from sklearn.metrics import mean_squared_error\n",
    "\n",
    "# Create lagged dataset\n",
    "values = DataFrame(df_daily.values)\n",
    "dataframe = concat([values.shift(1), values], axis=1)\n",
    "dataframe.columns = ['t-1', 't+1']\n",
    "print(dataframe.head(5))"
   ]
  },
  {
   "cell_type": "code",
   "execution_count": 275,
   "metadata": {},
   "outputs": [
    {
     "name": "stdout",
     "output_type": "stream",
     "text": [
      "time: 0 ns (started: 2023-04-05 18:09:33 -06:00)\n"
     ]
    }
   ],
   "source": [
    "# split into train and test sets\n",
    "X = dataframe.values\n",
    "train_size = int(len(X) * 0.75)\n",
    "train, test = X[1:train_size], X[train_size:]\n",
    "train_X, train_y = train[:,0], train[:,1]\n",
    "test_X, test_y = test[:,0], test[:,1]"
   ]
  },
  {
   "cell_type": "code",
   "execution_count": 276,
   "metadata": {},
   "outputs": [
    {
     "name": "stdout",
     "output_type": "stream",
     "text": [
      "time: 0 ns (started: 2023-04-05 18:09:46 -06:00)\n"
     ]
    }
   ],
   "source": [
    "# persistence model\n",
    "def model_persistence(x):\n",
    " return x"
   ]
  },
  {
   "cell_type": "code",
   "execution_count": 277,
   "metadata": {},
   "outputs": [
    {
     "name": "stdout",
     "output_type": "stream",
     "text": [
      "Test MSE: 1422240667.569\n",
      "time: 0 ns (started: 2023-04-05 18:10:07 -06:00)\n"
     ]
    }
   ],
   "source": [
    "# walk-forward validation\n",
    "predictions = list()\n",
    "for x in test_X:\n",
    " yhat = model_persistence(x)\n",
    " predictions.append(yhat)\n",
    "test_score = mean_squared_error(test_y, predictions)\n",
    "print('Test MSE: %.3f' % test_score)"
   ]
  },
  {
   "cell_type": "code",
   "execution_count": 279,
   "metadata": {},
   "outputs": [
    {
     "data": {
      "image/png": "[encoded data removed]",
      "text/plain": [
       "<Figure size 432x288 with 1 Axes>"
      ]
     },
     "metadata": {},
     "output_type": "display_data"
    },
    {
     "name": "stdout",
     "output_type": "stream",
     "text": [
      "time: 157 ms (started: 2023-04-05 18:11:09 -06:00)\n"
     ]
    }
   ],
   "source": [
    "# plot predictions and expected results\n",
    "plt.plot(train_y)\n",
    "plt.plot([None for i in train_y] + [x for x in test_y])\n",
    "plt.plot([None for i in train_y] + [x for x in predictions])\n",
    "plt.show()"
   ]
  },
  {
   "cell_type": "code",
   "execution_count": null,
   "metadata": {},
   "outputs": [],
   "source": []
  },
  {
   "cell_type": "code",
   "execution_count": null,
   "metadata": {},
   "outputs": [],
   "source": []
  },
  {
   "cell_type": "code",
   "execution_count": null,
   "metadata": {},
   "outputs": [],
   "source": []
  },
  {
   "cell_type": "code",
   "execution_count": null,
   "metadata": {},
   "outputs": [],
   "source": []
  },
  {
   "cell_type": "code",
   "execution_count": null,
   "metadata": {},
   "outputs": [],
   "source": []
  },
  {
   "cell_type": "code",
   "execution_count": null,
   "metadata": {},
   "outputs": [],
   "source": []
  },
  {
   "cell_type": "code",
   "execution_count": null,
   "metadata": {},
   "outputs": [],
   "source": []
  },
  {
   "cell_type": "code",
   "execution_count": null,
   "metadata": {},
   "outputs": [],
   "source": []
  },
  {
   "cell_type": "code",
   "execution_count": null,
   "metadata": {},
   "outputs": [],
   "source": []
  },
  {
   "cell_type": "code",
   "execution_count": null,
   "metadata": {},
   "outputs": [],
   "source": []
  },
  {
   "cell_type": "code",
   "execution_count": null,
   "metadata": {},
   "outputs": [],
   "source": []
  },
  {
   "cell_type": "code",
   "execution_count": null,
   "metadata": {},
   "outputs": [],
   "source": []
  },
  {
   "cell_type": "code",
   "execution_count": null,
   "metadata": {},
   "outputs": [],
   "source": []
  },
  {
   "cell_type": "code",
   "execution_count": 215,
   "metadata": {},
   "outputs": [
    {
     "name": "stdout",
     "output_type": "stream",
     "text": [
      "time: 0 ns (started: 2023-04-05 17:45:50 -06:00)\n"
     ]
    }
   ],
   "source": [
    "df.set_index('date', inplace=True)"
   ]
  },
  {
   "cell_type": "code",
   "execution_count": 217,
   "metadata": {},
   "outputs": [
    {
     "name": "stdout",
     "output_type": "stream",
     "text": [
      "time: 16 ms (started: 2023-04-05 17:46:14 -06:00)\n"
     ]
    }
   ],
   "source": [
    "# Renaming columns to show units of measurement\n",
    "df = df.rename(columns={'rain_1h':'rain_mm',\n",
    "                        'snow_1h':'snow_mm',\n",
    "                        'clouds_all':'pct_cloud_cover'})\n",
    "\n",
    "# Converting temp column to Fahrenheit values\n",
    "df['temp'] = (df['temp'] - 273.15) * 9/5 + 32"
   ]
  },
  {
   "cell_type": "code",
   "execution_count": 218,
   "metadata": {},
   "outputs": [
    {
     "data": {
      "text/html": [
       "<div>\n",
       "<style scoped>\n",
       "    .dataframe tbody tr th:only-of-type {\n",
       "        vertical-align: middle;\n",
       "    }\n",
       "\n",
       "    .dataframe tbody tr th {\n",
       "        vertical-align: top;\n",
       "    }\n",
       "\n",
       "    .dataframe thead th {\n",
       "        text-align: right;\n",
       "    }\n",
       "</style>\n",
       "<table border=\"1\" class=\"dataframe\">\n",
       "  <thead>\n",
       "    <tr style=\"text-align: right;\">\n",
       "      <th></th>\n",
       "      <th>holiday</th>\n",
       "      <th>temp</th>\n",
       "      <th>rain_mm</th>\n",
       "      <th>snow_mm</th>\n",
       "      <th>pct_cloud_cover</th>\n",
       "      <th>weather_main</th>\n",
       "      <th>weather_description</th>\n",
       "      <th>date_time</th>\n",
       "      <th>traffic_volume</th>\n",
       "      <th>year</th>\n",
       "      <th>month</th>\n",
       "      <th>day</th>\n",
       "      <th>weekday</th>\n",
       "      <th>hour</th>\n",
       "    </tr>\n",
       "    <tr>\n",
       "      <th>date</th>\n",
       "      <th></th>\n",
       "      <th></th>\n",
       "      <th></th>\n",
       "      <th></th>\n",
       "      <th></th>\n",
       "      <th></th>\n",
       "      <th></th>\n",
       "      <th></th>\n",
       "      <th></th>\n",
       "      <th></th>\n",
       "      <th></th>\n",
       "      <th></th>\n",
       "      <th></th>\n",
       "      <th></th>\n",
       "    </tr>\n",
       "  </thead>\n",
       "  <tbody>\n",
       "    <tr>\n",
       "      <th>2012-10-02</th>\n",
       "      <td>None</td>\n",
       "      <td>59.234</td>\n",
       "      <td>0.0</td>\n",
       "      <td>0.0</td>\n",
       "      <td>40</td>\n",
       "      <td>Clouds</td>\n",
       "      <td>scattered clouds</td>\n",
       "      <td>2012-10-02 09:00:00</td>\n",
       "      <td>5545</td>\n",
       "      <td>2012</td>\n",
       "      <td>10</td>\n",
       "      <td>2</td>\n",
       "      <td>Tuesday</td>\n",
       "      <td>9</td>\n",
       "    </tr>\n",
       "    <tr>\n",
       "      <th>2012-10-02</th>\n",
       "      <td>None</td>\n",
       "      <td>61.178</td>\n",
       "      <td>0.0</td>\n",
       "      <td>0.0</td>\n",
       "      <td>75</td>\n",
       "      <td>Clouds</td>\n",
       "      <td>broken clouds</td>\n",
       "      <td>2012-10-02 10:00:00</td>\n",
       "      <td>4516</td>\n",
       "      <td>2012</td>\n",
       "      <td>10</td>\n",
       "      <td>2</td>\n",
       "      <td>Tuesday</td>\n",
       "      <td>10</td>\n",
       "    </tr>\n",
       "    <tr>\n",
       "      <th>2012-10-02</th>\n",
       "      <td>None</td>\n",
       "      <td>61.574</td>\n",
       "      <td>0.0</td>\n",
       "      <td>0.0</td>\n",
       "      <td>90</td>\n",
       "      <td>Clouds</td>\n",
       "      <td>overcast clouds</td>\n",
       "      <td>2012-10-02 11:00:00</td>\n",
       "      <td>4767</td>\n",
       "      <td>2012</td>\n",
       "      <td>10</td>\n",
       "      <td>2</td>\n",
       "      <td>Tuesday</td>\n",
       "      <td>11</td>\n",
       "    </tr>\n",
       "    <tr>\n",
       "      <th>2012-10-02</th>\n",
       "      <td>None</td>\n",
       "      <td>62.564</td>\n",
       "      <td>0.0</td>\n",
       "      <td>0.0</td>\n",
       "      <td>90</td>\n",
       "      <td>Clouds</td>\n",
       "      <td>overcast clouds</td>\n",
       "      <td>2012-10-02 12:00:00</td>\n",
       "      <td>5026</td>\n",
       "      <td>2012</td>\n",
       "      <td>10</td>\n",
       "      <td>2</td>\n",
       "      <td>Tuesday</td>\n",
       "      <td>12</td>\n",
       "    </tr>\n",
       "    <tr>\n",
       "      <th>2012-10-02</th>\n",
       "      <td>None</td>\n",
       "      <td>64.382</td>\n",
       "      <td>0.0</td>\n",
       "      <td>0.0</td>\n",
       "      <td>75</td>\n",
       "      <td>Clouds</td>\n",
       "      <td>broken clouds</td>\n",
       "      <td>2012-10-02 13:00:00</td>\n",
       "      <td>4918</td>\n",
       "      <td>2012</td>\n",
       "      <td>10</td>\n",
       "      <td>2</td>\n",
       "      <td>Tuesday</td>\n",
       "      <td>13</td>\n",
       "    </tr>\n",
       "    <tr>\n",
       "      <th>...</th>\n",
       "      <td>...</td>\n",
       "      <td>...</td>\n",
       "      <td>...</td>\n",
       "      <td>...</td>\n",
       "      <td>...</td>\n",
       "      <td>...</td>\n",
       "      <td>...</td>\n",
       "      <td>...</td>\n",
       "      <td>...</td>\n",
       "      <td>...</td>\n",
       "      <td>...</td>\n",
       "      <td>...</td>\n",
       "      <td>...</td>\n",
       "      <td>...</td>\n",
       "    </tr>\n",
       "    <tr>\n",
       "      <th>2018-09-30</th>\n",
       "      <td>None</td>\n",
       "      <td>50.540</td>\n",
       "      <td>0.0</td>\n",
       "      <td>0.0</td>\n",
       "      <td>75</td>\n",
       "      <td>Clouds</td>\n",
       "      <td>broken clouds</td>\n",
       "      <td>2018-09-30 19:00:00</td>\n",
       "      <td>3543</td>\n",
       "      <td>2018</td>\n",
       "      <td>9</td>\n",
       "      <td>30</td>\n",
       "      <td>Sunday</td>\n",
       "      <td>19</td>\n",
       "    </tr>\n",
       "    <tr>\n",
       "      <th>2018-09-30</th>\n",
       "      <td>None</td>\n",
       "      <td>49.298</td>\n",
       "      <td>0.0</td>\n",
       "      <td>0.0</td>\n",
       "      <td>90</td>\n",
       "      <td>Clouds</td>\n",
       "      <td>overcast clouds</td>\n",
       "      <td>2018-09-30 20:00:00</td>\n",
       "      <td>2781</td>\n",
       "      <td>2018</td>\n",
       "      <td>9</td>\n",
       "      <td>30</td>\n",
       "      <td>Sunday</td>\n",
       "      <td>20</td>\n",
       "    </tr>\n",
       "    <tr>\n",
       "      <th>2018-09-30</th>\n",
       "      <td>None</td>\n",
       "      <td>49.244</td>\n",
       "      <td>0.0</td>\n",
       "      <td>0.0</td>\n",
       "      <td>90</td>\n",
       "      <td>Thunderstorm</td>\n",
       "      <td>proximity thunderstorm</td>\n",
       "      <td>2018-09-30 21:00:00</td>\n",
       "      <td>2159</td>\n",
       "      <td>2018</td>\n",
       "      <td>9</td>\n",
       "      <td>30</td>\n",
       "      <td>Sunday</td>\n",
       "      <td>21</td>\n",
       "    </tr>\n",
       "    <tr>\n",
       "      <th>2018-09-30</th>\n",
       "      <td>None</td>\n",
       "      <td>48.092</td>\n",
       "      <td>0.0</td>\n",
       "      <td>0.0</td>\n",
       "      <td>90</td>\n",
       "      <td>Clouds</td>\n",
       "      <td>overcast clouds</td>\n",
       "      <td>2018-09-30 22:00:00</td>\n",
       "      <td>1450</td>\n",
       "      <td>2018</td>\n",
       "      <td>9</td>\n",
       "      <td>30</td>\n",
       "      <td>Sunday</td>\n",
       "      <td>22</td>\n",
       "    </tr>\n",
       "    <tr>\n",
       "      <th>2018-09-30</th>\n",
       "      <td>None</td>\n",
       "      <td>48.146</td>\n",
       "      <td>0.0</td>\n",
       "      <td>0.0</td>\n",
       "      <td>90</td>\n",
       "      <td>Clouds</td>\n",
       "      <td>overcast clouds</td>\n",
       "      <td>2018-09-30 23:00:00</td>\n",
       "      <td>954</td>\n",
       "      <td>2018</td>\n",
       "      <td>9</td>\n",
       "      <td>30</td>\n",
       "      <td>Sunday</td>\n",
       "      <td>23</td>\n",
       "    </tr>\n",
       "  </tbody>\n",
       "</table>\n",
       "<p>48204 rows × 14 columns</p>\n",
       "</div>"
      ],
      "text/plain": [
       "           holiday    temp  rain_mm  snow_mm  pct_cloud_cover  weather_main  \\\n",
       "date                                                                          \n",
       "2012-10-02    None  59.234      0.0      0.0               40        Clouds   \n",
       "2012-10-02    None  61.178      0.0      0.0               75        Clouds   \n",
       "2012-10-02    None  61.574      0.0      0.0               90        Clouds   \n",
       "2012-10-02    None  62.564      0.0      0.0               90        Clouds   \n",
       "2012-10-02    None  64.382      0.0      0.0               75        Clouds   \n",
       "...            ...     ...      ...      ...              ...           ...   \n",
       "2018-09-30    None  50.540      0.0      0.0               75        Clouds   \n",
       "2018-09-30    None  49.298      0.0      0.0               90        Clouds   \n",
       "2018-09-30    None  49.244      0.0      0.0               90  Thunderstorm   \n",
       "2018-09-30    None  48.092      0.0      0.0               90        Clouds   \n",
       "2018-09-30    None  48.146      0.0      0.0               90        Clouds   \n",
       "\n",
       "               weather_description           date_time  traffic_volume  year  \\\n",
       "date                                                                           \n",
       "2012-10-02        scattered clouds 2012-10-02 09:00:00            5545  2012   \n",
       "2012-10-02           broken clouds 2012-10-02 10:00:00            4516  2012   \n",
       "2012-10-02         overcast clouds 2012-10-02 11:00:00            4767  2012   \n",
       "2012-10-02         overcast clouds 2012-10-02 12:00:00            5026  2012   \n",
       "2012-10-02           broken clouds 2012-10-02 13:00:00            4918  2012   \n",
       "...                            ...                 ...             ...   ...   \n",
       "2018-09-30           broken clouds 2018-09-30 19:00:00            3543  2018   \n",
       "2018-09-30         overcast clouds 2018-09-30 20:00:00            2781  2018   \n",
       "2018-09-30  proximity thunderstorm 2018-09-30 21:00:00            2159  2018   \n",
       "2018-09-30         overcast clouds 2018-09-30 22:00:00            1450  2018   \n",
       "2018-09-30         overcast clouds 2018-09-30 23:00:00             954  2018   \n",
       "\n",
       "            month  day  weekday  hour  \n",
       "date                                   \n",
       "2012-10-02     10    2  Tuesday     9  \n",
       "2012-10-02     10    2  Tuesday    10  \n",
       "2012-10-02     10    2  Tuesday    11  \n",
       "2012-10-02     10    2  Tuesday    12  \n",
       "2012-10-02     10    2  Tuesday    13  \n",
       "...           ...  ...      ...   ...  \n",
       "2018-09-30      9   30   Sunday    19  \n",
       "2018-09-30      9   30   Sunday    20  \n",
       "2018-09-30      9   30   Sunday    21  \n",
       "2018-09-30      9   30   Sunday    22  \n",
       "2018-09-30      9   30   Sunday    23  \n",
       "\n",
       "[48204 rows x 14 columns]"
      ]
     },
     "execution_count": 218,
     "metadata": {},
     "output_type": "execute_result"
    },
    {
     "name": "stdout",
     "output_type": "stream",
     "text": [
      "time: 31 ms (started: 2023-04-05 17:46:16 -06:00)\n"
     ]
    }
   ],
   "source": [
    "df"
   ]
  },
  {
   "cell_type": "code",
   "execution_count": 220,
   "metadata": {},
   "outputs": [
    {
     "name": "stdout",
     "output_type": "stream",
     "text": [
      "time: 16 ms (started: 2023-04-05 17:46:41 -06:00)\n"
     ]
    }
   ],
   "source": [
    "df_daily = df.resample('D').agg({'rain_mm' : 'sum',\n",
    "                                 'snow_mm' : 'sum',\n",
    "                                 'pct_cloud_cover' : 'mean',\n",
    "                                 'temp' : 'mean',\n",
    "                                 'traffic_volume' : 'sum'})"
   ]
  },
  {
   "cell_type": "code",
   "execution_count": 221,
   "metadata": {},
   "outputs": [
    {
     "data": {
      "text/html": [
       "<div>\n",
       "<style scoped>\n",
       "    .dataframe tbody tr th:only-of-type {\n",
       "        vertical-align: middle;\n",
       "    }\n",
       "\n",
       "    .dataframe tbody tr th {\n",
       "        vertical-align: top;\n",
       "    }\n",
       "\n",
       "    .dataframe thead th {\n",
       "        text-align: right;\n",
       "    }\n",
       "</style>\n",
       "<table border=\"1\" class=\"dataframe\">\n",
       "  <thead>\n",
       "    <tr style=\"text-align: right;\">\n",
       "      <th></th>\n",
       "      <th>rain_mm</th>\n",
       "      <th>snow_mm</th>\n",
       "      <th>pct_cloud_cover</th>\n",
       "      <th>temp</th>\n",
       "      <th>traffic_volume</th>\n",
       "    </tr>\n",
       "    <tr>\n",
       "      <th>date</th>\n",
       "      <th></th>\n",
       "      <th></th>\n",
       "      <th></th>\n",
       "      <th></th>\n",
       "      <th></th>\n",
       "    </tr>\n",
       "  </thead>\n",
       "  <tbody>\n",
       "    <tr>\n",
       "      <th>2012-10-02</th>\n",
       "      <td>0.00</td>\n",
       "      <td>0.0</td>\n",
       "      <td>29.133333</td>\n",
       "      <td>63.056000</td>\n",
       "      <td>4219.266667</td>\n",
       "    </tr>\n",
       "    <tr>\n",
       "      <th>2012-10-03</th>\n",
       "      <td>0.00</td>\n",
       "      <td>0.0</td>\n",
       "      <td>3.850000</td>\n",
       "      <td>55.874300</td>\n",
       "      <td>3317.250000</td>\n",
       "    </tr>\n",
       "    <tr>\n",
       "      <th>2012-10-04</th>\n",
       "      <td>0.00</td>\n",
       "      <td>0.0</td>\n",
       "      <td>16.708333</td>\n",
       "      <td>61.173500</td>\n",
       "      <td>3747.458333</td>\n",
       "    </tr>\n",
       "    <tr>\n",
       "      <th>2012-10-05</th>\n",
       "      <td>0.00</td>\n",
       "      <td>0.0</td>\n",
       "      <td>75.000000</td>\n",
       "      <td>48.070727</td>\n",
       "      <td>4242.545455</td>\n",
       "    </tr>\n",
       "    <tr>\n",
       "      <th>2012-10-06</th>\n",
       "      <td>0.00</td>\n",
       "      <td>0.0</td>\n",
       "      <td>61.652174</td>\n",
       "      <td>40.272957</td>\n",
       "      <td>3256.956522</td>\n",
       "    </tr>\n",
       "    <tr>\n",
       "      <th>...</th>\n",
       "      <td>...</td>\n",
       "      <td>...</td>\n",
       "      <td>...</td>\n",
       "      <td>...</td>\n",
       "      <td>...</td>\n",
       "    </tr>\n",
       "    <tr>\n",
       "      <th>2018-09-26</th>\n",
       "      <td>0.25</td>\n",
       "      <td>0.0</td>\n",
       "      <td>39.833333</td>\n",
       "      <td>51.522500</td>\n",
       "      <td>3692.791667</td>\n",
       "    </tr>\n",
       "    <tr>\n",
       "      <th>2018-09-27</th>\n",
       "      <td>0.50</td>\n",
       "      <td>0.0</td>\n",
       "      <td>61.200000</td>\n",
       "      <td>55.613120</td>\n",
       "      <td>3777.360000</td>\n",
       "    </tr>\n",
       "    <tr>\n",
       "      <th>2018-09-28</th>\n",
       "      <td>0.00</td>\n",
       "      <td>0.0</td>\n",
       "      <td>26.250000</td>\n",
       "      <td>47.189000</td>\n",
       "      <td>3854.916667</td>\n",
       "    </tr>\n",
       "    <tr>\n",
       "      <th>2018-09-29</th>\n",
       "      <td>0.25</td>\n",
       "      <td>0.0</td>\n",
       "      <td>57.360000</td>\n",
       "      <td>40.973360</td>\n",
       "      <td>3049.680000</td>\n",
       "    </tr>\n",
       "    <tr>\n",
       "      <th>2018-09-30</th>\n",
       "      <td>0.25</td>\n",
       "      <td>0.0</td>\n",
       "      <td>85.384615</td>\n",
       "      <td>47.940385</td>\n",
       "      <td>2645.576923</td>\n",
       "    </tr>\n",
       "  </tbody>\n",
       "</table>\n",
       "<p>2190 rows × 5 columns</p>\n",
       "</div>"
      ],
      "text/plain": [
       "            rain_mm  snow_mm  pct_cloud_cover       temp  traffic_volume\n",
       "date                                                                    \n",
       "2012-10-02     0.00      0.0        29.133333  63.056000     4219.266667\n",
       "2012-10-03     0.00      0.0         3.850000  55.874300     3317.250000\n",
       "2012-10-04     0.00      0.0        16.708333  61.173500     3747.458333\n",
       "2012-10-05     0.00      0.0        75.000000  48.070727     4242.545455\n",
       "2012-10-06     0.00      0.0        61.652174  40.272957     3256.956522\n",
       "...             ...      ...              ...        ...             ...\n",
       "2018-09-26     0.25      0.0        39.833333  51.522500     3692.791667\n",
       "2018-09-27     0.50      0.0        61.200000  55.613120     3777.360000\n",
       "2018-09-28     0.00      0.0        26.250000  47.189000     3854.916667\n",
       "2018-09-29     0.25      0.0        57.360000  40.973360     3049.680000\n",
       "2018-09-30     0.25      0.0        85.384615  47.940385     2645.576923\n",
       "\n",
       "[2190 rows x 5 columns]"
      ]
     },
     "execution_count": 221,
     "metadata": {},
     "output_type": "execute_result"
    },
    {
     "name": "stdout",
     "output_type": "stream",
     "text": [
      "time: 0 ns (started: 2023-04-05 17:46:45 -06:00)\n"
     ]
    }
   ],
   "source": [
    "df_daily"
   ]
  },
  {
   "cell_type": "code",
   "execution_count": 223,
   "metadata": {},
   "outputs": [
    {
     "data": {
      "image/png": "[encoded data removed]",
      "text/plain": [
       "<Figure size 864x576 with 1 Axes>"
      ]
     },
     "metadata": {},
     "output_type": "display_data"
    },
    {
     "name": "stdout",
     "output_type": "stream",
     "text": [
      "time: 235 ms (started: 2023-04-05 17:48:00 -06:00)\n"
     ]
    }
   ],
   "source": [
    "fig, ax = plt.subplots(figsize=(12,8))\n",
    "plt.plot(df_daily['traffic_volume'], color = \"black\");"
   ]
  },
  {
   "cell_type": "code",
   "execution_count": 224,
   "metadata": {},
   "outputs": [
    {
     "data": {
      "text/plain": [
       "rain_mm              0\n",
       "snow_mm              0\n",
       "pct_cloud_cover    330\n",
       "temp               330\n",
       "traffic_volume     330\n",
       "dtype: int64"
      ]
     },
     "execution_count": 224,
     "metadata": {},
     "output_type": "execute_result"
    },
    {
     "name": "stdout",
     "output_type": "stream",
     "text": [
      "time: 0 ns (started: 2023-04-05 17:48:43 -06:00)\n"
     ]
    }
   ],
   "source": [
    "df_daily.isna().sum()"
   ]
  },
  {
   "cell_type": "code",
   "execution_count": null,
   "metadata": {},
   "outputs": [],
   "source": []
  },
  {
   "cell_type": "code",
   "execution_count": null,
   "metadata": {},
   "outputs": [],
   "source": []
  },
  {
   "cell_type": "code",
   "execution_count": 10,
   "metadata": {},
   "outputs": [
    {
     "data": {
      "image/png": "[encoded data removed]",
      "text/plain": [
       "<Figure size 576x576 with 2 Axes>"
      ]
     },
     "metadata": {},
     "output_type": "display_data"
    },
    {
     "name": "stdout",
     "output_type": "stream",
     "text": [
      "time: 328 ms (started: 2023-04-05 14:20:44 -06:00)\n"
     ]
    }
   ],
   "source": [
    "# Plotting correlation heatmap\n",
    "\n",
    "fig, ax = plt.subplots(figsize=(8, 8))\n",
    "sns.heatmap(df.corr(), annot=True);"
   ]
  },
  {
   "cell_type": "code",
   "execution_count": null,
   "metadata": {},
   "outputs": [],
   "source": []
  },
  {
   "cell_type": "code",
   "execution_count": null,
   "metadata": {},
   "outputs": [],
   "source": []
  },
  {
   "cell_type": "code",
   "execution_count": null,
   "metadata": {},
   "outputs": [],
   "source": []
  },
  {
   "cell_type": "code",
   "execution_count": null,
   "metadata": {},
   "outputs": [],
   "source": []
  },
  {
   "cell_type": "code",
   "execution_count": null,
   "metadata": {},
   "outputs": [],
   "source": []
  },
  {
   "cell_type": "code",
   "execution_count": null,
   "metadata": {},
   "outputs": [],
   "source": []
  },
  {
   "cell_type": "code",
   "execution_count": null,
   "metadata": {},
   "outputs": [],
   "source": []
  },
  {
   "cell_type": "code",
   "execution_count": null,
   "metadata": {},
   "outputs": [],
   "source": []
  },
  {
   "cell_type": "code",
   "execution_count": null,
   "metadata": {},
   "outputs": [],
   "source": []
  },
  {
   "cell_type": "code",
   "execution_count": null,
   "metadata": {},
   "outputs": [],
   "source": []
  },
  {
   "cell_type": "code",
   "execution_count": null,
   "metadata": {},
   "outputs": [],
   "source": []
  },
  {
   "cell_type": "code",
   "execution_count": null,
   "metadata": {},
   "outputs": [],
   "source": []
  },
  {
   "cell_type": "code",
   "execution_count": null,
   "metadata": {},
   "outputs": [],
   "source": []
  },
  {
   "cell_type": "code",
   "execution_count": null,
   "metadata": {},
   "outputs": [],
   "source": []
  },
  {
   "cell_type": "code",
   "execution_count": null,
   "metadata": {},
   "outputs": [],
   "source": []
  },
  {
   "cell_type": "code",
   "execution_count": null,
   "metadata": {},
   "outputs": [],
   "source": []
  },
  {
   "cell_type": "code",
   "execution_count": null,
   "metadata": {},
   "outputs": [],
   "source": []
  },
  {
   "cell_type": "code",
   "execution_count": null,
   "metadata": {},
   "outputs": [],
   "source": []
  },
  {
   "cell_type": "code",
   "execution_count": null,
   "metadata": {},
   "outputs": [],
   "source": []
  },
  {
   "cell_type": "code",
   "execution_count": null,
   "metadata": {},
   "outputs": [],
   "source": []
  },
  {
   "cell_type": "code",
   "execution_count": null,
   "metadata": {},
   "outputs": [],
   "source": []
  },
  {
   "cell_type": "code",
   "execution_count": 11,
   "metadata": {},
   "outputs": [
    {
     "name": "stdout",
     "output_type": "stream",
     "text": [
      "time: 16 ms (started: 2023-04-05 14:20:45 -06:00)\n"
     ]
    }
   ],
   "source": [
    "# Renaming columns to show units of measurement\n",
    "df = df.rename(columns={'temp':'temp_k',\n",
    "                        'rain_1h':'rain_mm',\n",
    "                        'snow_1h':'snow_mm',\n",
    "                        'clouds_all':'pct_cloud_cover'})\n",
    "\n",
    "# Creating column with Fahrenheit values\n",
    "df['temp_f'] = (df['temp_k'] - 273.15) * 9/5 + 32"
   ]
  },
  {
   "cell_type": "code",
   "execution_count": 12,
   "metadata": {
    "scrolled": true
   },
   "outputs": [
    {
     "name": "stdout",
     "output_type": "stream",
     "text": [
      "time: 47 ms (started: 2023-04-05 14:20:45 -06:00)\n"
     ]
    }
   ],
   "source": [
    "df['date_time'] = pd.to_datetime(df['date_time'], infer_datetime_format=True)\n",
    "df.set_index('date_time', inplace=True)"
   ]
  },
  {
   "cell_type": "code",
   "execution_count": 13,
   "metadata": {},
   "outputs": [
    {
     "data": {
      "text/html": [
       "<div>\n",
       "<style scoped>\n",
       "    .dataframe tbody tr th:only-of-type {\n",
       "        vertical-align: middle;\n",
       "    }\n",
       "\n",
       "    .dataframe tbody tr th {\n",
       "        vertical-align: top;\n",
       "    }\n",
       "\n",
       "    .dataframe thead th {\n",
       "        text-align: right;\n",
       "    }\n",
       "</style>\n",
       "<table border=\"1\" class=\"dataframe\">\n",
       "  <thead>\n",
       "    <tr style=\"text-align: right;\">\n",
       "      <th></th>\n",
       "      <th>holiday</th>\n",
       "      <th>temp_k</th>\n",
       "      <th>rain_mm</th>\n",
       "      <th>snow_mm</th>\n",
       "      <th>pct_cloud_cover</th>\n",
       "      <th>weather_main</th>\n",
       "      <th>weather_description</th>\n",
       "      <th>traffic_volume</th>\n",
       "      <th>temp_f</th>\n",
       "    </tr>\n",
       "    <tr>\n",
       "      <th>date_time</th>\n",
       "      <th></th>\n",
       "      <th></th>\n",
       "      <th></th>\n",
       "      <th></th>\n",
       "      <th></th>\n",
       "      <th></th>\n",
       "      <th></th>\n",
       "      <th></th>\n",
       "      <th></th>\n",
       "    </tr>\n",
       "  </thead>\n",
       "  <tbody>\n",
       "    <tr>\n",
       "      <th>2012-10-02 09:00:00</th>\n",
       "      <td>None</td>\n",
       "      <td>288.28</td>\n",
       "      <td>0.0</td>\n",
       "      <td>0.0</td>\n",
       "      <td>40</td>\n",
       "      <td>Clouds</td>\n",
       "      <td>scattered clouds</td>\n",
       "      <td>5545</td>\n",
       "      <td>59.234</td>\n",
       "    </tr>\n",
       "    <tr>\n",
       "      <th>2012-10-02 10:00:00</th>\n",
       "      <td>None</td>\n",
       "      <td>289.36</td>\n",
       "      <td>0.0</td>\n",
       "      <td>0.0</td>\n",
       "      <td>75</td>\n",
       "      <td>Clouds</td>\n",
       "      <td>broken clouds</td>\n",
       "      <td>4516</td>\n",
       "      <td>61.178</td>\n",
       "    </tr>\n",
       "    <tr>\n",
       "      <th>2012-10-02 11:00:00</th>\n",
       "      <td>None</td>\n",
       "      <td>289.58</td>\n",
       "      <td>0.0</td>\n",
       "      <td>0.0</td>\n",
       "      <td>90</td>\n",
       "      <td>Clouds</td>\n",
       "      <td>overcast clouds</td>\n",
       "      <td>4767</td>\n",
       "      <td>61.574</td>\n",
       "    </tr>\n",
       "    <tr>\n",
       "      <th>2012-10-02 12:00:00</th>\n",
       "      <td>None</td>\n",
       "      <td>290.13</td>\n",
       "      <td>0.0</td>\n",
       "      <td>0.0</td>\n",
       "      <td>90</td>\n",
       "      <td>Clouds</td>\n",
       "      <td>overcast clouds</td>\n",
       "      <td>5026</td>\n",
       "      <td>62.564</td>\n",
       "    </tr>\n",
       "    <tr>\n",
       "      <th>2012-10-02 13:00:00</th>\n",
       "      <td>None</td>\n",
       "      <td>291.14</td>\n",
       "      <td>0.0</td>\n",
       "      <td>0.0</td>\n",
       "      <td>75</td>\n",
       "      <td>Clouds</td>\n",
       "      <td>broken clouds</td>\n",
       "      <td>4918</td>\n",
       "      <td>64.382</td>\n",
       "    </tr>\n",
       "    <tr>\n",
       "      <th>...</th>\n",
       "      <td>...</td>\n",
       "      <td>...</td>\n",
       "      <td>...</td>\n",
       "      <td>...</td>\n",
       "      <td>...</td>\n",
       "      <td>...</td>\n",
       "      <td>...</td>\n",
       "      <td>...</td>\n",
       "      <td>...</td>\n",
       "    </tr>\n",
       "    <tr>\n",
       "      <th>2018-09-30 19:00:00</th>\n",
       "      <td>None</td>\n",
       "      <td>283.45</td>\n",
       "      <td>0.0</td>\n",
       "      <td>0.0</td>\n",
       "      <td>75</td>\n",
       "      <td>Clouds</td>\n",
       "      <td>broken clouds</td>\n",
       "      <td>3543</td>\n",
       "      <td>50.540</td>\n",
       "    </tr>\n",
       "    <tr>\n",
       "      <th>2018-09-30 20:00:00</th>\n",
       "      <td>None</td>\n",
       "      <td>282.76</td>\n",
       "      <td>0.0</td>\n",
       "      <td>0.0</td>\n",
       "      <td>90</td>\n",
       "      <td>Clouds</td>\n",
       "      <td>overcast clouds</td>\n",
       "      <td>2781</td>\n",
       "      <td>49.298</td>\n",
       "    </tr>\n",
       "    <tr>\n",
       "      <th>2018-09-30 21:00:00</th>\n",
       "      <td>None</td>\n",
       "      <td>282.73</td>\n",
       "      <td>0.0</td>\n",
       "      <td>0.0</td>\n",
       "      <td>90</td>\n",
       "      <td>Thunderstorm</td>\n",
       "      <td>proximity thunderstorm</td>\n",
       "      <td>2159</td>\n",
       "      <td>49.244</td>\n",
       "    </tr>\n",
       "    <tr>\n",
       "      <th>2018-09-30 22:00:00</th>\n",
       "      <td>None</td>\n",
       "      <td>282.09</td>\n",
       "      <td>0.0</td>\n",
       "      <td>0.0</td>\n",
       "      <td>90</td>\n",
       "      <td>Clouds</td>\n",
       "      <td>overcast clouds</td>\n",
       "      <td>1450</td>\n",
       "      <td>48.092</td>\n",
       "    </tr>\n",
       "    <tr>\n",
       "      <th>2018-09-30 23:00:00</th>\n",
       "      <td>None</td>\n",
       "      <td>282.12</td>\n",
       "      <td>0.0</td>\n",
       "      <td>0.0</td>\n",
       "      <td>90</td>\n",
       "      <td>Clouds</td>\n",
       "      <td>overcast clouds</td>\n",
       "      <td>954</td>\n",
       "      <td>48.146</td>\n",
       "    </tr>\n",
       "  </tbody>\n",
       "</table>\n",
       "<p>48204 rows × 9 columns</p>\n",
       "</div>"
      ],
      "text/plain": [
       "                    holiday  temp_k  rain_mm  snow_mm  pct_cloud_cover  \\\n",
       "date_time                                                                \n",
       "2012-10-02 09:00:00    None  288.28      0.0      0.0               40   \n",
       "2012-10-02 10:00:00    None  289.36      0.0      0.0               75   \n",
       "2012-10-02 11:00:00    None  289.58      0.0      0.0               90   \n",
       "2012-10-02 12:00:00    None  290.13      0.0      0.0               90   \n",
       "2012-10-02 13:00:00    None  291.14      0.0      0.0               75   \n",
       "...                     ...     ...      ...      ...              ...   \n",
       "2018-09-30 19:00:00    None  283.45      0.0      0.0               75   \n",
       "2018-09-30 20:00:00    None  282.76      0.0      0.0               90   \n",
       "2018-09-30 21:00:00    None  282.73      0.0      0.0               90   \n",
       "2018-09-30 22:00:00    None  282.09      0.0      0.0               90   \n",
       "2018-09-30 23:00:00    None  282.12      0.0      0.0               90   \n",
       "\n",
       "                     weather_main     weather_description  traffic_volume  \\\n",
       "date_time                                                                   \n",
       "2012-10-02 09:00:00        Clouds        scattered clouds            5545   \n",
       "2012-10-02 10:00:00        Clouds           broken clouds            4516   \n",
       "2012-10-02 11:00:00        Clouds         overcast clouds            4767   \n",
       "2012-10-02 12:00:00        Clouds         overcast clouds            5026   \n",
       "2012-10-02 13:00:00        Clouds           broken clouds            4918   \n",
       "...                           ...                     ...             ...   \n",
       "2018-09-30 19:00:00        Clouds           broken clouds            3543   \n",
       "2018-09-30 20:00:00        Clouds         overcast clouds            2781   \n",
       "2018-09-30 21:00:00  Thunderstorm  proximity thunderstorm            2159   \n",
       "2018-09-30 22:00:00        Clouds         overcast clouds            1450   \n",
       "2018-09-30 23:00:00        Clouds         overcast clouds             954   \n",
       "\n",
       "                     temp_f  \n",
       "date_time                    \n",
       "2012-10-02 09:00:00  59.234  \n",
       "2012-10-02 10:00:00  61.178  \n",
       "2012-10-02 11:00:00  61.574  \n",
       "2012-10-02 12:00:00  62.564  \n",
       "2012-10-02 13:00:00  64.382  \n",
       "...                     ...  \n",
       "2018-09-30 19:00:00  50.540  \n",
       "2018-09-30 20:00:00  49.298  \n",
       "2018-09-30 21:00:00  49.244  \n",
       "2018-09-30 22:00:00  48.092  \n",
       "2018-09-30 23:00:00  48.146  \n",
       "\n",
       "[48204 rows x 9 columns]"
      ]
     },
     "execution_count": 13,
     "metadata": {},
     "output_type": "execute_result"
    },
    {
     "name": "stdout",
     "output_type": "stream",
     "text": [
      "time: 31 ms (started: 2023-04-05 14:20:45 -06:00)\n"
     ]
    }
   ],
   "source": [
    "df"
   ]
  },
  {
   "cell_type": "code",
   "execution_count": 14,
   "metadata": {},
   "outputs": [
    {
     "name": "stdout",
     "output_type": "stream",
     "text": [
      "time: 62 ms (started: 2023-04-05 14:20:45 -06:00)\n"
     ]
    }
   ],
   "source": [
    "df_daily = df.resample('D').agg({'rain_mm' : 'sum',\n",
    "                                 'snow_mm' : 'sum',\n",
    "                                 'pct_cloud_cover' : 'mean',\n",
    "                                 'temp_f' : 'mean',\n",
    "                                 'traffic_volume' : 'mean'})"
   ]
  },
  {
   "cell_type": "code",
   "execution_count": 15,
   "metadata": {},
   "outputs": [
    {
     "data": {
      "text/html": [
       "<div>\n",
       "<style scoped>\n",
       "    .dataframe tbody tr th:only-of-type {\n",
       "        vertical-align: middle;\n",
       "    }\n",
       "\n",
       "    .dataframe tbody tr th {\n",
       "        vertical-align: top;\n",
       "    }\n",
       "\n",
       "    .dataframe thead th {\n",
       "        text-align: right;\n",
       "    }\n",
       "</style>\n",
       "<table border=\"1\" class=\"dataframe\">\n",
       "  <thead>\n",
       "    <tr style=\"text-align: right;\">\n",
       "      <th></th>\n",
       "      <th>rain_mm</th>\n",
       "      <th>snow_mm</th>\n",
       "      <th>pct_cloud_cover</th>\n",
       "      <th>temp_f</th>\n",
       "      <th>traffic_volume</th>\n",
       "    </tr>\n",
       "    <tr>\n",
       "      <th>date_time</th>\n",
       "      <th></th>\n",
       "      <th></th>\n",
       "      <th></th>\n",
       "      <th></th>\n",
       "      <th></th>\n",
       "    </tr>\n",
       "  </thead>\n",
       "  <tbody>\n",
       "    <tr>\n",
       "      <th>2012-10-02</th>\n",
       "      <td>0.00</td>\n",
       "      <td>0.0</td>\n",
       "      <td>29.133333</td>\n",
       "      <td>63.056000</td>\n",
       "      <td>4219.266667</td>\n",
       "    </tr>\n",
       "    <tr>\n",
       "      <th>2012-10-03</th>\n",
       "      <td>0.00</td>\n",
       "      <td>0.0</td>\n",
       "      <td>3.850000</td>\n",
       "      <td>55.874300</td>\n",
       "      <td>3317.250000</td>\n",
       "    </tr>\n",
       "    <tr>\n",
       "      <th>2012-10-04</th>\n",
       "      <td>0.00</td>\n",
       "      <td>0.0</td>\n",
       "      <td>16.708333</td>\n",
       "      <td>61.173500</td>\n",
       "      <td>3747.458333</td>\n",
       "    </tr>\n",
       "    <tr>\n",
       "      <th>2012-10-05</th>\n",
       "      <td>0.00</td>\n",
       "      <td>0.0</td>\n",
       "      <td>75.000000</td>\n",
       "      <td>48.070727</td>\n",
       "      <td>4242.545455</td>\n",
       "    </tr>\n",
       "    <tr>\n",
       "      <th>2012-10-06</th>\n",
       "      <td>0.00</td>\n",
       "      <td>0.0</td>\n",
       "      <td>61.652174</td>\n",
       "      <td>40.272957</td>\n",
       "      <td>3256.956522</td>\n",
       "    </tr>\n",
       "    <tr>\n",
       "      <th>...</th>\n",
       "      <td>...</td>\n",
       "      <td>...</td>\n",
       "      <td>...</td>\n",
       "      <td>...</td>\n",
       "      <td>...</td>\n",
       "    </tr>\n",
       "    <tr>\n",
       "      <th>2018-09-26</th>\n",
       "      <td>0.25</td>\n",
       "      <td>0.0</td>\n",
       "      <td>39.833333</td>\n",
       "      <td>51.522500</td>\n",
       "      <td>3692.791667</td>\n",
       "    </tr>\n",
       "    <tr>\n",
       "      <th>2018-09-27</th>\n",
       "      <td>0.50</td>\n",
       "      <td>0.0</td>\n",
       "      <td>61.200000</td>\n",
       "      <td>55.613120</td>\n",
       "      <td>3777.360000</td>\n",
       "    </tr>\n",
       "    <tr>\n",
       "      <th>2018-09-28</th>\n",
       "      <td>0.00</td>\n",
       "      <td>0.0</td>\n",
       "      <td>26.250000</td>\n",
       "      <td>47.189000</td>\n",
       "      <td>3854.916667</td>\n",
       "    </tr>\n",
       "    <tr>\n",
       "      <th>2018-09-29</th>\n",
       "      <td>0.25</td>\n",
       "      <td>0.0</td>\n",
       "      <td>57.360000</td>\n",
       "      <td>40.973360</td>\n",
       "      <td>3049.680000</td>\n",
       "    </tr>\n",
       "    <tr>\n",
       "      <th>2018-09-30</th>\n",
       "      <td>0.25</td>\n",
       "      <td>0.0</td>\n",
       "      <td>85.384615</td>\n",
       "      <td>47.940385</td>\n",
       "      <td>2645.576923</td>\n",
       "    </tr>\n",
       "  </tbody>\n",
       "</table>\n",
       "<p>2190 rows × 5 columns</p>\n",
       "</div>"
      ],
      "text/plain": [
       "            rain_mm  snow_mm  pct_cloud_cover     temp_f  traffic_volume\n",
       "date_time                                                               \n",
       "2012-10-02     0.00      0.0        29.133333  63.056000     4219.266667\n",
       "2012-10-03     0.00      0.0         3.850000  55.874300     3317.250000\n",
       "2012-10-04     0.00      0.0        16.708333  61.173500     3747.458333\n",
       "2012-10-05     0.00      0.0        75.000000  48.070727     4242.545455\n",
       "2012-10-06     0.00      0.0        61.652174  40.272957     3256.956522\n",
       "...             ...      ...              ...        ...             ...\n",
       "2018-09-26     0.25      0.0        39.833333  51.522500     3692.791667\n",
       "2018-09-27     0.50      0.0        61.200000  55.613120     3777.360000\n",
       "2018-09-28     0.00      0.0        26.250000  47.189000     3854.916667\n",
       "2018-09-29     0.25      0.0        57.360000  40.973360     3049.680000\n",
       "2018-09-30     0.25      0.0        85.384615  47.940385     2645.576923\n",
       "\n",
       "[2190 rows x 5 columns]"
      ]
     },
     "execution_count": 15,
     "metadata": {},
     "output_type": "execute_result"
    },
    {
     "name": "stdout",
     "output_type": "stream",
     "text": [
      "time: 16 ms (started: 2023-04-05 14:20:45 -06:00)\n"
     ]
    }
   ],
   "source": [
    "df_daily"
   ]
  },
  {
   "cell_type": "code",
   "execution_count": 16,
   "metadata": {},
   "outputs": [
    {
     "data": {
      "image/png": "[encoded data removed]",
      "text/plain": [
       "<Figure size 864x576 with 1 Axes>"
      ]
     },
     "metadata": {},
     "output_type": "display_data"
    },
    {
     "name": "stdout",
     "output_type": "stream",
     "text": [
      "time: 250 ms (started: 2023-04-05 14:20:45 -06:00)\n"
     ]
    }
   ],
   "source": [
    "fig, ax = plt.subplots(figsize=(12,8))\n",
    "plt.plot(df_daily['snow_mm'], color = \"black\", label='Temp');"
   ]
  },
  {
   "cell_type": "code",
   "execution_count": 17,
   "metadata": {},
   "outputs": [
    {
     "data": {
      "text/plain": [
       "rain_mm              0\n",
       "snow_mm              0\n",
       "pct_cloud_cover    330\n",
       "temp_f             330\n",
       "traffic_volume     330\n",
       "dtype: int64"
      ]
     },
     "execution_count": 17,
     "metadata": {},
     "output_type": "execute_result"
    },
    {
     "name": "stdout",
     "output_type": "stream",
     "text": [
      "time: 16 ms (started: 2023-04-05 14:20:45 -06:00)\n"
     ]
    }
   ],
   "source": [
    "df_daily.isna().sum()"
   ]
  },
  {
   "cell_type": "code",
   "execution_count": 18,
   "metadata": {},
   "outputs": [
    {
     "name": "stdout",
     "output_type": "stream",
     "text": [
      "time: 15 ms (started: 2023-04-05 14:20:45 -06:00)\n"
     ]
    }
   ],
   "source": [
    "df_daily['temp_f'] = df_daily['temp_f'].interpolate()"
   ]
  },
  {
   "cell_type": "code",
   "execution_count": 19,
   "metadata": {},
   "outputs": [
    {
     "data": {
      "text/plain": [
       "rain_mm              0\n",
       "snow_mm              0\n",
       "pct_cloud_cover    330\n",
       "temp_f               0\n",
       "traffic_volume     330\n",
       "dtype: int64"
      ]
     },
     "execution_count": 19,
     "metadata": {},
     "output_type": "execute_result"
    },
    {
     "name": "stdout",
     "output_type": "stream",
     "text": [
      "time: 16 ms (started: 2023-04-05 14:20:45 -06:00)\n"
     ]
    }
   ],
   "source": [
    "df_daily.isna().sum()"
   ]
  },
  {
   "cell_type": "code",
   "execution_count": 20,
   "metadata": {},
   "outputs": [
    {
     "data": {
      "text/html": [
       "<div>\n",
       "<style scoped>\n",
       "    .dataframe tbody tr th:only-of-type {\n",
       "        vertical-align: middle;\n",
       "    }\n",
       "\n",
       "    .dataframe tbody tr th {\n",
       "        vertical-align: top;\n",
       "    }\n",
       "\n",
       "    .dataframe thead th {\n",
       "        text-align: right;\n",
       "    }\n",
       "</style>\n",
       "<table border=\"1\" class=\"dataframe\">\n",
       "  <thead>\n",
       "    <tr style=\"text-align: right;\">\n",
       "      <th></th>\n",
       "      <th>rain_mm</th>\n",
       "      <th>snow_mm</th>\n",
       "      <th>pct_cloud_cover</th>\n",
       "      <th>temp_f</th>\n",
       "      <th>traffic_volume</th>\n",
       "    </tr>\n",
       "    <tr>\n",
       "      <th>date_time</th>\n",
       "      <th></th>\n",
       "      <th></th>\n",
       "      <th></th>\n",
       "      <th></th>\n",
       "      <th></th>\n",
       "    </tr>\n",
       "  </thead>\n",
       "  <tbody>\n",
       "    <tr>\n",
       "      <th>2014-10-01</th>\n",
       "      <td>0.0</td>\n",
       "      <td>0.0</td>\n",
       "      <td>NaN</td>\n",
       "      <td>65.889773</td>\n",
       "      <td>NaN</td>\n",
       "    </tr>\n",
       "    <tr>\n",
       "      <th>2014-10-02</th>\n",
       "      <td>0.0</td>\n",
       "      <td>0.0</td>\n",
       "      <td>NaN</td>\n",
       "      <td>65.858528</td>\n",
       "      <td>NaN</td>\n",
       "    </tr>\n",
       "    <tr>\n",
       "      <th>2014-10-03</th>\n",
       "      <td>0.0</td>\n",
       "      <td>0.0</td>\n",
       "      <td>NaN</td>\n",
       "      <td>65.827283</td>\n",
       "      <td>NaN</td>\n",
       "    </tr>\n",
       "    <tr>\n",
       "      <th>2014-10-04</th>\n",
       "      <td>0.0</td>\n",
       "      <td>0.0</td>\n",
       "      <td>NaN</td>\n",
       "      <td>65.796038</td>\n",
       "      <td>NaN</td>\n",
       "    </tr>\n",
       "    <tr>\n",
       "      <th>2014-10-05</th>\n",
       "      <td>0.0</td>\n",
       "      <td>0.0</td>\n",
       "      <td>NaN</td>\n",
       "      <td>65.764793</td>\n",
       "      <td>NaN</td>\n",
       "    </tr>\n",
       "    <tr>\n",
       "      <th>...</th>\n",
       "      <td>...</td>\n",
       "      <td>...</td>\n",
       "      <td>...</td>\n",
       "      <td>...</td>\n",
       "      <td>...</td>\n",
       "    </tr>\n",
       "    <tr>\n",
       "      <th>2014-12-28</th>\n",
       "      <td>0.0</td>\n",
       "      <td>0.0</td>\n",
       "      <td>NaN</td>\n",
       "      <td>63.140217</td>\n",
       "      <td>NaN</td>\n",
       "    </tr>\n",
       "    <tr>\n",
       "      <th>2014-12-29</th>\n",
       "      <td>0.0</td>\n",
       "      <td>0.0</td>\n",
       "      <td>NaN</td>\n",
       "      <td>63.108972</td>\n",
       "      <td>NaN</td>\n",
       "    </tr>\n",
       "    <tr>\n",
       "      <th>2014-12-30</th>\n",
       "      <td>0.0</td>\n",
       "      <td>0.0</td>\n",
       "      <td>NaN</td>\n",
       "      <td>63.077727</td>\n",
       "      <td>NaN</td>\n",
       "    </tr>\n",
       "    <tr>\n",
       "      <th>2014-12-31</th>\n",
       "      <td>0.0</td>\n",
       "      <td>0.0</td>\n",
       "      <td>NaN</td>\n",
       "      <td>63.046482</td>\n",
       "      <td>NaN</td>\n",
       "    </tr>\n",
       "    <tr>\n",
       "      <th>2015-01-01</th>\n",
       "      <td>0.0</td>\n",
       "      <td>0.0</td>\n",
       "      <td>NaN</td>\n",
       "      <td>63.015237</td>\n",
       "      <td>NaN</td>\n",
       "    </tr>\n",
       "  </tbody>\n",
       "</table>\n",
       "<p>93 rows × 5 columns</p>\n",
       "</div>"
      ],
      "text/plain": [
       "            rain_mm  snow_mm  pct_cloud_cover     temp_f  traffic_volume\n",
       "date_time                                                               \n",
       "2014-10-01      0.0      0.0              NaN  65.889773             NaN\n",
       "2014-10-02      0.0      0.0              NaN  65.858528             NaN\n",
       "2014-10-03      0.0      0.0              NaN  65.827283             NaN\n",
       "2014-10-04      0.0      0.0              NaN  65.796038             NaN\n",
       "2014-10-05      0.0      0.0              NaN  65.764793             NaN\n",
       "...             ...      ...              ...        ...             ...\n",
       "2014-12-28      0.0      0.0              NaN  63.140217             NaN\n",
       "2014-12-29      0.0      0.0              NaN  63.108972             NaN\n",
       "2014-12-30      0.0      0.0              NaN  63.077727             NaN\n",
       "2014-12-31      0.0      0.0              NaN  63.046482             NaN\n",
       "2015-01-01      0.0      0.0              NaN  63.015237             NaN\n",
       "\n",
       "[93 rows x 5 columns]"
      ]
     },
     "execution_count": 20,
     "metadata": {},
     "output_type": "execute_result"
    },
    {
     "name": "stdout",
     "output_type": "stream",
     "text": [
      "time: 16 ms (started: 2023-04-05 14:20:45 -06:00)\n"
     ]
    }
   ],
   "source": [
    "df_daily['2014-10-01':'2015-01-01']"
   ]
  },
  {
   "cell_type": "code",
   "execution_count": null,
   "metadata": {},
   "outputs": [],
   "source": []
  }
 ],
 "metadata": {
  "celltoolbar": "Create Assignment",
  "kernelspec": {
   "display_name": "Python (learn-env)",
   "language": "python",
   "name": "learn-env"
  },
  "language_info": {
   "codemirror_mode": {
    "name": "ipython",
    "version": 3
   },
   "file_extension": ".py",
   "mimetype": "text/x-python",
   "name": "python",
   "nbconvert_exporter": "python",
   "pygments_lexer": "ipython3",
   "version": "3.8.5"
  },
  "toc": {
   "base_numbering": 1,
   "nav_menu": {},
   "number_sections": true,
   "sideBar": true,
   "skip_h1_title": false,
   "title_cell": "Table of Contents",
   "title_sidebar": "Contents",
   "toc_cell": false,
   "toc_position": {},
   "toc_section_display": true,
   "toc_window_display": false
  }
 },
 "nbformat": 4,
 "nbformat_minor": 4
}
